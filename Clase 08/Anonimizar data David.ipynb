{
 "cells": [
  {
   "attachments": {},
   "cell_type": "markdown",
   "metadata": {},
   "source": [
    "# 1. Faker"
   ]
  },
  {
   "cell_type": "code",
   "execution_count": 1,
   "metadata": {},
   "outputs": [
    {
     "data": {
      "text/html": [
       "<div>\n",
       "<style scoped>\n",
       "    .dataframe tbody tr th:only-of-type {\n",
       "        vertical-align: middle;\n",
       "    }\n",
       "\n",
       "    .dataframe tbody tr th {\n",
       "        vertical-align: top;\n",
       "    }\n",
       "\n",
       "    .dataframe thead th {\n",
       "        text-align: right;\n",
       "    }\n",
       "</style>\n",
       "<table border=\"1\" class=\"dataframe\">\n",
       "  <thead>\n",
       "    <tr style=\"text-align: right;\">\n",
       "      <th></th>\n",
       "      <th>Name</th>\n",
       "      <th>Age</th>\n",
       "      <th>Email</th>\n",
       "      <th>Phone</th>\n",
       "    </tr>\n",
       "  </thead>\n",
       "  <tbody>\n",
       "    <tr>\n",
       "      <th>0</th>\n",
       "      <td>John</td>\n",
       "      <td>25</td>\n",
       "      <td>john@example.com</td>\n",
       "      <td>555-1234</td>\n",
       "    </tr>\n",
       "    <tr>\n",
       "      <th>1</th>\n",
       "      <td>Jane</td>\n",
       "      <td>30</td>\n",
       "      <td>jane@example.com</td>\n",
       "      <td>555-5678</td>\n",
       "    </tr>\n",
       "    <tr>\n",
       "      <th>2</th>\n",
       "      <td>Bob</td>\n",
       "      <td>35</td>\n",
       "      <td>bob@example.com</td>\n",
       "      <td>555-9012</td>\n",
       "    </tr>\n",
       "    <tr>\n",
       "      <th>3</th>\n",
       "      <td>Alice</td>\n",
       "      <td>40</td>\n",
       "      <td>alice@example.com</td>\n",
       "      <td>555-3456</td>\n",
       "    </tr>\n",
       "  </tbody>\n",
       "</table>\n",
       "</div>"
      ],
      "text/plain": [
       "    Name  Age              Email     Phone\n",
       "0   John   25   john@example.com  555-1234\n",
       "1   Jane   30   jane@example.com  555-5678\n",
       "2    Bob   35    bob@example.com  555-9012\n",
       "3  Alice   40  alice@example.com  555-3456"
      ]
     },
     "execution_count": 1,
     "metadata": {},
     "output_type": "execute_result"
    }
   ],
   "source": [
    "import pandas as pd\n",
    "from faker import Faker\n",
    "\n",
    "# Create a Faker object\n",
    "fake = Faker()\n",
    "\n",
    "# Create a sample dataframe\n",
    "df = pd.DataFrame({\n",
    "    'Name': ['John', 'Jane', 'Bob', 'Alice'],\n",
    "    'Age': [25, 30, 35, 40],\n",
    "    'Email': ['john@example.com', 'jane@example.com', 'bob@example.com', 'alice@example.com'],\n",
    "    'Phone': ['555-1234', '555-5678', '555-9012', '555-3456']\n",
    "})\n",
    "df.head()"
   ]
  },
  {
   "cell_type": "code",
   "execution_count": 2,
   "metadata": {},
   "outputs": [
    {
     "data": {
      "text/html": [
       "<div>\n",
       "<style scoped>\n",
       "    .dataframe tbody tr th:only-of-type {\n",
       "        vertical-align: middle;\n",
       "    }\n",
       "\n",
       "    .dataframe tbody tr th {\n",
       "        vertical-align: top;\n",
       "    }\n",
       "\n",
       "    .dataframe thead th {\n",
       "        text-align: right;\n",
       "    }\n",
       "</style>\n",
       "<table border=\"1\" class=\"dataframe\">\n",
       "  <thead>\n",
       "    <tr style=\"text-align: right;\">\n",
       "      <th></th>\n",
       "      <th>Name</th>\n",
       "      <th>Age</th>\n",
       "      <th>Email</th>\n",
       "      <th>Phone</th>\n",
       "    </tr>\n",
       "  </thead>\n",
       "  <tbody>\n",
       "    <tr>\n",
       "      <th>0</th>\n",
       "      <td>Timothy Adams</td>\n",
       "      <td>33</td>\n",
       "      <td>samantha15@example.com</td>\n",
       "      <td>April Wood</td>\n",
       "    </tr>\n",
       "    <tr>\n",
       "      <th>1</th>\n",
       "      <td>Nicholas Lopez</td>\n",
       "      <td>57</td>\n",
       "      <td>smithpaul@example.net</td>\n",
       "      <td>Devon Harvey</td>\n",
       "    </tr>\n",
       "    <tr>\n",
       "      <th>2</th>\n",
       "      <td>Veronica Martinez</td>\n",
       "      <td>21</td>\n",
       "      <td>millerdonald@example.org</td>\n",
       "      <td>Natalie Strickland</td>\n",
       "    </tr>\n",
       "    <tr>\n",
       "      <th>3</th>\n",
       "      <td>James White</td>\n",
       "      <td>25</td>\n",
       "      <td>leah33@example.com</td>\n",
       "      <td>Alexander Wright</td>\n",
       "    </tr>\n",
       "  </tbody>\n",
       "</table>\n",
       "</div>"
      ],
      "text/plain": [
       "                Name  Age                     Email               Phone\n",
       "0      Timothy Adams   33    samantha15@example.com          April Wood\n",
       "1     Nicholas Lopez   57     smithpaul@example.net        Devon Harvey\n",
       "2  Veronica Martinez   21  millerdonald@example.org  Natalie Strickland\n",
       "3        James White   25        leah33@example.com    Alexander Wright"
      ]
     },
     "execution_count": 2,
     "metadata": {},
     "output_type": "execute_result"
    }
   ],
   "source": [
    "def anonymize_df(df):\n",
    "    # Ciclo para pasar por cada columna \n",
    "    for col in df.columns:\n",
    "        # Verificar si es string \n",
    "        if df[col].dtype == 'object':\n",
    "            # Reemplazar con fake data\n",
    "            df[col] = df[col].apply(lambda x: fake.name() if '@' not in x else fake.email())\n",
    "        # Verificar si es entero\n",
    "        elif df[col].dtype in ['int64','int32']:\n",
    "            # Reemplazar con enteros random\n",
    "            df[col] = df[col].apply(lambda x: fake.random_int(min=18, max=80))\n",
    "        # Verificar si es flotante\n",
    "        elif df[col].dtype in ['float64','float32']:\n",
    "            # Reemplzar con flotantes random\n",
    "            df[col] = df[col].apply(lambda x: fake.random.uniform(0, 1))\n",
    "        # Verificar si es booleano\n",
    "        elif df[col].dtype == 'bool':\n",
    "            # Reemplazar con random booleanos\n",
    "            df[col] = df[col].apply(lambda x: fake.boolean())\n",
    "    return df\n",
    "\n",
    "# Anonimizar el dataset\n",
    "df_anon = anonymize_df(df)\n",
    "df_anon"
   ]
  },
  {
   "attachments": {},
   "cell_type": "markdown",
   "metadata": {},
   "source": [
    "# 2. anonympy"
   ]
  },
  {
   "cell_type": "code",
   "execution_count": null,
   "metadata": {},
   "outputs": [],
   "source": [
    "!pip install anonympy"
   ]
  },
  {
   "cell_type": "code",
   "execution_count": null,
   "metadata": {},
   "outputs": [],
   "source": [
    "!pip install cape-privacy==0.3.0 --no-deps"
   ]
  },
  {
   "cell_type": "code",
   "execution_count": 1,
   "metadata": {},
   "outputs": [
    {
     "data": {
      "text/html": [
       "<div>\n",
       "<style scoped>\n",
       "    .dataframe tbody tr th:only-of-type {\n",
       "        vertical-align: middle;\n",
       "    }\n",
       "\n",
       "    .dataframe tbody tr th {\n",
       "        vertical-align: top;\n",
       "    }\n",
       "\n",
       "    .dataframe thead th {\n",
       "        text-align: right;\n",
       "    }\n",
       "</style>\n",
       "<table border=\"1\" class=\"dataframe\">\n",
       "  <thead>\n",
       "    <tr style=\"text-align: right;\">\n",
       "      <th></th>\n",
       "      <th>first_name</th>\n",
       "      <th>address</th>\n",
       "      <th>city</th>\n",
       "      <th>postal</th>\n",
       "      <th>phone</th>\n",
       "      <th>email</th>\n",
       "      <th>web</th>\n",
       "      <th>salary</th>\n",
       "      <th>birthdate</th>\n",
       "      <th>age</th>\n",
       "    </tr>\n",
       "  </thead>\n",
       "  <tbody>\n",
       "    <tr>\n",
       "      <th>0</th>\n",
       "      <td>Aleshia</td>\n",
       "      <td>14 Taylor St</td>\n",
       "      <td>St. Stephens Ward</td>\n",
       "      <td>CT2 7PP</td>\n",
       "      <td>01835-703597</td>\n",
       "      <td>atomkiewicz@hotmail.com</td>\n",
       "      <td>http://www.alandrosenburgcpapc.co.uk</td>\n",
       "      <td>46391</td>\n",
       "      <td>2000-12-23 15:09:18.117475200</td>\n",
       "      <td>21</td>\n",
       "    </tr>\n",
       "    <tr>\n",
       "      <th>1</th>\n",
       "      <td>Evan</td>\n",
       "      <td>5 Binney St</td>\n",
       "      <td>Abbey Ward</td>\n",
       "      <td>HP11 2AX</td>\n",
       "      <td>01937-864715</td>\n",
       "      <td>evan.zigomalas@gmail.com</td>\n",
       "      <td>http://www.capgeminiamerica.co.uk</td>\n",
       "      <td>30798</td>\n",
       "      <td>2004-04-22 04:09:51.325948800</td>\n",
       "      <td>17</td>\n",
       "    </tr>\n",
       "    <tr>\n",
       "      <th>2</th>\n",
       "      <td>France</td>\n",
       "      <td>8 Moor Place</td>\n",
       "      <td>East Southbourne and Tuckton W</td>\n",
       "      <td>BH6 3BE</td>\n",
       "      <td>01347-368222</td>\n",
       "      <td>france.andrade@hotmail.com</td>\n",
       "      <td>http://www.elliottjohnwesq.co.uk</td>\n",
       "      <td>32384</td>\n",
       "      <td>2002-01-21 18:56:29.090025600</td>\n",
       "      <td>19</td>\n",
       "    </tr>\n",
       "    <tr>\n",
       "      <th>3</th>\n",
       "      <td>Ulysses</td>\n",
       "      <td>505 Exeter Rd</td>\n",
       "      <td>Hawerby cum Beesby</td>\n",
       "      <td>DN36 5RP</td>\n",
       "      <td>01912-771311</td>\n",
       "      <td>ulysses@hotmail.com</td>\n",
       "      <td>http://www.mcmahanbenl.co.uk</td>\n",
       "      <td>39298</td>\n",
       "      <td>2000-11-24 21:59:48.621840000</td>\n",
       "      <td>21</td>\n",
       "    </tr>\n",
       "    <tr>\n",
       "      <th>4</th>\n",
       "      <td>Tyisha</td>\n",
       "      <td>5396 Forth Street</td>\n",
       "      <td>Greets Green and Lyng Ward</td>\n",
       "      <td>B70 9DT</td>\n",
       "      <td>01547-429341</td>\n",
       "      <td>tyisha.veness@hotmail.com</td>\n",
       "      <td>http://www.champagneroom.co.uk</td>\n",
       "      <td>41630</td>\n",
       "      <td>1998-06-23 05:19:37.687008000</td>\n",
       "      <td>23</td>\n",
       "    </tr>\n",
       "  </tbody>\n",
       "</table>\n",
       "</div>"
      ],
      "text/plain": [
       "  first_name            address                            city    postal  \\\n",
       "0    Aleshia       14 Taylor St               St. Stephens Ward   CT2 7PP   \n",
       "1       Evan        5 Binney St                      Abbey Ward  HP11 2AX   \n",
       "2     France       8 Moor Place  East Southbourne and Tuckton W   BH6 3BE   \n",
       "3    Ulysses      505 Exeter Rd              Hawerby cum Beesby  DN36 5RP   \n",
       "4     Tyisha  5396 Forth Street      Greets Green and Lyng Ward   B70 9DT   \n",
       "\n",
       "          phone                       email  \\\n",
       "0  01835-703597     atomkiewicz@hotmail.com   \n",
       "1  01937-864715    evan.zigomalas@gmail.com   \n",
       "2  01347-368222  france.andrade@hotmail.com   \n",
       "3  01912-771311         ulysses@hotmail.com   \n",
       "4  01547-429341   tyisha.veness@hotmail.com   \n",
       "\n",
       "                                    web  salary                     birthdate  \\\n",
       "0  http://www.alandrosenburgcpapc.co.uk   46391 2000-12-23 15:09:18.117475200   \n",
       "1     http://www.capgeminiamerica.co.uk   30798 2004-04-22 04:09:51.325948800   \n",
       "2      http://www.elliottjohnwesq.co.uk   32384 2002-01-21 18:56:29.090025600   \n",
       "3          http://www.mcmahanbenl.co.uk   39298 2000-11-24 21:59:48.621840000   \n",
       "4        http://www.champagneroom.co.uk   41630 1998-06-23 05:19:37.687008000   \n",
       "\n",
       "   age  \n",
       "0   21  \n",
       "1   17  \n",
       "2   19  \n",
       "3   21  \n",
       "4   23  "
      ]
     },
     "execution_count": 1,
     "metadata": {},
     "output_type": "execute_result"
    }
   ],
   "source": [
    "import pandas as pd\n",
    "\n",
    "url = r'https://raw.githubusercontent.com/ArtLabss/open-data-anonimizer/0287f675a535101f145cb975baf361a96ff71ed3/examples/files/new.csv'\n",
    "df = pd.read_csv(url, parse_dates=['birthdate'])\n",
    "df.head()"
   ]
  },
  {
   "cell_type": "code",
   "execution_count": 2,
   "metadata": {},
   "outputs": [
    {
     "name": "stderr",
     "output_type": "stream",
     "text": [
      "C:\\Users\\Windows\\AppData\\Local\\Packages\\PythonSoftwareFoundation.Python.3.10_qbz5n2kfra8p0\\LocalCache\\local-packages\\Python310\\site-packages\\tqdm\\auto.py:22: TqdmWarning: IProgress not found. Please update jupyter and ipywidgets. See https://ipywidgets.readthedocs.io/en/stable/user_install.html\n",
      "  from .autonotebook import tqdm as notebook_tqdm\n"
     ]
    }
   ],
   "source": [
    "from anonympy.pandas import dfAnonymizer \n",
    "anonym = dfAnonymizer(df)"
   ]
  },
  {
   "cell_type": "code",
   "execution_count": 3,
   "metadata": {},
   "outputs": [
    {
     "name": "stdout",
     "output_type": "stream",
     "text": [
      "['salary', 'age']\n",
      "['first_name', 'address', 'city', 'postal', 'phone', 'email', 'web']\n",
      "['birthdate']\n"
     ]
    }
   ],
   "source": [
    "# chequear tipos datos\n",
    "print(anonym.numeric_columns) \n",
    "print(anonym.categorical_columns) \n",
    "print(anonym.datetime_columns) "
   ]
  },
  {
   "cell_type": "code",
   "execution_count": 4,
   "metadata": {},
   "outputs": [
    {
     "name": "stdout",
     "output_type": "stream",
     "text": [
      "`numeric`:\n",
      "        * Perturbation - \"numeric_noise\"\n",
      "        * Binning - \"numeric_binning\"\n",
      "        * PCA Masking - \"numeric_masking\"\n",
      "        * Rounding - \"numeric_rounding\"\n",
      "\n",
      "`categorical`:\n",
      "        * Synthetic Data - \"categorical_fake\"\n",
      "        * Synthetic Data Auto - \"categorical_fake_auto\"\n",
      "        * Resampling from same Distribution - \"categorical_resampling\"\n",
      "        * Tokenazation - \"categorical_tokenization\"\n",
      "        * Email Masking - \"categorical_email_masking\"\n",
      "\n",
      "`datetime`:\n",
      "        * Synthetic Date - \"datetime_fake\"\n",
      "        * Perturbation - \"datetime_noise\"\n",
      "\n",
      "`general`:\n",
      "        * Drop Column - \"column_suppression\"\n",
      "        \n",
      "None\n"
     ]
    }
   ],
   "source": [
    "#Metodos disponibles\n",
    "from anonympy.pandas.utils_pandas import available_methods\n",
    "print(available_methods())"
   ]
  },
  {
   "cell_type": "code",
   "execution_count": 5,
   "metadata": {},
   "outputs": [],
   "source": [
    "anonym.numeric_noise('age')   \n",
    "anonym.numeric_rounding('salary')  \n",
    "anonym.categorical_email_masking('email') "
   ]
  },
  {
   "attachments": {},
   "cell_type": "markdown",
   "metadata": {},
   "source": [
    "O en una sola linea\n",
    "```python\n",
    "anonym.anonymize({'age':'numeric_noise',                      \n",
    "                    'salary':'numeric_rounding',                      \n",
    "                    'email':'categorical_email_masking'})\n",
    "```"
   ]
  },
  {
   "cell_type": "code",
   "execution_count": 6,
   "metadata": {},
   "outputs": [
    {
     "name": "stdout",
     "output_type": "stream",
     "text": [
      "+------------+--------+-------------+---------------------------+\n",
      "|   Column   | Status |    Type     |          Method           |\n",
      "+============+========+=============+===========================+\n",
      "| first_name | 0      | categorical |                           |\n",
      "+------------+--------+-------------+---------------------------+\n",
      "| address    | 0      | categorical |                           |\n",
      "+------------+--------+-------------+---------------------------+\n",
      "| city       | 0      | categorical |                           |\n",
      "+------------+--------+-------------+---------------------------+\n",
      "| postal     | 0      | categorical |                           |\n",
      "+------------+--------+-------------+---------------------------+\n",
      "| phone      | 0      | categorical |                           |\n",
      "+------------+--------+-------------+---------------------------+\n",
      "| email      | 1      | categorical | Partial Masking           |\n",
      "+------------+--------+-------------+---------------------------+\n",
      "| web        | 0      | categorical |                           |\n",
      "+------------+--------+-------------+---------------------------+\n",
      "| salary     | 1      | numeric     | Generalization - Rounding |\n",
      "+------------+--------+-------------+---------------------------+\n",
      "| birthdate  | 0      | datetime    |                           |\n",
      "+------------+--------+-------------+---------------------------+\n",
      "| age        | 1      | numeric     | Numeric Perturbation      |\n",
      "+------------+--------+-------------+---------------------------+\n"
     ]
    }
   ],
   "source": [
    "anonym.info()"
   ]
  },
  {
   "cell_type": "code",
   "execution_count": 9,
   "metadata": {},
   "outputs": [
    {
     "name": "stdout",
     "output_type": "stream",
     "text": [
      " factories, file_extension, file_name,file_path,firefox, first_name,first_name_female, first_name_male,first_name_nonbinary,fixed_width, format,free_email, free_email_domain, future_date, future_datetime\n",
      "None\n"
     ]
    }
   ],
   "source": [
    "from anonympy.pandas.utils_pandas import fake_methods\n",
    "\n",
    "print(fake_methods('f')) # agrs: None / 'all' / any letter  "
   ]
  },
  {
   "cell_type": "code",
   "execution_count": 7,
   "metadata": {},
   "outputs": [],
   "source": [
    "anonym.categorical_fake('first_name') "
   ]
  },
  {
   "cell_type": "code",
   "execution_count": 8,
   "metadata": {},
   "outputs": [
    {
     "name": "stdout",
     "output_type": "stream",
     "text": [
      "`first_name` column already anonymized!\n",
      "`email` column already anonymized!\n"
     ]
    }
   ],
   "source": [
    "anonym.categorical_fake_auto() # esto cambiara `address` y `city` \n",
    "anonym.categorical_fake({'web': 'url', 'phone': 'phone_number'}) "
   ]
  },
  {
   "cell_type": "code",
   "execution_count": 9,
   "metadata": {},
   "outputs": [],
   "source": [
    "anonym.datetime_noise('birthdate')"
   ]
  },
  {
   "cell_type": "code",
   "execution_count": 10,
   "metadata": {},
   "outputs": [
    {
     "data": {
      "text/plain": [
       "+---------------------------------------+\n",
       "|      Total number of columns: 10      |\n",
       "+=======================================+\n",
       "| Anonymized Column -> Method:          |\n",
       "| - age -> Numeric Perturbation         |\n",
       "| - salary -> Generalization - Rounding |\n",
       "| - email -> Partial Masking            |\n",
       "| - first_name -> Synthetic Data        |\n",
       "| - address -> Synthetic Data           |\n",
       "| - city -> Synthetic Data              |\n",
       "| - web -> Synthetic Data               |\n",
       "| - phone -> Synthetic Data             |\n",
       "| - birthdate -> Datetime Perturbation  |\n",
       "+---------------------------------------+\n",
       "| Unanonymized Columns:                 |\n",
       "| - postal                              |\n",
       "+---------------------------------------+"
      ]
     },
     "execution_count": 10,
     "metadata": {},
     "output_type": "execute_result"
    }
   ],
   "source": [
    "anonym"
   ]
  },
  {
   "cell_type": "code",
   "execution_count": 11,
   "metadata": {},
   "outputs": [
    {
     "data": {
      "text/html": [
       "<div>\n",
       "<style scoped>\n",
       "    .dataframe tbody tr th:only-of-type {\n",
       "        vertical-align: middle;\n",
       "    }\n",
       "\n",
       "    .dataframe tbody tr th {\n",
       "        vertical-align: top;\n",
       "    }\n",
       "\n",
       "    .dataframe thead th {\n",
       "        text-align: right;\n",
       "    }\n",
       "</style>\n",
       "<table border=\"1\" class=\"dataframe\">\n",
       "  <thead>\n",
       "    <tr style=\"text-align: right;\">\n",
       "      <th></th>\n",
       "      <th>first_name</th>\n",
       "      <th>address</th>\n",
       "      <th>city</th>\n",
       "      <th>postal</th>\n",
       "      <th>phone</th>\n",
       "      <th>email</th>\n",
       "      <th>web</th>\n",
       "      <th>salary</th>\n",
       "      <th>birthdate</th>\n",
       "      <th>age</th>\n",
       "    </tr>\n",
       "  </thead>\n",
       "  <tbody>\n",
       "    <tr>\n",
       "      <th>0</th>\n",
       "      <td>Thomas</td>\n",
       "      <td>745 Gross Road Apt. 296\\nWest Matthew, AR 54492</td>\n",
       "      <td>Scottview</td>\n",
       "      <td>CT2 7PP</td>\n",
       "      <td>650.029.5700x8031</td>\n",
       "      <td>a*****z@hotmail.com</td>\n",
       "      <td>https://willis.com/</td>\n",
       "      <td>50000</td>\n",
       "      <td>2001-07-25 15:09:18.117475200</td>\n",
       "      <td>13</td>\n",
       "    </tr>\n",
       "    <tr>\n",
       "      <th>1</th>\n",
       "      <td>Julie</td>\n",
       "      <td>73973 Justin Ridge Apt. 479\\nWest Jenniferbury...</td>\n",
       "      <td>Castillochester</td>\n",
       "      <td>HP11 2AX</td>\n",
       "      <td>001-849-473-1406x412</td>\n",
       "      <td>e*****s@gmail.com</td>\n",
       "      <td>http://powers.biz/</td>\n",
       "      <td>30000</td>\n",
       "      <td>2004-05-20 04:09:51.325948800</td>\n",
       "      <td>20</td>\n",
       "    </tr>\n",
       "    <tr>\n",
       "      <th>2</th>\n",
       "      <td>Brandon</td>\n",
       "      <td>7742 Amanda Square\\nEast Erika, AZ 99118</td>\n",
       "      <td>West Austin</td>\n",
       "      <td>BH6 3BE</td>\n",
       "      <td>324.937.2814</td>\n",
       "      <td>f*****e@hotmail.com</td>\n",
       "      <td>https://www.reid.com/</td>\n",
       "      <td>30000</td>\n",
       "      <td>2001-10-22 18:56:29.090025600</td>\n",
       "      <td>15</td>\n",
       "    </tr>\n",
       "    <tr>\n",
       "      <th>3</th>\n",
       "      <td>John</td>\n",
       "      <td>31502 Raymond Coves Apt. 393\\nSouth Danielton,...</td>\n",
       "      <td>Davischester</td>\n",
       "      <td>DN36 5RP</td>\n",
       "      <td>330-771-8935x84031</td>\n",
       "      <td>u*****s@hotmail.com</td>\n",
       "      <td>http://hernandez.org/</td>\n",
       "      <td>40000</td>\n",
       "      <td>2001-08-21 21:59:48.621840000</td>\n",
       "      <td>27</td>\n",
       "    </tr>\n",
       "    <tr>\n",
       "      <th>4</th>\n",
       "      <td>Anna</td>\n",
       "      <td>53741 Thomas Junction Suite 458\\nWest Eugenesi...</td>\n",
       "      <td>Michaeltown</td>\n",
       "      <td>B70 9DT</td>\n",
       "      <td>719.039.9052x393</td>\n",
       "      <td>t*****s@hotmail.com</td>\n",
       "      <td>https://www.armstrong.com/</td>\n",
       "      <td>40000</td>\n",
       "      <td>1997-08-26 05:19:37.687008000</td>\n",
       "      <td>21</td>\n",
       "    </tr>\n",
       "    <tr>\n",
       "      <th>...</th>\n",
       "      <td>...</td>\n",
       "      <td>...</td>\n",
       "      <td>...</td>\n",
       "      <td>...</td>\n",
       "      <td>...</td>\n",
       "      <td>...</td>\n",
       "      <td>...</td>\n",
       "      <td>...</td>\n",
       "      <td>...</td>\n",
       "      <td>...</td>\n",
       "    </tr>\n",
       "    <tr>\n",
       "      <th>495</th>\n",
       "      <td>Amy</td>\n",
       "      <td>7955 Miller Alley Suite 458\\nNorth Michael, PR...</td>\n",
       "      <td>South Benjaminberg</td>\n",
       "      <td>SW1W 8JY</td>\n",
       "      <td>+1-529-225-6545x7178</td>\n",
       "      <td>a*****y@veit.co.uk</td>\n",
       "      <td>https://www.ramos.com/</td>\n",
       "      <td>40000</td>\n",
       "      <td>1996-01-07 16:40:58.379318400</td>\n",
       "      <td>26</td>\n",
       "    </tr>\n",
       "    <tr>\n",
       "      <th>496</th>\n",
       "      <td>Carol</td>\n",
       "      <td>271 Justin Squares Suite 456\\nNorth Jessicafur...</td>\n",
       "      <td>South Brittanybury</td>\n",
       "      <td>IV2 6WT</td>\n",
       "      <td>005-145-4844</td>\n",
       "      <td>r*****i@euresti.co.uk</td>\n",
       "      <td>http://west.info/</td>\n",
       "      <td>40000</td>\n",
       "      <td>1999-10-08 11:23:56.188204800</td>\n",
       "      <td>22</td>\n",
       "    </tr>\n",
       "    <tr>\n",
       "      <th>497</th>\n",
       "      <td>Rebecca</td>\n",
       "      <td>601 Theresa Springs Suite 233\\nWest Lisafurt, ...</td>\n",
       "      <td>Laurieland</td>\n",
       "      <td>S75 5EJ</td>\n",
       "      <td>(442)645-0341x316</td>\n",
       "      <td>c*****g@brenning.co.uk</td>\n",
       "      <td>http://carroll.com/</td>\n",
       "      <td>40000</td>\n",
       "      <td>1997-04-14 22:03:29.331331200</td>\n",
       "      <td>30</td>\n",
       "    </tr>\n",
       "    <tr>\n",
       "      <th>498</th>\n",
       "      <td>Katherine</td>\n",
       "      <td>83052 Coleman Grove\\nPeckside, AS 61863</td>\n",
       "      <td>Miketown</td>\n",
       "      <td>DH8 5LP</td>\n",
       "      <td>(938)389-7081x6244</td>\n",
       "      <td>c*****y@gmail.com</td>\n",
       "      <td>https://cruz-henderson.com/</td>\n",
       "      <td>30000</td>\n",
       "      <td>1995-08-14 21:48:38.237414400</td>\n",
       "      <td>24</td>\n",
       "    </tr>\n",
       "    <tr>\n",
       "      <th>499</th>\n",
       "      <td>Thomas</td>\n",
       "      <td>298 Kari Isle\\nAlyssaton, AS 27909</td>\n",
       "      <td>Lake Kendra</td>\n",
       "      <td>B94 5RZ</td>\n",
       "      <td>078.082.7321</td>\n",
       "      <td>m*****i@hotmail.com</td>\n",
       "      <td>http://www.brown-buck.com/</td>\n",
       "      <td>40000</td>\n",
       "      <td>1999-07-15 20:38:06.739699200</td>\n",
       "      <td>20</td>\n",
       "    </tr>\n",
       "  </tbody>\n",
       "</table>\n",
       "<p>500 rows × 10 columns</p>\n",
       "</div>"
      ],
      "text/plain": [
       "    first_name                                            address  \\\n",
       "0       Thomas    745 Gross Road Apt. 296\\nWest Matthew, AR 54492   \n",
       "1        Julie  73973 Justin Ridge Apt. 479\\nWest Jenniferbury...   \n",
       "2      Brandon           7742 Amanda Square\\nEast Erika, AZ 99118   \n",
       "3         John  31502 Raymond Coves Apt. 393\\nSouth Danielton,...   \n",
       "4         Anna  53741 Thomas Junction Suite 458\\nWest Eugenesi...   \n",
       "..         ...                                                ...   \n",
       "495        Amy  7955 Miller Alley Suite 458\\nNorth Michael, PR...   \n",
       "496      Carol  271 Justin Squares Suite 456\\nNorth Jessicafur...   \n",
       "497    Rebecca  601 Theresa Springs Suite 233\\nWest Lisafurt, ...   \n",
       "498  Katherine            83052 Coleman Grove\\nPeckside, AS 61863   \n",
       "499     Thomas                 298 Kari Isle\\nAlyssaton, AS 27909   \n",
       "\n",
       "                   city    postal                 phone  \\\n",
       "0             Scottview   CT2 7PP     650.029.5700x8031   \n",
       "1       Castillochester  HP11 2AX  001-849-473-1406x412   \n",
       "2           West Austin   BH6 3BE          324.937.2814   \n",
       "3          Davischester  DN36 5RP    330-771-8935x84031   \n",
       "4           Michaeltown   B70 9DT      719.039.9052x393   \n",
       "..                  ...       ...                   ...   \n",
       "495  South Benjaminberg  SW1W 8JY  +1-529-225-6545x7178   \n",
       "496  South Brittanybury   IV2 6WT          005-145-4844   \n",
       "497          Laurieland   S75 5EJ     (442)645-0341x316   \n",
       "498            Miketown   DH8 5LP    (938)389-7081x6244   \n",
       "499         Lake Kendra   B94 5RZ          078.082.7321   \n",
       "\n",
       "                      email                          web  salary  \\\n",
       "0       a*****z@hotmail.com          https://willis.com/   50000   \n",
       "1         e*****s@gmail.com           http://powers.biz/   30000   \n",
       "2       f*****e@hotmail.com        https://www.reid.com/   30000   \n",
       "3       u*****s@hotmail.com        http://hernandez.org/   40000   \n",
       "4       t*****s@hotmail.com   https://www.armstrong.com/   40000   \n",
       "..                      ...                          ...     ...   \n",
       "495      a*****y@veit.co.uk       https://www.ramos.com/   40000   \n",
       "496   r*****i@euresti.co.uk            http://west.info/   40000   \n",
       "497  c*****g@brenning.co.uk          http://carroll.com/   40000   \n",
       "498       c*****y@gmail.com  https://cruz-henderson.com/   30000   \n",
       "499     m*****i@hotmail.com   http://www.brown-buck.com/   40000   \n",
       "\n",
       "                        birthdate  age  \n",
       "0   2001-07-25 15:09:18.117475200   13  \n",
       "1   2004-05-20 04:09:51.325948800   20  \n",
       "2   2001-10-22 18:56:29.090025600   15  \n",
       "3   2001-08-21 21:59:48.621840000   27  \n",
       "4   1997-08-26 05:19:37.687008000   21  \n",
       "..                            ...  ...  \n",
       "495 1996-01-07 16:40:58.379318400   26  \n",
       "496 1999-10-08 11:23:56.188204800   22  \n",
       "497 1997-04-14 22:03:29.331331200   30  \n",
       "498 1995-08-14 21:48:38.237414400   24  \n",
       "499 1999-07-15 20:38:06.739699200   20  \n",
       "\n",
       "[500 rows x 10 columns]"
      ]
     },
     "execution_count": 11,
     "metadata": {},
     "output_type": "execute_result"
    }
   ],
   "source": [
    "anonym._df"
   ]
  },
  {
   "attachments": {},
   "cell_type": "markdown",
   "metadata": {},
   "source": [
    "# 3. Faker-Otros idiomas"
   ]
  },
  {
   "cell_type": "code",
   "execution_count": 12,
   "metadata": {},
   "outputs": [],
   "source": [
    "import csv\n",
    "#from faker import Faker\n",
    "from faker import Factory\n",
    "from collections import defaultdict\n",
    "\n",
    "import pandas as pd"
   ]
  },
  {
   "cell_type": "code",
   "execution_count": 13,
   "metadata": {},
   "outputs": [
    {
     "name": "stdout",
     "output_type": "stream",
     "text": [
      "['ar_AA', 'ar_AE', 'ar_BH', 'ar_EG', 'ar_JO', 'ar_PS', 'ar_SA', 'az_AZ', 'bg_BG', 'bn_BD', 'bs_BA', 'cs_CZ', 'da_DK', 'de', 'de_AT', 'de_CH', 'de_DE', 'dk_DK', 'el_CY', 'el_GR', 'en', 'en_AU', 'en_CA', 'en_GB', 'en_IE', 'en_IN', 'en_NZ', 'en_PH', 'en_TH', 'en_US', 'es', 'es_AR', 'es_CA', 'es_CL', 'es_CO', 'es_ES', 'es_MX', 'et_EE', 'fa_IR', 'fi_FI', 'fil_PH', 'fr_BE', 'fr_CA', 'fr_CH', 'fr_FR', 'fr_QC', 'ga_IE', 'he_IL', 'hi_IN', 'hr_HR', 'hu_HU', 'hy_AM', 'id_ID', 'it_CH', 'it_IT', 'ja_JP', 'ka_GE', 'ko_KR', 'la', 'lb_LU', 'lt_LT', 'lv_LV', 'mt_MT', 'ne_NP', 'nl_BE', 'nl_NL', 'no_NO', 'or_IN', 'pl_PL', 'pt_BR', 'pt_PT', 'ro_RO', 'ru_RU', 'sk_SK', 'sl_SI', 'sq_AL', 'sv_SE', 'ta_IN', 'th', 'th_TH', 'tl_PH', 'tr_TR', 'tw_GH', 'uk_UA', 'vi_VN', 'zh_CN', 'zh_TW']\n"
     ]
    }
   ],
   "source": [
    "from faker.config import AVAILABLE_LOCALES\n",
    "print(AVAILABLE_LOCALES)"
   ]
  },
  {
   "cell_type": "code",
   "execution_count": 14,
   "metadata": {},
   "outputs": [
    {
     "name": "stdout",
     "output_type": "stream",
     "text": [
      "Elizabeth Davis\n",
      "Alexandra Black\n",
      "Brandon Schmidt\n",
      "Robert Sweeney\n",
      "Kaylee Acosta\n",
      "Madeline Stephens\n",
      "Gabrielle Mitchell\n",
      "Tony Singleton\n",
      "George Watson\n",
      "Pamela Bennett DDS\n"
     ]
    }
   ],
   "source": [
    "#Local - Ingles\n",
    "from faker import Faker\n",
    "fake = Faker(['en'])\n",
    "for _ in range(10):\n",
    "    print(fake.name())"
   ]
  },
  {
   "cell_type": "code",
   "execution_count": 15,
   "metadata": {},
   "outputs": [
    {
     "name": "stdout",
     "output_type": "stream",
     "text": [
      "இந்திரகுமார்\n",
      "மணவழகன்\n",
      "வர்ணவதி ஒளியன்\n",
      "ராகவன்\n",
      "அகானா நடேஷ்\n",
      "மகிணன்\n",
      "அக்ஷா\n",
      "தணிகைத்தம்பி\n",
      "ஹேமா\n",
      "வல்லரசு\n"
     ]
    }
   ],
   "source": [
    "#Local - India | Language - Tamil\n",
    "from faker import Faker\n",
    "fake = Faker(['ta_IN'])\n",
    "for _ in range(10):\n",
    "    print(fake.name())"
   ]
  },
  {
   "attachments": {},
   "cell_type": "markdown",
   "metadata": {},
   "source": [
    "# 4. Pseudonymization\n",
    "\n",
    "La Pseudonymization es el proceso de reemplazar datos identificables con seudónimos o alias para proteger la privacidad de las personas y al mismo tiempo mantener la usabilidad de los datos.\n",
    "\n",
    "En este ejemplo, la función pseudonimizar() toma los datos como entrada y utiliza el algoritmo hash SHA-256 del módulo hashlib para seudonimizar los datos. El parámetro de datos se convierte a su representación de cadena mediante .encode(). Luego, la función hashlib.sha256() genera un objeto hash SHA-256. Finalmente, el método hexdigest() devuelve la representación hexadecimal del hash, que sirve como valor seudonimizado."
   ]
  },
  {
   "cell_type": "code",
   "execution_count": 16,
   "metadata": {},
   "outputs": [],
   "source": [
    "import hashlib\n",
    "\n",
    "def pseudonymize(data):\n",
    "    hash_object = hashlib.sha256(data.encode())\n",
    "    pseudonym = hash_object.hexdigest()\n",
    "    return pseudonym"
   ]
  },
  {
   "cell_type": "code",
   "execution_count": 18,
   "metadata": {},
   "outputs": [
    {
     "name": "stdout",
     "output_type": "stream",
     "text": [
      "6cea57c2fb6cbc2a40411135005760f241fffc3e5e67ab99882726431037f908\n"
     ]
    }
   ],
   "source": [
    "name = \"John Doe\"\n",
    "pseudonymized_name = pseudonymize(name)\n",
    "print(pseudonymized_name)"
   ]
  },
  {
   "cell_type": "code",
   "execution_count": 19,
   "metadata": {},
   "outputs": [],
   "source": [
    "import base64\n",
    "from hashlib import blake2b\n",
    "\n",
    "import pandas as pd\n",
    "import requests\n",
    "\n",
    "from faker import Faker\n",
    "\n",
    "def encode(key, clear):\n",
    "    enc = []\n",
    "    for i in range(len(clear)):\n",
    "        key_c = key[i % len(key)]\n",
    "        #print(key_c)\n",
    "        enc_c = (ord(clear[i]) + ord(key_c)) % 256\n",
    "        #print(enc_c)\n",
    "        enc.append(enc_c)\n",
    "    return base64.urlsafe_b64encode(bytes(enc))\n",
    "\n",
    "def decode(key, enc):\n",
    "    dec = []\n",
    "    enc = base64.urlsafe_b64decode(enc)\n",
    "    for i in range(len(enc)):\n",
    "        key_c = key[i % len(key)]\n",
    "        dec_c = chr((256 + enc[i] - ord(key_c)) % 256)\n",
    "        dec.append(dec_c)\n",
    "    return \"\".join(dec)"
   ]
  },
  {
   "cell_type": "code",
   "execution_count": 20,
   "metadata": {},
   "outputs": [
    {
     "data": {
      "text/html": [
       "<div>\n",
       "<style scoped>\n",
       "    .dataframe tbody tr th:only-of-type {\n",
       "        vertical-align: middle;\n",
       "    }\n",
       "\n",
       "    .dataframe tbody tr th {\n",
       "        vertical-align: top;\n",
       "    }\n",
       "\n",
       "    .dataframe thead th {\n",
       "        text-align: right;\n",
       "    }\n",
       "</style>\n",
       "<table border=\"1\" class=\"dataframe\">\n",
       "  <thead>\n",
       "    <tr style=\"text-align: right;\">\n",
       "      <th></th>\n",
       "      <th>timestamp</th>\n",
       "      <th>username</th>\n",
       "      <th>temperature</th>\n",
       "      <th>heartrate</th>\n",
       "      <th>build</th>\n",
       "      <th>latest</th>\n",
       "      <th>note</th>\n",
       "    </tr>\n",
       "  </thead>\n",
       "  <tbody>\n",
       "    <tr>\n",
       "      <th>0</th>\n",
       "      <td>2017-01-01T12:00:23</td>\n",
       "      <td>michaelsmith</td>\n",
       "      <td>12</td>\n",
       "      <td>67</td>\n",
       "      <td>4e6a7805-8faa-2768-6ef6-eb3198b483ac</td>\n",
       "      <td>0</td>\n",
       "      <td>interval</td>\n",
       "    </tr>\n",
       "    <tr>\n",
       "      <th>1</th>\n",
       "      <td>2017-01-01T12:01:09</td>\n",
       "      <td>kharrison</td>\n",
       "      <td>6</td>\n",
       "      <td>78</td>\n",
       "      <td>7256b7b0-e502-f576-62ec-ed73533c9c84</td>\n",
       "      <td>0</td>\n",
       "      <td>wake</td>\n",
       "    </tr>\n",
       "    <tr>\n",
       "      <th>2</th>\n",
       "      <td>2017-01-01T12:01:34</td>\n",
       "      <td>smithadam</td>\n",
       "      <td>5</td>\n",
       "      <td>89</td>\n",
       "      <td>9226c94b-bb4b-a6c8-8e02-cb42b53e9c90</td>\n",
       "      <td>0</td>\n",
       "      <td>NaN</td>\n",
       "    </tr>\n",
       "    <tr>\n",
       "      <th>3</th>\n",
       "      <td>2017-01-01T12:02:09</td>\n",
       "      <td>eddierodriguez</td>\n",
       "      <td>28</td>\n",
       "      <td>76</td>\n",
       "      <td>2599ac79-e5e0-5117-b8e1-57e5ced036f7</td>\n",
       "      <td>0</td>\n",
       "      <td>update</td>\n",
       "    </tr>\n",
       "    <tr>\n",
       "      <th>4</th>\n",
       "      <td>2017-01-01T12:02:36</td>\n",
       "      <td>kenneth94</td>\n",
       "      <td>29</td>\n",
       "      <td>62</td>\n",
       "      <td>122f1c6a-403c-2221-6ed1-b5caa08f11e0</td>\n",
       "      <td>0</td>\n",
       "      <td>user</td>\n",
       "    </tr>\n",
       "    <tr>\n",
       "      <th>...</th>\n",
       "      <td>...</td>\n",
       "      <td>...</td>\n",
       "      <td>...</td>\n",
       "      <td>...</td>\n",
       "      <td>...</td>\n",
       "      <td>...</td>\n",
       "      <td>...</td>\n",
       "    </tr>\n",
       "    <tr>\n",
       "      <th>146392</th>\n",
       "      <td>2017-02-28T23:58:06</td>\n",
       "      <td>mcontreras</td>\n",
       "      <td>15</td>\n",
       "      <td>63</td>\n",
       "      <td>69e61a15-d2d0-47a7-1a27-e07b3eeeba10</td>\n",
       "      <td>0</td>\n",
       "      <td>NaN</td>\n",
       "    </tr>\n",
       "    <tr>\n",
       "      <th>146393</th>\n",
       "      <td>2017-02-28T23:58:43</td>\n",
       "      <td>joelrusso</td>\n",
       "      <td>27</td>\n",
       "      <td>89</td>\n",
       "      <td>4af5c12e-df08-40f4-4c70-b9361044cc4b</td>\n",
       "      <td>0</td>\n",
       "      <td>NaN</td>\n",
       "    </tr>\n",
       "    <tr>\n",
       "      <th>146394</th>\n",
       "      <td>2017-02-28T23:59:23</td>\n",
       "      <td>lellis</td>\n",
       "      <td>13</td>\n",
       "      <td>84</td>\n",
       "      <td>dac87426-e147-9c39-6e4c-790bb11f8fc9</td>\n",
       "      <td>0</td>\n",
       "      <td>update</td>\n",
       "    </tr>\n",
       "    <tr>\n",
       "      <th>146395</th>\n",
       "      <td>2017-02-28T23:59:48</td>\n",
       "      <td>grayjasmin</td>\n",
       "      <td>17</td>\n",
       "      <td>64</td>\n",
       "      <td>4911a589-3a15-4bbf-1de1-e5a69ab739da</td>\n",
       "      <td>1</td>\n",
       "      <td>update</td>\n",
       "    </tr>\n",
       "    <tr>\n",
       "      <th>146396</th>\n",
       "      <td>2017-03-01T00:00:30</td>\n",
       "      <td>jgreene</td>\n",
       "      <td>23</td>\n",
       "      <td>70</td>\n",
       "      <td>4f95bbca-26a7-29e7-1f19-aaedf1a51741</td>\n",
       "      <td>0</td>\n",
       "      <td>interval</td>\n",
       "    </tr>\n",
       "  </tbody>\n",
       "</table>\n",
       "<p>146397 rows × 7 columns</p>\n",
       "</div>"
      ],
      "text/plain": [
       "                  timestamp        username  temperature  heartrate  \\\n",
       "0       2017-01-01T12:00:23    michaelsmith           12         67   \n",
       "1       2017-01-01T12:01:09       kharrison            6         78   \n",
       "2       2017-01-01T12:01:34       smithadam            5         89   \n",
       "3       2017-01-01T12:02:09  eddierodriguez           28         76   \n",
       "4       2017-01-01T12:02:36       kenneth94           29         62   \n",
       "...                     ...             ...          ...        ...   \n",
       "146392  2017-02-28T23:58:06      mcontreras           15         63   \n",
       "146393  2017-02-28T23:58:43       joelrusso           27         89   \n",
       "146394  2017-02-28T23:59:23          lellis           13         84   \n",
       "146395  2017-02-28T23:59:48      grayjasmin           17         64   \n",
       "146396  2017-03-01T00:00:30         jgreene           23         70   \n",
       "\n",
       "                                       build  latest      note  \n",
       "0       4e6a7805-8faa-2768-6ef6-eb3198b483ac       0  interval  \n",
       "1       7256b7b0-e502-f576-62ec-ed73533c9c84       0      wake  \n",
       "2       9226c94b-bb4b-a6c8-8e02-cb42b53e9c90       0       NaN  \n",
       "3       2599ac79-e5e0-5117-b8e1-57e5ced036f7       0    update  \n",
       "4       122f1c6a-403c-2221-6ed1-b5caa08f11e0       0      user  \n",
       "...                                      ...     ...       ...  \n",
       "146392  69e61a15-d2d0-47a7-1a27-e07b3eeeba10       0       NaN  \n",
       "146393  4af5c12e-df08-40f4-4c70-b9361044cc4b       0       NaN  \n",
       "146394  dac87426-e147-9c39-6e4c-790bb11f8fc9       0    update  \n",
       "146395  4911a589-3a15-4bbf-1de1-e5a69ab739da       1    update  \n",
       "146396  4f95bbca-26a7-29e7-1f19-aaedf1a51741       0  interval  \n",
       "\n",
       "[146397 rows x 7 columns]"
      ]
     },
     "execution_count": 20,
     "metadata": {},
     "output_type": "execute_result"
    }
   ],
   "source": [
    "df = pd.read_csv('iot_example.csv')\n",
    "df"
   ]
  },
  {
   "cell_type": "code",
   "execution_count": 25,
   "metadata": {},
   "outputs": [
    {
     "data": {
      "text/plain": [
       "'michaelsmith'"
      ]
     },
     "execution_count": 25,
     "metadata": {},
     "output_type": "execute_result"
    }
   ],
   "source": [
    "username = df.iloc[0,1]\n",
    "username"
   ]
  },
  {
   "cell_type": "code",
   "execution_count": 22,
   "metadata": {},
   "outputs": [
    {
     "data": {
      "text/plain": [
       "b'4N7TycDY0dbfzujb'"
      ]
     },
     "execution_count": 22,
     "metadata": {},
     "output_type": "execute_result"
    }
   ],
   "source": [
    "encode('supa_secret', username)"
   ]
  },
  {
   "cell_type": "code",
   "execution_count": 23,
   "metadata": {},
   "outputs": [
    {
     "data": {
      "text/plain": [
       "'michaelsmith'"
      ]
     },
     "execution_count": 23,
     "metadata": {},
     "output_type": "execute_result"
    }
   ],
   "source": [
    "decode('supa_secret', b'4N7TycDY0dbfzujb')"
   ]
  },
  {
   "attachments": {},
   "cell_type": "markdown",
   "metadata": {},
   "source": [
    "Otros conceptos: \n",
    "\n",
    "- Pseudoanonimizacion multivariada\n",
    "- K-Anonymity\n",
    "- Differential Privacy"
   ]
  }
 ],
 "metadata": {
  "kernelspec": {
   "display_name": "Python 3",
   "language": "python",
   "name": "python3"
  },
  "language_info": {
   "codemirror_mode": {
    "name": "ipython",
    "version": 3
   },
   "file_extension": ".py",
   "mimetype": "text/x-python",
   "name": "python",
   "nbconvert_exporter": "python",
   "pygments_lexer": "ipython3",
   "version": "3.10.11"
  },
  "orig_nbformat": 4
 },
 "nbformat": 4,
 "nbformat_minor": 2
}
