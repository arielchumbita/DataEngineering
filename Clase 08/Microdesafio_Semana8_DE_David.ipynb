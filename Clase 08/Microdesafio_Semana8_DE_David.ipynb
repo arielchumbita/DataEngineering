{
 "cells": [
  {
   "cell_type": "code",
   "execution_count": 1,
   "id": "333fc5d2",
   "metadata": {
    "scrolled": true
   },
   "outputs": [
    {
     "name": "stdout",
     "output_type": "stream",
     "text": [
      "Collecting anonymizedf\n",
      "  Using cached anonymizedf-1.0.1-py3-none-any.whl (7.0 kB)\n",
      "Collecting faker\n",
      "  Downloading Faker-18.4.0-py3-none-any.whl (1.7 MB)\n",
      "     ---------------------------------------- 1.7/1.7 MB 9.0 MB/s eta 0:00:00\n",
      "Requirement already satisfied: pandas in c:\\users\\windows\\appdata\\local\\packages\\pythonsoftwarefoundation.python.3.10_qbz5n2kfra8p0\\localcache\\local-packages\\python310\\site-packages (from anonymizedf) (1.5.1)\n",
      "Requirement already satisfied: python-dateutil>=2.4 in c:\\users\\windows\\appdata\\local\\packages\\pythonsoftwarefoundation.python.3.10_qbz5n2kfra8p0\\localcache\\local-packages\\python310\\site-packages (from faker->anonymizedf) (2.8.2)\n",
      "Requirement already satisfied: pytz>=2020.1 in c:\\users\\windows\\appdata\\local\\packages\\pythonsoftwarefoundation.python.3.10_qbz5n2kfra8p0\\localcache\\local-packages\\python310\\site-packages (from pandas->anonymizedf) (2022.5)\n",
      "Requirement already satisfied: numpy>=1.21.0 in c:\\users\\windows\\appdata\\local\\packages\\pythonsoftwarefoundation.python.3.10_qbz5n2kfra8p0\\localcache\\local-packages\\python310\\site-packages (from pandas->anonymizedf) (1.23.4)\n",
      "Requirement already satisfied: six>=1.5 in c:\\users\\windows\\appdata\\local\\packages\\pythonsoftwarefoundation.python.3.10_qbz5n2kfra8p0\\localcache\\local-packages\\python310\\site-packages (from python-dateutil>=2.4->faker->anonymizedf) (1.16.0)\n",
      "Installing collected packages: faker, anonymizedf\n",
      "Successfully installed anonymizedf-1.0.1 faker-18.4.0\n"
     ]
    },
    {
     "name": "stderr",
     "output_type": "stream",
     "text": [
      "\n",
      "[notice] A new release of pip is available: 23.0.1 -> 23.1\n",
      "[notice] To update, run: C:\\Users\\Windows\\AppData\\Local\\Microsoft\\WindowsApps\\PythonSoftwareFoundation.Python.3.10_qbz5n2kfra8p0\\python.exe -m pip install --upgrade pip\n"
     ]
    }
   ],
   "source": [
    "#!pip install anonymizedf"
   ]
  },
  {
   "cell_type": "code",
   "execution_count": 20,
   "id": "f9863dd2",
   "metadata": {},
   "outputs": [],
   "source": [
    "import pandas as pd\n",
    "from anonymizedf.anonymizedf import anonymize"
   ]
  },
  {
   "attachments": {},
   "cell_type": "markdown",
   "id": "fa03cdc9",
   "metadata": {},
   "source": [
    "# Paso 1: Lectura de datos"
   ]
  },
  {
   "cell_type": "code",
   "execution_count": 21,
   "id": "530bbcbe",
   "metadata": {
    "scrolled": true
   },
   "outputs": [
    {
     "data": {
      "text/html": [
       "<div>\n",
       "<style scoped>\n",
       "    .dataframe tbody tr th:only-of-type {\n",
       "        vertical-align: middle;\n",
       "    }\n",
       "\n",
       "    .dataframe tbody tr th {\n",
       "        vertical-align: top;\n",
       "    }\n",
       "\n",
       "    .dataframe thead th {\n",
       "        text-align: right;\n",
       "    }\n",
       "</style>\n",
       "<table border=\"1\" class=\"dataframe\">\n",
       "  <thead>\n",
       "    <tr style=\"text-align: right;\">\n",
       "      <th></th>\n",
       "      <th>Pais</th>\n",
       "      <th>Comisionado</th>\n",
       "      <th>Reduccion_CO2</th>\n",
       "      <th>Incrmento_P</th>\n",
       "      <th>Inversion_arboles</th>\n",
       "      <th>Fecha</th>\n",
       "      <th>Telefono</th>\n",
       "    </tr>\n",
       "  </thead>\n",
       "  <tbody>\n",
       "    <tr>\n",
       "      <th>0</th>\n",
       "      <td>Argentina</td>\n",
       "      <td>Carlos Veroes</td>\n",
       "      <td>Si</td>\n",
       "      <td>Si</td>\n",
       "      <td>Si</td>\n",
       "      <td>08/07/2022</td>\n",
       "      <td>23467698</td>\n",
       "    </tr>\n",
       "    <tr>\n",
       "      <th>1</th>\n",
       "      <td>Colombia</td>\n",
       "      <td>Sofia Andrade</td>\n",
       "      <td>No</td>\n",
       "      <td>No</td>\n",
       "      <td>Si</td>\n",
       "      <td>12/06/2022</td>\n",
       "      <td>76587899</td>\n",
       "    </tr>\n",
       "    <tr>\n",
       "      <th>2</th>\n",
       "      <td>Chile</td>\n",
       "      <td>Cristina Valdivia</td>\n",
       "      <td>Si</td>\n",
       "      <td>Si</td>\n",
       "      <td>Si</td>\n",
       "      <td>15/07/2022</td>\n",
       "      <td>76593749</td>\n",
       "    </tr>\n",
       "    <tr>\n",
       "      <th>3</th>\n",
       "      <td>Bolivia</td>\n",
       "      <td>Pedro Carlos</td>\n",
       "      <td>No</td>\n",
       "      <td>No</td>\n",
       "      <td>No</td>\n",
       "      <td>01/09/2022</td>\n",
       "      <td>65746474</td>\n",
       "    </tr>\n",
       "    <tr>\n",
       "      <th>4</th>\n",
       "      <td>Paraguay</td>\n",
       "      <td>Juan Paraguas</td>\n",
       "      <td>No</td>\n",
       "      <td>Si</td>\n",
       "      <td>Si</td>\n",
       "      <td>04/06/2022</td>\n",
       "      <td>83447474</td>\n",
       "    </tr>\n",
       "    <tr>\n",
       "      <th>5</th>\n",
       "      <td>Venezuela</td>\n",
       "      <td>Andres Calamaro</td>\n",
       "      <td>Si</td>\n",
       "      <td>Si</td>\n",
       "      <td>No</td>\n",
       "      <td>03/05/2022</td>\n",
       "      <td>76847383</td>\n",
       "    </tr>\n",
       "    <tr>\n",
       "      <th>6</th>\n",
       "      <td>Uruguay</td>\n",
       "      <td>Fernando Tatial</td>\n",
       "      <td>No</td>\n",
       "      <td>No</td>\n",
       "      <td>Si</td>\n",
       "      <td>04/04/2022</td>\n",
       "      <td>13434453</td>\n",
       "    </tr>\n",
       "    <tr>\n",
       "      <th>7</th>\n",
       "      <td>Brasil</td>\n",
       "      <td>Gabriel Toeras</td>\n",
       "      <td>Si</td>\n",
       "      <td>Si</td>\n",
       "      <td>No</td>\n",
       "      <td>12/06/2022</td>\n",
       "      <td>37374344</td>\n",
       "    </tr>\n",
       "    <tr>\n",
       "      <th>8</th>\n",
       "      <td>Ecuador</td>\n",
       "      <td>Juan Vera</td>\n",
       "      <td>No</td>\n",
       "      <td>No</td>\n",
       "      <td>No</td>\n",
       "      <td>14/05/2022</td>\n",
       "      <td>47477654</td>\n",
       "    </tr>\n",
       "    <tr>\n",
       "      <th>9</th>\n",
       "      <td>Peru</td>\n",
       "      <td>Andres Porto</td>\n",
       "      <td>No</td>\n",
       "      <td>No</td>\n",
       "      <td>No</td>\n",
       "      <td>13/05/2022</td>\n",
       "      <td>57737373</td>\n",
       "    </tr>\n",
       "    <tr>\n",
       "      <th>10</th>\n",
       "      <td>EEUU</td>\n",
       "      <td>Jennifer Laurence</td>\n",
       "      <td>Si</td>\n",
       "      <td>Si</td>\n",
       "      <td>Si</td>\n",
       "      <td>01/04/2022</td>\n",
       "      <td>84574737</td>\n",
       "    </tr>\n",
       "    <tr>\n",
       "      <th>11</th>\n",
       "      <td>Canada</td>\n",
       "      <td>John white</td>\n",
       "      <td>No</td>\n",
       "      <td>Si</td>\n",
       "      <td>Si</td>\n",
       "      <td>04/01/2022</td>\n",
       "      <td>83873734</td>\n",
       "    </tr>\n",
       "  </tbody>\n",
       "</table>\n",
       "</div>"
      ],
      "text/plain": [
       "        Pais         Comisionado Reduccion_CO2 Incrmento_P Inversion_arboles  \\\n",
       "0   Argentina      Carlos Veroes            Si          Si                Si   \n",
       "1    Colombia      Sofia Andrade            No          No                Si   \n",
       "2       Chile  Cristina Valdivia            Si          Si                Si   \n",
       "3     Bolivia       Pedro Carlos            No          No                No   \n",
       "4    Paraguay      Juan Paraguas            No          Si                Si   \n",
       "5   Venezuela    Andres Calamaro            Si          Si                No   \n",
       "6     Uruguay    Fernando Tatial            No          No                Si   \n",
       "7      Brasil     Gabriel Toeras            Si          Si                No   \n",
       "8     Ecuador          Juan Vera            No          No                No   \n",
       "9        Peru       Andres Porto            No          No                No   \n",
       "10       EEUU  Jennifer Laurence            Si          Si                Si   \n",
       "11     Canada         John white            No          Si                Si   \n",
       "\n",
       "         Fecha  Telefono  \n",
       "0   08/07/2022  23467698  \n",
       "1   12/06/2022  76587899  \n",
       "2   15/07/2022  76593749  \n",
       "3   01/09/2022  65746474  \n",
       "4   04/06/2022  83447474  \n",
       "5   03/05/2022  76847383  \n",
       "6   04/04/2022  13434453  \n",
       "7   12/06/2022  37374344  \n",
       "8   14/05/2022  47477654  \n",
       "9   13/05/2022  57737373  \n",
       "10  01/04/2022  84574737  \n",
       "11  04/01/2022  83873734  "
      ]
     },
     "execution_count": 21,
     "metadata": {},
     "output_type": "execute_result"
    }
   ],
   "source": [
    "df= pd.read_csv('Datos_Microdesafio_Semana8_DE.csv',sep=';')\n",
    "df.head(12)"
   ]
  },
  {
   "attachments": {},
   "cell_type": "markdown",
   "id": "32089783",
   "metadata": {},
   "source": [
    "# Paso 2: Anonimizacion de columnas"
   ]
  },
  {
   "cell_type": "code",
   "execution_count": 22,
   "id": "d947d1ef",
   "metadata": {},
   "outputs": [],
   "source": [
    "# Preparar el dataframe\n",
    "an = anonymize(df)"
   ]
  },
  {
   "cell_type": "code",
   "execution_count": 23,
   "id": "e267c52f",
   "metadata": {},
   "outputs": [
    {
     "data": {
      "text/plain": [
       "anonymizedf.anonymizedf.anonymize"
      ]
     },
     "execution_count": 23,
     "metadata": {},
     "output_type": "execute_result"
    }
   ],
   "source": [
    "type(an)"
   ]
  },
  {
   "cell_type": "code",
   "execution_count": 5,
   "id": "1140adf7",
   "metadata": {},
   "outputs": [
    {
     "name": "stdout",
     "output_type": "stream",
     "text": [
      "\u001b[1;31mInit signature:\u001b[0m \u001b[0manonymize\u001b[0m\u001b[1;33m(\u001b[0m\u001b[0mdf\u001b[0m\u001b[1;33m)\u001b[0m\u001b[1;33m\u001b[0m\u001b[1;33m\u001b[0m\u001b[0m\n",
      "\u001b[1;31mDocstring:\u001b[0m     \n",
      "Initializes a Pandas DataFrame as an anonymize object\n",
      "to be used for making fake data.\n",
      "\n",
      "Args:\n",
      "    df: takes a Pandas DataFrame\n",
      "\n",
      "Returns:\n",
      "    anonymize object\n",
      "\u001b[1;31mFile:\u001b[0m           c:\\users\\windows\\appdata\\local\\packages\\pythonsoftwarefoundation.python.3.10_qbz5n2kfra8p0\\localcache\\local-packages\\python310\\site-packages\\anonymizedf\\anonymizedf.py\n",
      "\u001b[1;31mType:\u001b[0m           type\n",
      "\u001b[1;31mSubclasses:\u001b[0m     \n"
     ]
    }
   ],
   "source": [
    "anonymize?"
   ]
  },
  {
   "attachments": {},
   "cell_type": "markdown",
   "id": "0378acb0",
   "metadata": {},
   "source": [
    "`anonymize:` Este método se utiliza para anonimizar un dataframe. El método reemplaza todos los valores de una columna dada por valores aleatorios generados por el algoritmo de hash SHA-256. Esto se hace para preservar la distribución de los datos originales. El método devuelve un nuevo dataframe con los valores originales reemplazados por valores anonimizados."
   ]
  },
  {
   "cell_type": "code",
   "execution_count": 9,
   "id": "a0754bc0",
   "metadata": {},
   "outputs": [
    {
     "name": "stdout",
     "output_type": "stream",
     "text": [
      "Requirement already satisfied: Faker in c:\\users\\windows\\appdata\\local\\packages\\pythonsoftwarefoundation.python.3.10_qbz5n2kfra8p0\\localcache\\local-packages\\python310\\site-packages (18.4.0)\n",
      "Requirement already satisfied: python-dateutil>=2.4 in c:\\users\\windows\\appdata\\local\\packages\\pythonsoftwarefoundation.python.3.10_qbz5n2kfra8p0\\localcache\\local-packages\\python310\\site-packages (from Faker) (2.8.2)\n",
      "Requirement already satisfied: six>=1.5 in c:\\users\\windows\\appdata\\local\\packages\\pythonsoftwarefoundation.python.3.10_qbz5n2kfra8p0\\localcache\\local-packages\\python310\\site-packages (from python-dateutil>=2.4->Faker) (1.16.0)\n"
     ]
    },
    {
     "name": "stderr",
     "output_type": "stream",
     "text": [
      "\n",
      "[notice] A new release of pip is available: 23.0.1 -> 23.1\n",
      "[notice] To update, run: C:\\Users\\Windows\\AppData\\Local\\Microsoft\\WindowsApps\\PythonSoftwareFoundation.Python.3.10_qbz5n2kfra8p0\\python.exe -m pip install --upgrade pip\n"
     ]
    }
   ],
   "source": [
    "!pip install Faker"
   ]
  },
  {
   "cell_type": "code",
   "execution_count": 20,
   "id": "e37a22e9",
   "metadata": {},
   "outputs": [
    {
     "name": "stdout",
     "output_type": "stream",
     "text": [
      "\u001b[1;31mInit signature:\u001b[0m\n",
      "\u001b[0mFaker\u001b[0m\u001b[1;33m(\u001b[0m\u001b[1;33m\n",
      "\u001b[0m    \u001b[0mlocale\u001b[0m\u001b[1;33m:\u001b[0m \u001b[0mUnion\u001b[0m\u001b[1;33m[\u001b[0m\u001b[0mstr\u001b[0m\u001b[1;33m,\u001b[0m \u001b[0mSequence\u001b[0m\u001b[1;33m[\u001b[0m\u001b[0mstr\u001b[0m\u001b[1;33m]\u001b[0m\u001b[1;33m,\u001b[0m \u001b[0mDict\u001b[0m\u001b[1;33m[\u001b[0m\u001b[0mstr\u001b[0m\u001b[1;33m,\u001b[0m \u001b[0mUnion\u001b[0m\u001b[1;33m[\u001b[0m\u001b[0mint\u001b[0m\u001b[1;33m,\u001b[0m \u001b[0mfloat\u001b[0m\u001b[1;33m]\u001b[0m\u001b[1;33m]\u001b[0m\u001b[1;33m,\u001b[0m \u001b[0mNoneType\u001b[0m\u001b[1;33m]\u001b[0m \u001b[1;33m=\u001b[0m \u001b[1;32mNone\u001b[0m\u001b[1;33m,\u001b[0m\u001b[1;33m\n",
      "\u001b[0m    \u001b[0mproviders\u001b[0m\u001b[1;33m:\u001b[0m \u001b[0mOptional\u001b[0m\u001b[1;33m[\u001b[0m\u001b[0mList\u001b[0m\u001b[1;33m[\u001b[0m\u001b[0mstr\u001b[0m\u001b[1;33m]\u001b[0m\u001b[1;33m]\u001b[0m \u001b[1;33m=\u001b[0m \u001b[1;32mNone\u001b[0m\u001b[1;33m,\u001b[0m\u001b[1;33m\n",
      "\u001b[0m    \u001b[0mgenerator\u001b[0m\u001b[1;33m:\u001b[0m \u001b[0mOptional\u001b[0m\u001b[1;33m[\u001b[0m\u001b[0mfaker\u001b[0m\u001b[1;33m.\u001b[0m\u001b[0mgenerator\u001b[0m\u001b[1;33m.\u001b[0m\u001b[0mGenerator\u001b[0m\u001b[1;33m]\u001b[0m \u001b[1;33m=\u001b[0m \u001b[1;32mNone\u001b[0m\u001b[1;33m,\u001b[0m\u001b[1;33m\n",
      "\u001b[0m    \u001b[0mincludes\u001b[0m\u001b[1;33m:\u001b[0m \u001b[0mOptional\u001b[0m\u001b[1;33m[\u001b[0m\u001b[0mList\u001b[0m\u001b[1;33m[\u001b[0m\u001b[0mstr\u001b[0m\u001b[1;33m]\u001b[0m\u001b[1;33m]\u001b[0m \u001b[1;33m=\u001b[0m \u001b[1;32mNone\u001b[0m\u001b[1;33m,\u001b[0m\u001b[1;33m\n",
      "\u001b[0m    \u001b[0muse_weighting\u001b[0m\u001b[1;33m:\u001b[0m \u001b[0mbool\u001b[0m \u001b[1;33m=\u001b[0m \u001b[1;32mTrue\u001b[0m\u001b[1;33m,\u001b[0m\u001b[1;33m\n",
      "\u001b[0m    \u001b[1;33m**\u001b[0m\u001b[0mconfig\u001b[0m\u001b[1;33m:\u001b[0m \u001b[0mAny\u001b[0m\u001b[1;33m,\u001b[0m\u001b[1;33m\n",
      "\u001b[0m\u001b[1;33m)\u001b[0m \u001b[1;33m->\u001b[0m \u001b[1;32mNone\u001b[0m\u001b[1;33m\u001b[0m\u001b[1;33m\u001b[0m\u001b[0m\n",
      "\u001b[1;31mDocstring:\u001b[0m      Proxy class capable of supporting multiple locales\n",
      "\u001b[1;31mFile:\u001b[0m           c:\\users\\windows\\appdata\\local\\packages\\pythonsoftwarefoundation.python.3.10_qbz5n2kfra8p0\\localcache\\local-packages\\python310\\site-packages\\faker\\proxy.py\n",
      "\u001b[1;31mType:\u001b[0m           type\n",
      "\u001b[1;31mSubclasses:\u001b[0m     \n"
     ]
    }
   ],
   "source": [
    "Faker?"
   ]
  },
  {
   "cell_type": "code",
   "execution_count": 24,
   "id": "e9f4b193",
   "metadata": {},
   "outputs": [],
   "source": [
    "from faker import Faker\n",
    "fake = Faker()"
   ]
  },
  {
   "cell_type": "code",
   "execution_count": 25,
   "id": "6b63a85e",
   "metadata": {},
   "outputs": [
    {
     "data": {
      "text/plain": [
       "'CH'"
      ]
     },
     "execution_count": 25,
     "metadata": {},
     "output_type": "execute_result"
    }
   ],
   "source": [
    "fake.country_code()"
   ]
  },
  {
   "cell_type": "code",
   "execution_count": 26,
   "id": "9e51311f",
   "metadata": {},
   "outputs": [
    {
     "data": {
      "text/plain": [
       "'Sallyfort'"
      ]
     },
     "execution_count": 26,
     "metadata": {},
     "output_type": "execute_result"
    }
   ],
   "source": [
    "fake.city()"
   ]
  },
  {
   "cell_type": "code",
   "execution_count": 27,
   "id": "87d8eaa3",
   "metadata": {},
   "outputs": [
    {
     "data": {
      "text/plain": [
       "Decimal('-178.614573')"
      ]
     },
     "execution_count": 27,
     "metadata": {},
     "output_type": "execute_result"
    }
   ],
   "source": [
    "fake.coordinate()"
   ]
  },
  {
   "cell_type": "code",
   "execution_count": 28,
   "id": "b2729be3",
   "metadata": {},
   "outputs": [
    {
     "data": {
      "text/plain": [
       "'efritz@clark-nichols.com'"
      ]
     },
     "execution_count": 28,
     "metadata": {},
     "output_type": "execute_result"
    }
   ],
   "source": [
    "fake.company_email()"
   ]
  },
  {
   "cell_type": "code",
   "execution_count": 29,
   "id": "9b3b06bc",
   "metadata": {},
   "outputs": [
    {
     "data": {
      "text/plain": [
       "'[{\"name\": \"Gary Ramirez\", \"residency\": \"97957 Cuevas Green\\\\nSmithburgh, WY 54892\"}, {\"name\": \"Joseph Brady\", \"residency\": \"352 Murphy Bridge Suite 512\\\\nGarciaview, NH 50984\"}, {\"name\": \"Christine Baldwin\", \"residency\": \"4167 Norman Well Suite 653\\\\nGonzalezton, VA 75013\"}, {\"name\": \"Robert Maldonado\", \"residency\": \"72302 Megan Mountain Apt. 108\\\\nPort Scott, CO 66375\"}, {\"name\": \"Theresa Blair\", \"residency\": \"854 Young Divide Suite 756\\\\nSouth Samanthabury, AZ 98530\"}, {\"name\": \"Adam Miller\", \"residency\": \"29859 Hannah Rapids Suite 462\\\\nHamptonmouth, AL 81182\"}, {\"name\": \"Brandi Lowe\", \"residency\": \"788 Garcia Roads Apt. 681\\\\nSouth Christineburgh, NY 17402\"}, {\"name\": \"Kenneth Harper\", \"residency\": \"5128 Alexander Parks\\\\nNew Gregoryview, KY 02970\"}, {\"name\": \"Mr. Albert Ward\", \"residency\": \"6509 Hughes Ports Apt. 207\\\\nEast Julie, OR 80215\"}, {\"name\": \"Donald Villanueva\", \"residency\": \"Unit 2530 Box 0232\\\\nDPO AP 82343\"}]'"
      ]
     },
     "execution_count": 29,
     "metadata": {},
     "output_type": "execute_result"
    }
   ],
   "source": [
    "fake.json()"
   ]
  },
  {
   "cell_type": "code",
   "execution_count": 30,
   "id": "c13a9e64",
   "metadata": {},
   "outputs": [
    {
     "name": "stdout",
     "output_type": "stream",
     "text": [
      "Vincent Ashley\n",
      "David Garner\n",
      "Terry Love\n",
      "Suzanne Hatfield\n",
      "Alex Wilson\n",
      "William Lambert\n",
      "Darryl Anderson\n",
      "Nathan Thompson\n",
      "Phillip Yates\n",
      "Nichole Hughes\n"
     ]
    }
   ],
   "source": [
    "for _ in range(10):\n",
    "  print(fake.name())"
   ]
  },
  {
   "cell_type": "code",
   "execution_count": 31,
   "id": "32ab2197",
   "metadata": {
    "scrolled": true
   },
   "outputs": [
    {
     "data": {
      "text/html": [
       "<div>\n",
       "<style scoped>\n",
       "    .dataframe tbody tr th:only-of-type {\n",
       "        vertical-align: middle;\n",
       "    }\n",
       "\n",
       "    .dataframe tbody tr th {\n",
       "        vertical-align: top;\n",
       "    }\n",
       "\n",
       "    .dataframe thead th {\n",
       "        text-align: right;\n",
       "    }\n",
       "</style>\n",
       "<table border=\"1\" class=\"dataframe\">\n",
       "  <thead>\n",
       "    <tr style=\"text-align: right;\">\n",
       "      <th></th>\n",
       "      <th>Pais</th>\n",
       "      <th>Comisionado</th>\n",
       "      <th>Reduccion_CO2</th>\n",
       "      <th>Incrmento_P</th>\n",
       "      <th>Inversion_arboles</th>\n",
       "      <th>Fecha</th>\n",
       "      <th>Telefono</th>\n",
       "      <th>Fake_Comisionado</th>\n",
       "      <th>Fake_Fecha</th>\n",
       "      <th>Fake_Telefono</th>\n",
       "    </tr>\n",
       "  </thead>\n",
       "  <tbody>\n",
       "    <tr>\n",
       "      <th>0</th>\n",
       "      <td>Argentina</td>\n",
       "      <td>Carlos Veroes</td>\n",
       "      <td>Si</td>\n",
       "      <td>Si</td>\n",
       "      <td>Si</td>\n",
       "      <td>08/07/2022</td>\n",
       "      <td>23467698</td>\n",
       "      <td>Chloe Phillips</td>\n",
       "      <td>1973-04-16</td>\n",
       "      <td>65154855</td>\n",
       "    </tr>\n",
       "    <tr>\n",
       "      <th>1</th>\n",
       "      <td>Colombia</td>\n",
       "      <td>Sofia Andrade</td>\n",
       "      <td>No</td>\n",
       "      <td>No</td>\n",
       "      <td>Si</td>\n",
       "      <td>12/06/2022</td>\n",
       "      <td>76587899</td>\n",
       "      <td>Patrick Oliver</td>\n",
       "      <td>1991-05-25</td>\n",
       "      <td>83649507</td>\n",
       "    </tr>\n",
       "    <tr>\n",
       "      <th>2</th>\n",
       "      <td>Chile</td>\n",
       "      <td>Cristina Valdivia</td>\n",
       "      <td>Si</td>\n",
       "      <td>Si</td>\n",
       "      <td>Si</td>\n",
       "      <td>15/07/2022</td>\n",
       "      <td>76593749</td>\n",
       "      <td>Sally Lewis</td>\n",
       "      <td>1973-09-12</td>\n",
       "      <td>67787749</td>\n",
       "    </tr>\n",
       "    <tr>\n",
       "      <th>3</th>\n",
       "      <td>Bolivia</td>\n",
       "      <td>Pedro Carlos</td>\n",
       "      <td>No</td>\n",
       "      <td>No</td>\n",
       "      <td>No</td>\n",
       "      <td>01/09/2022</td>\n",
       "      <td>65746474</td>\n",
       "      <td>Mohamed Evans</td>\n",
       "      <td>1982-01-28</td>\n",
       "      <td>71468085</td>\n",
       "    </tr>\n",
       "    <tr>\n",
       "      <th>4</th>\n",
       "      <td>Paraguay</td>\n",
       "      <td>Juan Paraguas</td>\n",
       "      <td>No</td>\n",
       "      <td>Si</td>\n",
       "      <td>Si</td>\n",
       "      <td>04/06/2022</td>\n",
       "      <td>83447474</td>\n",
       "      <td>Mr Leonard Henry</td>\n",
       "      <td>1987-06-04</td>\n",
       "      <td>72398646</td>\n",
       "    </tr>\n",
       "    <tr>\n",
       "      <th>5</th>\n",
       "      <td>Venezuela</td>\n",
       "      <td>Andres Calamaro</td>\n",
       "      <td>Si</td>\n",
       "      <td>Si</td>\n",
       "      <td>No</td>\n",
       "      <td>03/05/2022</td>\n",
       "      <td>76847383</td>\n",
       "      <td>Mrs Joanna Smith</td>\n",
       "      <td>2002-02-01</td>\n",
       "      <td>46439400</td>\n",
       "    </tr>\n",
       "    <tr>\n",
       "      <th>6</th>\n",
       "      <td>Uruguay</td>\n",
       "      <td>Fernando Tatial</td>\n",
       "      <td>No</td>\n",
       "      <td>No</td>\n",
       "      <td>Si</td>\n",
       "      <td>04/04/2022</td>\n",
       "      <td>13434453</td>\n",
       "      <td>Dr Elliot Taylor</td>\n",
       "      <td>1973-09-21</td>\n",
       "      <td>14482644</td>\n",
       "    </tr>\n",
       "    <tr>\n",
       "      <th>7</th>\n",
       "      <td>Brasil</td>\n",
       "      <td>Gabriel Toeras</td>\n",
       "      <td>Si</td>\n",
       "      <td>Si</td>\n",
       "      <td>No</td>\n",
       "      <td>12/06/2022</td>\n",
       "      <td>37374344</td>\n",
       "      <td>Mrs Amber Duffy</td>\n",
       "      <td>1991-05-25</td>\n",
       "      <td>38650962</td>\n",
       "    </tr>\n",
       "    <tr>\n",
       "      <th>8</th>\n",
       "      <td>Ecuador</td>\n",
       "      <td>Juan Vera</td>\n",
       "      <td>No</td>\n",
       "      <td>No</td>\n",
       "      <td>No</td>\n",
       "      <td>14/05/2022</td>\n",
       "      <td>47477654</td>\n",
       "      <td>Joyce Pearson-Gilbert</td>\n",
       "      <td>2014-11-16</td>\n",
       "      <td>34309260</td>\n",
       "    </tr>\n",
       "    <tr>\n",
       "      <th>9</th>\n",
       "      <td>Peru</td>\n",
       "      <td>Andres Porto</td>\n",
       "      <td>No</td>\n",
       "      <td>No</td>\n",
       "      <td>No</td>\n",
       "      <td>13/05/2022</td>\n",
       "      <td>57737373</td>\n",
       "      <td>Elizabeth Coleman</td>\n",
       "      <td>1970-06-28</td>\n",
       "      <td>78093644</td>\n",
       "    </tr>\n",
       "    <tr>\n",
       "      <th>10</th>\n",
       "      <td>EEUU</td>\n",
       "      <td>Jennifer Laurence</td>\n",
       "      <td>Si</td>\n",
       "      <td>Si</td>\n",
       "      <td>Si</td>\n",
       "      <td>01/04/2022</td>\n",
       "      <td>84574737</td>\n",
       "      <td>Miss Anna Hanson</td>\n",
       "      <td>1970-06-16</td>\n",
       "      <td>74443777</td>\n",
       "    </tr>\n",
       "    <tr>\n",
       "      <th>11</th>\n",
       "      <td>Canada</td>\n",
       "      <td>John white</td>\n",
       "      <td>No</td>\n",
       "      <td>Si</td>\n",
       "      <td>Si</td>\n",
       "      <td>04/01/2022</td>\n",
       "      <td>83873734</td>\n",
       "      <td>Vincent Cook</td>\n",
       "      <td>1979-10-15</td>\n",
       "      <td>57639758</td>\n",
       "    </tr>\n",
       "    <tr>\n",
       "      <th>12</th>\n",
       "      <td>Mexico</td>\n",
       "      <td>Andres Fernandez</td>\n",
       "      <td>Si</td>\n",
       "      <td>Si</td>\n",
       "      <td>No</td>\n",
       "      <td>08/05/2022</td>\n",
       "      <td>64634746</td>\n",
       "      <td>Keith Wright</td>\n",
       "      <td>2020-09-27</td>\n",
       "      <td>14451846</td>\n",
       "    </tr>\n",
       "    <tr>\n",
       "      <th>13</th>\n",
       "      <td>Costa Rica</td>\n",
       "      <td>Pedro Urrutia</td>\n",
       "      <td>No</td>\n",
       "      <td>No</td>\n",
       "      <td>Si</td>\n",
       "      <td>09/06/2022</td>\n",
       "      <td>14544643</td>\n",
       "      <td>Ms Shannon Wilkins</td>\n",
       "      <td>2010-02-24</td>\n",
       "      <td>82779403</td>\n",
       "    </tr>\n",
       "    <tr>\n",
       "      <th>14</th>\n",
       "      <td>Jamaica</td>\n",
       "      <td>Michael Sophit</td>\n",
       "      <td>No</td>\n",
       "      <td>No</td>\n",
       "      <td>No</td>\n",
       "      <td>26/07/2022</td>\n",
       "      <td>75638664</td>\n",
       "      <td>Phillip Cooper</td>\n",
       "      <td>1971-12-02</td>\n",
       "      <td>61396490</td>\n",
       "    </tr>\n",
       "  </tbody>\n",
       "</table>\n",
       "</div>"
      ],
      "text/plain": [
       "         Pais         Comisionado Reduccion_CO2 Incrmento_P Inversion_arboles  \\\n",
       "0    Argentina      Carlos Veroes            Si          Si                Si   \n",
       "1     Colombia      Sofia Andrade            No          No                Si   \n",
       "2        Chile  Cristina Valdivia            Si          Si                Si   \n",
       "3      Bolivia       Pedro Carlos            No          No                No   \n",
       "4     Paraguay      Juan Paraguas            No          Si                Si   \n",
       "5    Venezuela    Andres Calamaro            Si          Si                No   \n",
       "6      Uruguay    Fernando Tatial            No          No                Si   \n",
       "7       Brasil     Gabriel Toeras            Si          Si                No   \n",
       "8      Ecuador          Juan Vera            No          No                No   \n",
       "9         Peru       Andres Porto            No          No                No   \n",
       "10        EEUU  Jennifer Laurence            Si          Si                Si   \n",
       "11      Canada         John white            No          Si                Si   \n",
       "12     Mexico    Andres Fernandez            Si          Si                No   \n",
       "13  Costa Rica      Pedro Urrutia            No          No                Si   \n",
       "14    Jamaica      Michael Sophit            No          No                No   \n",
       "\n",
       "         Fecha  Telefono       Fake_Comisionado  Fake_Fecha  Fake_Telefono  \n",
       "0   08/07/2022  23467698         Chloe Phillips  1973-04-16       65154855  \n",
       "1   12/06/2022  76587899         Patrick Oliver  1991-05-25       83649507  \n",
       "2   15/07/2022  76593749            Sally Lewis  1973-09-12       67787749  \n",
       "3   01/09/2022  65746474          Mohamed Evans  1982-01-28       71468085  \n",
       "4   04/06/2022  83447474       Mr Leonard Henry  1987-06-04       72398646  \n",
       "5   03/05/2022  76847383       Mrs Joanna Smith  2002-02-01       46439400  \n",
       "6   04/04/2022  13434453       Dr Elliot Taylor  1973-09-21       14482644  \n",
       "7   12/06/2022  37374344        Mrs Amber Duffy  1991-05-25       38650962  \n",
       "8   14/05/2022  47477654  Joyce Pearson-Gilbert  2014-11-16       34309260  \n",
       "9   13/05/2022  57737373      Elizabeth Coleman  1970-06-28       78093644  \n",
       "10  01/04/2022  84574737       Miss Anna Hanson  1970-06-16       74443777  \n",
       "11  04/01/2022  83873734           Vincent Cook  1979-10-15       57639758  \n",
       "12  08/05/2022  64634746           Keith Wright  2020-09-27       14451846  \n",
       "13  09/06/2022  14544643     Ms Shannon Wilkins  2010-02-24       82779403  \n",
       "14  26/07/2022  75638664         Phillip Cooper  1971-12-02       61396490  "
      ]
     },
     "execution_count": 31,
     "metadata": {},
     "output_type": "execute_result"
    }
   ],
   "source": [
    "fake_df = (\n",
    "    an\n",
    "    .fake_names(\"Comisionado\", chaining=True)\n",
    "    .fake_dates(\"Fecha\", chaining=True)\n",
    "    .fake_whole_numbers(\"Telefono\", chaining=True)\n",
    "    .show_data_frame()\n",
    ")\n",
    "fake_df"
   ]
  },
  {
   "cell_type": "code",
   "execution_count": 32,
   "id": "a525c9b7",
   "metadata": {},
   "outputs": [
    {
     "data": {
      "text/plain": [
       "pandas.core.frame.DataFrame"
      ]
     },
     "execution_count": 32,
     "metadata": {},
     "output_type": "execute_result"
    }
   ],
   "source": [
    "type(fake_df)"
   ]
  },
  {
   "cell_type": "code",
   "execution_count": 33,
   "id": "281008ba",
   "metadata": {},
   "outputs": [
    {
     "data": {
      "text/plain": [
       "Index(['Pais ', 'Comisionado', 'Reduccion_CO2', 'Incrmento_P',\n",
       "       'Inversion_arboles', 'Fecha', 'Telefono', 'Fake_Comisionado',\n",
       "       'Fake_Fecha', 'Fake_Telefono'],\n",
       "      dtype='object')"
      ]
     },
     "execution_count": 33,
     "metadata": {},
     "output_type": "execute_result"
    }
   ],
   "source": [
    "fake_df.columns"
   ]
  },
  {
   "attachments": {},
   "cell_type": "markdown",
   "id": "92887f97",
   "metadata": {},
   "source": [
    "# Paso 3: Eleccion de columnas para alimentar database"
   ]
  },
  {
   "cell_type": "code",
   "execution_count": 34,
   "id": "4d0a7520",
   "metadata": {
    "scrolled": true
   },
   "outputs": [
    {
     "data": {
      "text/html": [
       "<div>\n",
       "<style scoped>\n",
       "    .dataframe tbody tr th:only-of-type {\n",
       "        vertical-align: middle;\n",
       "    }\n",
       "\n",
       "    .dataframe tbody tr th {\n",
       "        vertical-align: top;\n",
       "    }\n",
       "\n",
       "    .dataframe thead th {\n",
       "        text-align: right;\n",
       "    }\n",
       "</style>\n",
       "<table border=\"1\" class=\"dataframe\">\n",
       "  <thead>\n",
       "    <tr style=\"text-align: right;\">\n",
       "      <th></th>\n",
       "      <th>Pais</th>\n",
       "      <th>Comisionado</th>\n",
       "      <th>Reduccion_CO2</th>\n",
       "      <th>Incrmento_P</th>\n",
       "      <th>Inversion_arboles</th>\n",
       "      <th>Fecha</th>\n",
       "      <th>Telefono</th>\n",
       "    </tr>\n",
       "  </thead>\n",
       "  <tbody>\n",
       "    <tr>\n",
       "      <th>0</th>\n",
       "      <td>Argentina</td>\n",
       "      <td>Chloe Phillips</td>\n",
       "      <td>Si</td>\n",
       "      <td>Si</td>\n",
       "      <td>Si</td>\n",
       "      <td>1973-04-16</td>\n",
       "      <td>65154855</td>\n",
       "    </tr>\n",
       "    <tr>\n",
       "      <th>1</th>\n",
       "      <td>Colombia</td>\n",
       "      <td>Patrick Oliver</td>\n",
       "      <td>No</td>\n",
       "      <td>No</td>\n",
       "      <td>Si</td>\n",
       "      <td>1991-05-25</td>\n",
       "      <td>83649507</td>\n",
       "    </tr>\n",
       "    <tr>\n",
       "      <th>2</th>\n",
       "      <td>Chile</td>\n",
       "      <td>Sally Lewis</td>\n",
       "      <td>Si</td>\n",
       "      <td>Si</td>\n",
       "      <td>Si</td>\n",
       "      <td>1973-09-12</td>\n",
       "      <td>67787749</td>\n",
       "    </tr>\n",
       "    <tr>\n",
       "      <th>3</th>\n",
       "      <td>Bolivia</td>\n",
       "      <td>Mohamed Evans</td>\n",
       "      <td>No</td>\n",
       "      <td>No</td>\n",
       "      <td>No</td>\n",
       "      <td>1982-01-28</td>\n",
       "      <td>71468085</td>\n",
       "    </tr>\n",
       "    <tr>\n",
       "      <th>4</th>\n",
       "      <td>Paraguay</td>\n",
       "      <td>Mr Leonard Henry</td>\n",
       "      <td>No</td>\n",
       "      <td>Si</td>\n",
       "      <td>Si</td>\n",
       "      <td>1987-06-04</td>\n",
       "      <td>72398646</td>\n",
       "    </tr>\n",
       "    <tr>\n",
       "      <th>5</th>\n",
       "      <td>Venezuela</td>\n",
       "      <td>Mrs Joanna Smith</td>\n",
       "      <td>Si</td>\n",
       "      <td>Si</td>\n",
       "      <td>No</td>\n",
       "      <td>2002-02-01</td>\n",
       "      <td>46439400</td>\n",
       "    </tr>\n",
       "    <tr>\n",
       "      <th>6</th>\n",
       "      <td>Uruguay</td>\n",
       "      <td>Dr Elliot Taylor</td>\n",
       "      <td>No</td>\n",
       "      <td>No</td>\n",
       "      <td>Si</td>\n",
       "      <td>1973-09-21</td>\n",
       "      <td>14482644</td>\n",
       "    </tr>\n",
       "    <tr>\n",
       "      <th>7</th>\n",
       "      <td>Brasil</td>\n",
       "      <td>Mrs Amber Duffy</td>\n",
       "      <td>Si</td>\n",
       "      <td>Si</td>\n",
       "      <td>No</td>\n",
       "      <td>1991-05-25</td>\n",
       "      <td>38650962</td>\n",
       "    </tr>\n",
       "    <tr>\n",
       "      <th>8</th>\n",
       "      <td>Ecuador</td>\n",
       "      <td>Joyce Pearson-Gilbert</td>\n",
       "      <td>No</td>\n",
       "      <td>No</td>\n",
       "      <td>No</td>\n",
       "      <td>2014-11-16</td>\n",
       "      <td>34309260</td>\n",
       "    </tr>\n",
       "    <tr>\n",
       "      <th>9</th>\n",
       "      <td>Peru</td>\n",
       "      <td>Elizabeth Coleman</td>\n",
       "      <td>No</td>\n",
       "      <td>No</td>\n",
       "      <td>No</td>\n",
       "      <td>1970-06-28</td>\n",
       "      <td>78093644</td>\n",
       "    </tr>\n",
       "    <tr>\n",
       "      <th>10</th>\n",
       "      <td>EEUU</td>\n",
       "      <td>Miss Anna Hanson</td>\n",
       "      <td>Si</td>\n",
       "      <td>Si</td>\n",
       "      <td>Si</td>\n",
       "      <td>1970-06-16</td>\n",
       "      <td>74443777</td>\n",
       "    </tr>\n",
       "    <tr>\n",
       "      <th>11</th>\n",
       "      <td>Canada</td>\n",
       "      <td>Vincent Cook</td>\n",
       "      <td>No</td>\n",
       "      <td>Si</td>\n",
       "      <td>Si</td>\n",
       "      <td>1979-10-15</td>\n",
       "      <td>57639758</td>\n",
       "    </tr>\n",
       "    <tr>\n",
       "      <th>12</th>\n",
       "      <td>Mexico</td>\n",
       "      <td>Keith Wright</td>\n",
       "      <td>Si</td>\n",
       "      <td>Si</td>\n",
       "      <td>No</td>\n",
       "      <td>2020-09-27</td>\n",
       "      <td>14451846</td>\n",
       "    </tr>\n",
       "    <tr>\n",
       "      <th>13</th>\n",
       "      <td>Costa Rica</td>\n",
       "      <td>Ms Shannon Wilkins</td>\n",
       "      <td>No</td>\n",
       "      <td>No</td>\n",
       "      <td>Si</td>\n",
       "      <td>2010-02-24</td>\n",
       "      <td>82779403</td>\n",
       "    </tr>\n",
       "    <tr>\n",
       "      <th>14</th>\n",
       "      <td>Jamaica</td>\n",
       "      <td>Phillip Cooper</td>\n",
       "      <td>No</td>\n",
       "      <td>No</td>\n",
       "      <td>No</td>\n",
       "      <td>1971-12-02</td>\n",
       "      <td>61396490</td>\n",
       "    </tr>\n",
       "  </tbody>\n",
       "</table>\n",
       "</div>"
      ],
      "text/plain": [
       "          Pais            Comisionado Reduccion_CO2 Incrmento_P  \\\n",
       "0    Argentina         Chloe Phillips            Si          Si   \n",
       "1     Colombia         Patrick Oliver            No          No   \n",
       "2        Chile            Sally Lewis            Si          Si   \n",
       "3      Bolivia          Mohamed Evans            No          No   \n",
       "4     Paraguay       Mr Leonard Henry            No          Si   \n",
       "5    Venezuela       Mrs Joanna Smith            Si          Si   \n",
       "6      Uruguay       Dr Elliot Taylor            No          No   \n",
       "7       Brasil        Mrs Amber Duffy            Si          Si   \n",
       "8      Ecuador  Joyce Pearson-Gilbert            No          No   \n",
       "9         Peru      Elizabeth Coleman            No          No   \n",
       "10        EEUU       Miss Anna Hanson            Si          Si   \n",
       "11      Canada           Vincent Cook            No          Si   \n",
       "12     Mexico            Keith Wright            Si          Si   \n",
       "13  Costa Rica     Ms Shannon Wilkins            No          No   \n",
       "14    Jamaica          Phillip Cooper            No          No   \n",
       "\n",
       "   Inversion_arboles       Fecha  Telefono  \n",
       "0                 Si  1973-04-16  65154855  \n",
       "1                 Si  1991-05-25  83649507  \n",
       "2                 Si  1973-09-12  67787749  \n",
       "3                 No  1982-01-28  71468085  \n",
       "4                 Si  1987-06-04  72398646  \n",
       "5                 No  2002-02-01  46439400  \n",
       "6                 Si  1973-09-21  14482644  \n",
       "7                 No  1991-05-25  38650962  \n",
       "8                 No  2014-11-16  34309260  \n",
       "9                 No  1970-06-28  78093644  \n",
       "10                Si  1970-06-16  74443777  \n",
       "11                Si  1979-10-15  57639758  \n",
       "12                No  2020-09-27  14451846  \n",
       "13                Si  2010-02-24  82779403  \n",
       "14                No  1971-12-02  61396490  "
      ]
     },
     "execution_count": 34,
     "metadata": {},
     "output_type": "execute_result"
    }
   ],
   "source": [
    "df_final=fake_df[['Pais ','Fake_Comisionado','Reduccion_CO2','Incrmento_P','Inversion_arboles',\n",
    "                  'Fake_Fecha','Fake_Telefono']]\n",
    "df_final.columns=['Pais', 'Comisionado', 'Reduccion_CO2', 'Incrmento_P',\n",
    "                   'Inversion_arboles', 'Fecha', 'Telefono',]\n",
    "df_final"
   ]
  },
  {
   "cell_type": "code",
   "execution_count": 35,
   "id": "c22c37dc",
   "metadata": {},
   "outputs": [
    {
     "data": {
      "text/plain": [
       "Index(['Pais', 'Comisionado', 'Reduccion_CO2', 'Incrmento_P',\n",
       "       'Inversion_arboles', 'Fecha', 'Telefono'],\n",
       "      dtype='object')"
      ]
     },
     "execution_count": 35,
     "metadata": {},
     "output_type": "execute_result"
    }
   ],
   "source": [
    "df_final.columns"
   ]
  },
  {
   "attachments": {},
   "cell_type": "markdown",
   "id": "6f80716b",
   "metadata": {},
   "source": [
    "# Paso 4: Conexion a Redshift"
   ]
  },
  {
   "cell_type": "code",
   "execution_count": 36,
   "id": "0ca43375",
   "metadata": {},
   "outputs": [
    {
     "name": "stdout",
     "output_type": "stream",
     "text": [
      "Connected to Redshift successfully!\n"
     ]
    }
   ],
   "source": [
    "import psycopg2\n",
    "\n",
    "url=\"data-engineer-cluster.cyhh5bfevlmn.us-east-1.redshift.amazonaws\"\n",
    "data_base=\"data-engineer-database\"\n",
    "user=\"dafbustosus_coderhouse\"\n",
    "with open(\"C:/Users/Windows/Downloads/pwd_coder.txt\",'r') as f:\n",
    "    pwd= f.read()\n",
    "\n",
    "try:\n",
    "    conn = psycopg2.connect(\n",
    "        host='data-engineer-cluster.cyhh5bfevlmn.us-east-1.redshift.amazonaws.com',\n",
    "        dbname=data_base,\n",
    "        user=user,\n",
    "        password=pwd,\n",
    "        port='5439'\n",
    "    )\n",
    "    print(\"Connected to Redshift successfully!\")\n",
    "    \n",
    "except Exception as e:\n",
    "    print(\"Unable to connect to Redshift.\")\n",
    "    print(e)"
   ]
  },
  {
   "cell_type": "code",
   "execution_count": 37,
   "id": "f0b78ec0",
   "metadata": {},
   "outputs": [
    {
     "data": {
      "text/plain": [
       "Pais                 object\n",
       "Comisionado          object\n",
       "Reduccion_CO2        object\n",
       "Incrmento_P          object\n",
       "Inversion_arboles    object\n",
       "Fecha                object\n",
       "Telefono              int64\n",
       "dtype: object"
      ]
     },
     "execution_count": 37,
     "metadata": {},
     "output_type": "execute_result"
    }
   ],
   "source": [
    "df_final.dtypes"
   ]
  },
  {
   "attachments": {},
   "cell_type": "markdown",
   "id": "ce86bd5a",
   "metadata": {},
   "source": [
    "# Paso 5: Enviar tabla a la base de datos"
   ]
  },
  {
   "cell_type": "code",
   "execution_count": 38,
   "id": "43af3811",
   "metadata": {},
   "outputs": [],
   "source": [
    "from psycopg2.extras import execute_values\n",
    "\n",
    "def cargar_en_redshift(conn, table_name, dataframe):\n",
    "    dtypes= dataframe.dtypes\n",
    "    cols= list(dtypes.index )\n",
    "    tipos= list(dtypes.values)\n",
    "    type_map = {'int64': 'INT','float64': 'FLOAT','object': 'VARCHAR(50)'}\n",
    "    sql_dtypes = [type_map[str(dtype)] for dtype in tipos]\n",
    "    # Definir formato SQL VARIABLE TIPO_DATO\n",
    "    column_defs = [f\"{name} {data_type}\" for name, data_type in zip(cols, sql_dtypes)]\n",
    "    # Combine column definitions into the CREATE TABLE statement\n",
    "    table_schema = f\"\"\"\n",
    "        CREATE TABLE IF NOT EXISTS {table_name} (\n",
    "            {', '.join(column_defs)}\n",
    "        );\n",
    "        \"\"\"\n",
    "    # Crear la tabla\n",
    "    cur = conn.cursor()\n",
    "    cur.execute(table_schema)\n",
    "    # Generar los valores a insertar\n",
    "    values = [tuple(x) for x in dataframe.to_numpy()]\n",
    "    # Definir el INSERT\n",
    "    insert_sql = f\"INSERT INTO {table_name} ({', '.join(cols)}) VALUES %s\"\n",
    "    # Execute the transaction to insert the data\n",
    "    cur.execute(\"BEGIN\")\n",
    "    execute_values(cur, insert_sql, values)\n",
    "    cur.execute(\"COMMIT\")\n",
    "    print('Proceso terminado')"
   ]
  },
  {
   "cell_type": "code",
   "execution_count": 39,
   "id": "ede43397",
   "metadata": {},
   "outputs": [
    {
     "name": "stdout",
     "output_type": "stream",
     "text": [
      "Proceso terminado\n"
     ]
    }
   ],
   "source": [
    "cargar_en_redshift(conn=conn, table_name='POLITICAS_2050', dataframe=df_final)"
   ]
  },
  {
   "cell_type": "code",
   "execution_count": 40,
   "id": "6efff773",
   "metadata": {},
   "outputs": [
    {
     "data": {
      "text/html": [
       "<div>\n",
       "<style scoped>\n",
       "    .dataframe tbody tr th:only-of-type {\n",
       "        vertical-align: middle;\n",
       "    }\n",
       "\n",
       "    .dataframe tbody tr th {\n",
       "        vertical-align: top;\n",
       "    }\n",
       "\n",
       "    .dataframe thead th {\n",
       "        text-align: right;\n",
       "    }\n",
       "</style>\n",
       "<table border=\"1\" class=\"dataframe\">\n",
       "  <thead>\n",
       "    <tr style=\"text-align: right;\">\n",
       "      <th></th>\n",
       "      <th>id</th>\n",
       "      <th>name</th>\n",
       "      <th>summary</th>\n",
       "      <th>description</th>\n",
       "      <th>experiences_offered</th>\n",
       "      <th>neighborhood_overview</th>\n",
       "      <th>transit</th>\n",
       "      <th>house_rules</th>\n",
       "      <th>host_id</th>\n",
       "      <th>host_since</th>\n",
       "      <th>...</th>\n",
       "      <th>hot_tub_sauna_or_pool</th>\n",
       "      <th>internet</th>\n",
       "      <th>long_term_stays</th>\n",
       "      <th>pets_allowed</th>\n",
       "      <th>private_entrance</th>\n",
       "      <th>secure</th>\n",
       "      <th>self_check_in</th>\n",
       "      <th>smoking_allowed</th>\n",
       "      <th>accessible</th>\n",
       "      <th>event_suitable</th>\n",
       "    </tr>\n",
       "  </thead>\n",
       "  <tbody>\n",
       "    <tr>\n",
       "      <th>0</th>\n",
       "      <td>2539</td>\n",
       "      <td>Clean &amp; quiet apt home by the park</td>\n",
       "      <td>Renovated apt home in elevator building.</td>\n",
       "      <td>Renovated apt home in elevator building. Spaci...</td>\n",
       "      <td>none</td>\n",
       "      <td>Close to Prospect Park and Historic Ditmas Park</td>\n",
       "      <td>Very close to F and G trains and Express bus i...</td>\n",
       "      <td>-The security and comfort of all our guests is...</td>\n",
       "      <td>2787</td>\n",
       "      <td>39698.0</td>\n",
       "      <td>...</td>\n",
       "      <td>-1</td>\n",
       "      <td>1</td>\n",
       "      <td>1</td>\n",
       "      <td>-1</td>\n",
       "      <td>-1</td>\n",
       "      <td>1</td>\n",
       "      <td>1</td>\n",
       "      <td>-1</td>\n",
       "      <td>1</td>\n",
       "      <td>1</td>\n",
       "    </tr>\n",
       "    <tr>\n",
       "      <th>1</th>\n",
       "      <td>3647</td>\n",
       "      <td>THE VILLAGE OF HARLEM....NEW YORK !</td>\n",
       "      <td>NaN</td>\n",
       "      <td>WELCOME TO OUR INTERNATIONAL URBAN COMMUNITY T...</td>\n",
       "      <td>none</td>\n",
       "      <td>NaN</td>\n",
       "      <td>NaN</td>\n",
       "      <td>Upon arrival please have a legibile copy of yo...</td>\n",
       "      <td>4632</td>\n",
       "      <td>39777.0</td>\n",
       "      <td>...</td>\n",
       "      <td>-1</td>\n",
       "      <td>1</td>\n",
       "      <td>-1</td>\n",
       "      <td>-1</td>\n",
       "      <td>-1</td>\n",
       "      <td>-1</td>\n",
       "      <td>-1</td>\n",
       "      <td>-1</td>\n",
       "      <td>-1</td>\n",
       "      <td>-1</td>\n",
       "    </tr>\n",
       "    <tr>\n",
       "      <th>2</th>\n",
       "      <td>7750</td>\n",
       "      <td>Huge 2 BR Upper East  Cental Park</td>\n",
       "      <td>NaN</td>\n",
       "      <td>Large Furnished 2BR one block  to Central Park...</td>\n",
       "      <td>none</td>\n",
       "      <td>NaN</td>\n",
       "      <td>NaN</td>\n",
       "      <td>NaN</td>\n",
       "      <td>17985</td>\n",
       "      <td>39953.0</td>\n",
       "      <td>...</td>\n",
       "      <td>-1</td>\n",
       "      <td>1</td>\n",
       "      <td>-1</td>\n",
       "      <td>1</td>\n",
       "      <td>-1</td>\n",
       "      <td>-1</td>\n",
       "      <td>-1</td>\n",
       "      <td>-1</td>\n",
       "      <td>-1</td>\n",
       "      <td>-1</td>\n",
       "    </tr>\n",
       "    <tr>\n",
       "      <th>3</th>\n",
       "      <td>8505</td>\n",
       "      <td>Sunny Bedroom Across Prospect Park</td>\n",
       "      <td>Just renovated sun drenched bedroom in a quiet...</td>\n",
       "      <td>Just renovated sun drenched bedroom in a quiet...</td>\n",
       "      <td>none</td>\n",
       "      <td>Quiet and beautiful Windsor Terrace. The apart...</td>\n",
       "      <td>Ten minutes walk to the 15th sheet F&amp;G train s...</td>\n",
       "      <td>- No shoes in the house - Quiet hours after 11...</td>\n",
       "      <td>25326</td>\n",
       "      <td>40006.0</td>\n",
       "      <td>...</td>\n",
       "      <td>-1</td>\n",
       "      <td>1</td>\n",
       "      <td>-1</td>\n",
       "      <td>-1</td>\n",
       "      <td>-1</td>\n",
       "      <td>-1</td>\n",
       "      <td>-1</td>\n",
       "      <td>-1</td>\n",
       "      <td>-1</td>\n",
       "      <td>-1</td>\n",
       "    </tr>\n",
       "    <tr>\n",
       "      <th>4</th>\n",
       "      <td>8700</td>\n",
       "      <td>Magnifique Suite au N de Manhattan - vue Cloitres</td>\n",
       "      <td>Suite de 20 m2 a 5 min des 2 lignes de metro a...</td>\n",
       "      <td>Suite de 20 m2 a 5 min des 2 lignes de metro a...</td>\n",
       "      <td>none</td>\n",
       "      <td>NaN</td>\n",
       "      <td>Metro 1 et A</td>\n",
       "      <td>NaN</td>\n",
       "      <td>26394</td>\n",
       "      <td>40014.0</td>\n",
       "      <td>...</td>\n",
       "      <td>-1</td>\n",
       "      <td>1</td>\n",
       "      <td>-1</td>\n",
       "      <td>-1</td>\n",
       "      <td>-1</td>\n",
       "      <td>-1</td>\n",
       "      <td>-1</td>\n",
       "      <td>-1</td>\n",
       "      <td>-1</td>\n",
       "      <td>-1</td>\n",
       "    </tr>\n",
       "  </tbody>\n",
       "</table>\n",
       "<p>5 rows × 81 columns</p>\n",
       "</div>"
      ],
      "text/plain": [
       "     id                                               name  \\\n",
       "0  2539                 Clean & quiet apt home by the park   \n",
       "1  3647                THE VILLAGE OF HARLEM....NEW YORK !   \n",
       "2  7750                  Huge 2 BR Upper East  Cental Park   \n",
       "3  8505                 Sunny Bedroom Across Prospect Park   \n",
       "4  8700  Magnifique Suite au N de Manhattan - vue Cloitres   \n",
       "\n",
       "                                             summary  \\\n",
       "0           Renovated apt home in elevator building.   \n",
       "1                                                NaN   \n",
       "2                                                NaN   \n",
       "3  Just renovated sun drenched bedroom in a quiet...   \n",
       "4  Suite de 20 m2 a 5 min des 2 lignes de metro a...   \n",
       "\n",
       "                                         description experiences_offered  \\\n",
       "0  Renovated apt home in elevator building. Spaci...                none   \n",
       "1  WELCOME TO OUR INTERNATIONAL URBAN COMMUNITY T...                none   \n",
       "2  Large Furnished 2BR one block  to Central Park...                none   \n",
       "3  Just renovated sun drenched bedroom in a quiet...                none   \n",
       "4  Suite de 20 m2 a 5 min des 2 lignes de metro a...                none   \n",
       "\n",
       "                               neighborhood_overview  \\\n",
       "0    Close to Prospect Park and Historic Ditmas Park   \n",
       "1                                                NaN   \n",
       "2                                                NaN   \n",
       "3  Quiet and beautiful Windsor Terrace. The apart...   \n",
       "4                                                NaN   \n",
       "\n",
       "                                             transit  \\\n",
       "0  Very close to F and G trains and Express bus i...   \n",
       "1                                                NaN   \n",
       "2                                                NaN   \n",
       "3  Ten minutes walk to the 15th sheet F&G train s...   \n",
       "4                                       Metro 1 et A   \n",
       "\n",
       "                                         house_rules  host_id  host_since  \\\n",
       "0  -The security and comfort of all our guests is...     2787     39698.0   \n",
       "1  Upon arrival please have a legibile copy of yo...     4632     39777.0   \n",
       "2                                                NaN    17985     39953.0   \n",
       "3  - No shoes in the house - Quiet hours after 11...    25326     40006.0   \n",
       "4                                                NaN    26394     40014.0   \n",
       "\n",
       "   ... hot_tub_sauna_or_pool  internet  long_term_stays  pets_allowed  \\\n",
       "0  ...                    -1         1                1            -1   \n",
       "1  ...                    -1         1               -1            -1   \n",
       "2  ...                    -1         1               -1             1   \n",
       "3  ...                    -1         1               -1            -1   \n",
       "4  ...                    -1         1               -1            -1   \n",
       "\n",
       "   private_entrance secure self_check_in  smoking_allowed  accessible  \\\n",
       "0                -1      1             1               -1           1   \n",
       "1                -1     -1            -1               -1          -1   \n",
       "2                -1     -1            -1               -1          -1   \n",
       "3                -1     -1            -1               -1          -1   \n",
       "4                -1     -1            -1               -1          -1   \n",
       "\n",
       "  event_suitable  \n",
       "0              1  \n",
       "1             -1  \n",
       "2             -1  \n",
       "3             -1  \n",
       "4             -1  \n",
       "\n",
       "[5 rows x 81 columns]"
      ]
     },
     "execution_count": 40,
     "metadata": {},
     "output_type": "execute_result"
    }
   ],
   "source": [
    "t=pd.read_csv('airbnb_nyc.csv',sep=',')\n",
    "t.head()"
   ]
  },
  {
   "cell_type": "code",
   "execution_count": 41,
   "id": "f044f6ff",
   "metadata": {},
   "outputs": [
    {
     "data": {
      "text/plain": [
       "Index(['id', 'name', 'summary', 'description', 'experiences_offered',\n",
       "       'neighborhood_overview', 'transit', 'house_rules', 'host_id',\n",
       "       'host_since', 'host_response_time', 'host_response_rate',\n",
       "       'host_is_superhost', 'host_listings_count', 'host_identity_verified',\n",
       "       'street', 'neighbourhood', 'latitude', 'longitude', 'property_type',\n",
       "       'room_type', 'accommodates', 'bathrooms', 'bedrooms', 'beds',\n",
       "       'bed_type', 'amenities', 'price', 'guests_included', 'extra_people',\n",
       "       'minimum_nights', 'calendar_updated', 'has_availability',\n",
       "       'availability_30', 'availability_60', 'availability_90',\n",
       "       'availability_365', 'number_of_reviews', 'number_of_reviews_ltm',\n",
       "       'review_scores_rating', 'review_scores_accuracy',\n",
       "       'review_scores_cleanliness', 'review_scores_checkin',\n",
       "       'review_scores_communication', 'review_scores_location',\n",
       "       'review_scores_value', 'instant_bookable', 'cancellation_policy',\n",
       "       'calculated_host_listings_count',\n",
       "       'calculated_host_listings_count_entire_homes',\n",
       "       'calculated_host_listings_count_private_rooms',\n",
       "       'calculated_host_listings_count_shared_rooms', 'reviews_per_month',\n",
       "       'check_in_24h', 'air_conditioning', 'high_end_electronics', 'bbq',\n",
       "       'balcony', 'nature_and_views', 'bed_linen', 'breakfast', 'tv',\n",
       "       'coffee_machine', 'cooking_basics', 'white_goods', 'elevator', 'gym',\n",
       "       'child_friendly', 'parking', 'outdoor_space', 'host_greeting',\n",
       "       'hot_tub_sauna_or_pool', 'internet', 'long_term_stays', 'pets_allowed',\n",
       "       'private_entrance', 'secure', 'self_check_in', 'smoking_allowed',\n",
       "       'accessible', 'event_suitable'],\n",
       "      dtype='object')"
      ]
     },
     "execution_count": 41,
     "metadata": {},
     "output_type": "execute_result"
    }
   ],
   "source": [
    "t.columns"
   ]
  }
 ],
 "metadata": {
  "kernelspec": {
   "display_name": "Python 3 (ipykernel)",
   "language": "python",
   "name": "python3"
  },
  "language_info": {
   "codemirror_mode": {
    "name": "ipython",
    "version": 3
   },
   "file_extension": ".py",
   "mimetype": "text/x-python",
   "name": "python",
   "nbconvert_exporter": "python",
   "pygments_lexer": "ipython3",
   "version": "3.10.11"
  }
 },
 "nbformat": 4,
 "nbformat_minor": 5
}
