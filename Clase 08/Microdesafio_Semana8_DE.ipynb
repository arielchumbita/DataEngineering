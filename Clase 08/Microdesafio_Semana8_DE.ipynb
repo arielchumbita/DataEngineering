{
 "cells": [
  {
   "cell_type": "code",
   "execution_count": 1,
   "id": "333fc5d2",
   "metadata": {
    "scrolled": true
   },
   "outputs": [
    {
     "name": "stdout",
     "output_type": "stream",
     "text": [
      "Requirement already satisfied: anonymizedf in c:\\users\\matia\\appdata\\local\\programs\\python\\python310\\lib\\site-packages (1.0.1)\n",
      "Requirement already satisfied: pandas in c:\\users\\matia\\appdata\\local\\programs\\python\\python310\\lib\\site-packages (from anonymizedf) (1.4.2)\n",
      "Requirement already satisfied: faker in c:\\users\\matia\\appdata\\local\\programs\\python\\python310\\lib\\site-packages (from anonymizedf) (19.13.0)\n",
      "Requirement already satisfied: python-dateutil>=2.4 in c:\\users\\matia\\appdata\\local\\programs\\python\\python310\\lib\\site-packages (from faker->anonymizedf) (2.8.2)\n",
      "Requirement already satisfied: pytz>=2020.1 in c:\\users\\matia\\appdata\\local\\programs\\python\\python310\\lib\\site-packages (from pandas->anonymizedf) (2023.3)\n",
      "Requirement already satisfied: numpy>=1.21.0 in c:\\users\\matia\\appdata\\local\\programs\\python\\python310\\lib\\site-packages (from pandas->anonymizedf) (1.24.3)\n",
      "Requirement already satisfied: six>=1.5 in c:\\users\\matia\\appdata\\local\\programs\\python\\python310\\lib\\site-packages (from python-dateutil>=2.4->faker->anonymizedf) (1.16.0)\n"
     ]
    }
   ],
   "source": [
    "#Instalo librería\n",
    "!pip install anonymizedf"
   ]
  },
  {
   "cell_type": "code",
   "execution_count": 2,
   "id": "f9863dd2",
   "metadata": {},
   "outputs": [],
   "source": [
    "import pandas as pd\n",
    "from anonymizedf.anonymizedf import anonymize"
   ]
  },
  {
   "attachments": {},
   "cell_type": "markdown",
   "id": "fa03cdc9",
   "metadata": {},
   "source": [
    "# Paso 1: Lectura de datos"
   ]
  },
  {
   "cell_type": "code",
   "execution_count": 3,
   "id": "530bbcbe",
   "metadata": {
    "scrolled": true
   },
   "outputs": [
    {
     "data": {
      "text/html": [
       "<div>\n",
       "<style scoped>\n",
       "    .dataframe tbody tr th:only-of-type {\n",
       "        vertical-align: middle;\n",
       "    }\n",
       "\n",
       "    .dataframe tbody tr th {\n",
       "        vertical-align: top;\n",
       "    }\n",
       "\n",
       "    .dataframe thead th {\n",
       "        text-align: right;\n",
       "    }\n",
       "</style>\n",
       "<table border=\"1\" class=\"dataframe\">\n",
       "  <thead>\n",
       "    <tr style=\"text-align: right;\">\n",
       "      <th></th>\n",
       "      <th>Pais</th>\n",
       "      <th>Comisionado</th>\n",
       "      <th>Reduccion_CO2</th>\n",
       "      <th>Incrmento_P</th>\n",
       "      <th>Inversion_arboles</th>\n",
       "      <th>Fecha</th>\n",
       "      <th>Telefono</th>\n",
       "    </tr>\n",
       "  </thead>\n",
       "  <tbody>\n",
       "    <tr>\n",
       "      <th>0</th>\n",
       "      <td>Argentina</td>\n",
       "      <td>Carlos Veroes</td>\n",
       "      <td>Si</td>\n",
       "      <td>Si</td>\n",
       "      <td>Si</td>\n",
       "      <td>08/07/2022</td>\n",
       "      <td>23467698</td>\n",
       "    </tr>\n",
       "    <tr>\n",
       "      <th>1</th>\n",
       "      <td>Colombia</td>\n",
       "      <td>Sofia Andrade</td>\n",
       "      <td>No</td>\n",
       "      <td>No</td>\n",
       "      <td>Si</td>\n",
       "      <td>12/06/2022</td>\n",
       "      <td>76587899</td>\n",
       "    </tr>\n",
       "    <tr>\n",
       "      <th>2</th>\n",
       "      <td>Chile</td>\n",
       "      <td>Cristina Valdivia</td>\n",
       "      <td>Si</td>\n",
       "      <td>Si</td>\n",
       "      <td>Si</td>\n",
       "      <td>15/07/2022</td>\n",
       "      <td>76593749</td>\n",
       "    </tr>\n",
       "    <tr>\n",
       "      <th>3</th>\n",
       "      <td>Bolivia</td>\n",
       "      <td>Pedro Carlos</td>\n",
       "      <td>No</td>\n",
       "      <td>No</td>\n",
       "      <td>No</td>\n",
       "      <td>01/09/2022</td>\n",
       "      <td>65746474</td>\n",
       "    </tr>\n",
       "    <tr>\n",
       "      <th>4</th>\n",
       "      <td>Paraguay</td>\n",
       "      <td>Juan Paraguas</td>\n",
       "      <td>No</td>\n",
       "      <td>Si</td>\n",
       "      <td>Si</td>\n",
       "      <td>04/06/2022</td>\n",
       "      <td>83447474</td>\n",
       "    </tr>\n",
       "    <tr>\n",
       "      <th>5</th>\n",
       "      <td>Venezuela</td>\n",
       "      <td>Andres Calamaro</td>\n",
       "      <td>Si</td>\n",
       "      <td>Si</td>\n",
       "      <td>No</td>\n",
       "      <td>03/05/2022</td>\n",
       "      <td>76847383</td>\n",
       "    </tr>\n",
       "    <tr>\n",
       "      <th>6</th>\n",
       "      <td>Uruguay</td>\n",
       "      <td>Fernando Tatial</td>\n",
       "      <td>No</td>\n",
       "      <td>No</td>\n",
       "      <td>Si</td>\n",
       "      <td>04/04/2022</td>\n",
       "      <td>13434453</td>\n",
       "    </tr>\n",
       "    <tr>\n",
       "      <th>7</th>\n",
       "      <td>Brasil</td>\n",
       "      <td>Gabriel Toeras</td>\n",
       "      <td>Si</td>\n",
       "      <td>Si</td>\n",
       "      <td>No</td>\n",
       "      <td>12/06/2022</td>\n",
       "      <td>37374344</td>\n",
       "    </tr>\n",
       "    <tr>\n",
       "      <th>8</th>\n",
       "      <td>Ecuador</td>\n",
       "      <td>Juan Vera</td>\n",
       "      <td>No</td>\n",
       "      <td>No</td>\n",
       "      <td>No</td>\n",
       "      <td>14/05/2022</td>\n",
       "      <td>47477654</td>\n",
       "    </tr>\n",
       "    <tr>\n",
       "      <th>9</th>\n",
       "      <td>Peru</td>\n",
       "      <td>Andres Porto</td>\n",
       "      <td>No</td>\n",
       "      <td>No</td>\n",
       "      <td>No</td>\n",
       "      <td>13/05/2022</td>\n",
       "      <td>57737373</td>\n",
       "    </tr>\n",
       "    <tr>\n",
       "      <th>10</th>\n",
       "      <td>EEUU</td>\n",
       "      <td>Jennifer Laurence</td>\n",
       "      <td>Si</td>\n",
       "      <td>Si</td>\n",
       "      <td>Si</td>\n",
       "      <td>01/04/2022</td>\n",
       "      <td>84574737</td>\n",
       "    </tr>\n",
       "    <tr>\n",
       "      <th>11</th>\n",
       "      <td>Canada</td>\n",
       "      <td>John white</td>\n",
       "      <td>No</td>\n",
       "      <td>Si</td>\n",
       "      <td>Si</td>\n",
       "      <td>04/01/2022</td>\n",
       "      <td>83873734</td>\n",
       "    </tr>\n",
       "  </tbody>\n",
       "</table>\n",
       "</div>"
      ],
      "text/plain": [
       "        Pais         Comisionado Reduccion_CO2 Incrmento_P Inversion_arboles  \\\n",
       "0   Argentina      Carlos Veroes            Si          Si                Si   \n",
       "1    Colombia      Sofia Andrade            No          No                Si   \n",
       "2       Chile  Cristina Valdivia            Si          Si                Si   \n",
       "3     Bolivia       Pedro Carlos            No          No                No   \n",
       "4    Paraguay      Juan Paraguas            No          Si                Si   \n",
       "5   Venezuela    Andres Calamaro            Si          Si                No   \n",
       "6     Uruguay    Fernando Tatial            No          No                Si   \n",
       "7      Brasil     Gabriel Toeras            Si          Si                No   \n",
       "8     Ecuador          Juan Vera            No          No                No   \n",
       "9        Peru       Andres Porto            No          No                No   \n",
       "10       EEUU  Jennifer Laurence            Si          Si                Si   \n",
       "11     Canada         John white            No          Si                Si   \n",
       "\n",
       "         Fecha  Telefono  \n",
       "0   08/07/2022  23467698  \n",
       "1   12/06/2022  76587899  \n",
       "2   15/07/2022  76593749  \n",
       "3   01/09/2022  65746474  \n",
       "4   04/06/2022  83447474  \n",
       "5   03/05/2022  76847383  \n",
       "6   04/04/2022  13434453  \n",
       "7   12/06/2022  37374344  \n",
       "8   14/05/2022  47477654  \n",
       "9   13/05/2022  57737373  \n",
       "10  01/04/2022  84574737  \n",
       "11  04/01/2022  83873734  "
      ]
     },
     "execution_count": 3,
     "metadata": {},
     "output_type": "execute_result"
    }
   ],
   "source": [
    "df= pd.read_csv('Datos_Microdesafio_Semana8_DE.csv',sep=';')\n",
    "df.head(12)"
   ]
  },
  {
   "attachments": {},
   "cell_type": "markdown",
   "id": "32089783",
   "metadata": {},
   "source": [
    "# Paso 2: Anonimizacion de columnas"
   ]
  },
  {
   "cell_type": "code",
   "execution_count": 4,
   "id": "d947d1ef",
   "metadata": {},
   "outputs": [],
   "source": [
    "# Preparar el dataframe, paso objeto por anonymize\n",
    "an = anonymize(df)"
   ]
  },
  {
   "cell_type": "code",
   "execution_count": 5,
   "id": "e267c52f",
   "metadata": {},
   "outputs": [
    {
     "data": {
      "text/plain": [
       "anonymizedf.anonymizedf.anonymize"
      ]
     },
     "execution_count": 5,
     "metadata": {},
     "output_type": "execute_result"
    }
   ],
   "source": [
    "#Es de tipo anonymize\n",
    "type(an)"
   ]
  },
  {
   "cell_type": "code",
   "execution_count": 6,
   "id": "1140adf7",
   "metadata": {},
   "outputs": [
    {
     "name": "stdout",
     "output_type": "stream",
     "text": [
      "\u001b[1;31mInit signature:\u001b[0m \u001b[0manonymize\u001b[0m\u001b[1;33m(\u001b[0m\u001b[0mdf\u001b[0m\u001b[1;33m)\u001b[0m\u001b[1;33m\u001b[0m\u001b[1;33m\u001b[0m\u001b[0m\n",
      "\u001b[1;31mDocstring:\u001b[0m     \n",
      "Initializes a Pandas DataFrame as an anonymize object\n",
      "to be used for making fake data.\n",
      "\n",
      "Args:\n",
      "    df: takes a Pandas DataFrame\n",
      "\n",
      "Returns:\n",
      "    anonymize object\n",
      "\u001b[1;31mFile:\u001b[0m           c:\\users\\matia\\appdata\\local\\programs\\python\\python310\\lib\\site-packages\\anonymizedf\\anonymizedf.py\n",
      "\u001b[1;31mType:\u001b[0m           type\n",
      "\u001b[1;31mSubclasses:\u001b[0m     "
     ]
    }
   ],
   "source": [
    "anonymize?"
   ]
  },
  {
   "attachments": {},
   "cell_type": "markdown",
   "id": "0378acb0",
   "metadata": {},
   "source": [
    "`anonymize:` Este método se utiliza para anonimizar un dataframe. El método reemplaza todos los valores de una columna dada por valores aleatorios generados por el algoritmo de hash SHA-256. Esto se hace para preservar la distribución de los datos originales. El método devuelve un nuevo dataframe con los valores originales reemplazados por valores anonimizados."
   ]
  },
  {
   "cell_type": "code",
   "execution_count": 7,
   "id": "a0754bc0",
   "metadata": {},
   "outputs": [
    {
     "name": "stdout",
     "output_type": "stream",
     "text": [
      "Requirement already satisfied: Faker in c:\\users\\matia\\appdata\\local\\programs\\python\\python310\\lib\\site-packages (19.13.0)\n",
      "Requirement already satisfied: python-dateutil>=2.4 in c:\\users\\matia\\appdata\\local\\programs\\python\\python310\\lib\\site-packages (from Faker) (2.8.2)\n",
      "Requirement already satisfied: six>=1.5 in c:\\users\\matia\\appdata\\local\\programs\\python\\python310\\lib\\site-packages (from python-dateutil>=2.4->Faker) (1.16.0)\n"
     ]
    }
   ],
   "source": [
    "#Instalo Faker\n",
    "!pip install Faker"
   ]
  },
  {
   "cell_type": "code",
   "execution_count": 8,
   "id": "e37a22e9",
   "metadata": {},
   "outputs": [
    {
     "name": "stdout",
     "output_type": "stream",
     "text": [
      "Object `Faker` not found.\n"
     ]
    }
   ],
   "source": [
    "Faker?"
   ]
  },
  {
   "cell_type": "code",
   "execution_count": 9,
   "id": "e9f4b193",
   "metadata": {},
   "outputs": [],
   "source": [
    "#Importo y creo instancias\n",
    "from faker import Faker\n",
    "fake = Faker()"
   ]
  },
  {
   "cell_type": "code",
   "execution_count": 10,
   "id": "6b63a85e",
   "metadata": {},
   "outputs": [
    {
     "data": {
      "text/plain": [
       "'CR'"
      ]
     },
     "execution_count": 10,
     "metadata": {},
     "output_type": "execute_result"
    }
   ],
   "source": [
    "#Genera códigos de PAISES aleatoreos cada vez que ejecuto\n",
    "fake.country_code()"
   ]
  },
  {
   "cell_type": "code",
   "execution_count": 11,
   "id": "9e51311f",
   "metadata": {},
   "outputs": [
    {
     "data": {
      "text/plain": [
       "'Jennifermouth'"
      ]
     },
     "execution_count": 11,
     "metadata": {},
     "output_type": "execute_result"
    }
   ],
   "source": [
    "#Genera CIUDADES aleatoreos cada vez que ejecuto\n",
    "fake.city()"
   ]
  },
  {
   "cell_type": "code",
   "execution_count": 12,
   "id": "87d8eaa3",
   "metadata": {},
   "outputs": [
    {
     "data": {
      "text/plain": [
       "Decimal('12.746628')"
      ]
     },
     "execution_count": 12,
     "metadata": {},
     "output_type": "execute_result"
    }
   ],
   "source": [
    "#Genera códigos de COORDENADAS aleatoreos cada vez que ejecuto\n",
    "fake.coordinate()"
   ]
  },
  {
   "cell_type": "code",
   "execution_count": 13,
   "id": "b2729be3",
   "metadata": {},
   "outputs": [
    {
     "data": {
      "text/plain": [
       "'gperez@blair-jefferson.org'"
      ]
     },
     "execution_count": 13,
     "metadata": {},
     "output_type": "execute_result"
    }
   ],
   "source": [
    "#Genera EMAIL aleatoreos cada vez que ejecuto\n",
    "fake.company_email()"
   ]
  },
  {
   "cell_type": "code",
   "execution_count": 14,
   "id": "9b3b06bc",
   "metadata": {},
   "outputs": [
    {
     "data": {
      "text/plain": [
       "'[{\"name\": \"Charles Reed\", \"residency\": \"354 Erin Junction\\\\nRogerston, WY 26898\"}, {\"name\": \"Ashley Hawkins\", \"residency\": \"804 Jacob Shores\\\\nPort Heathermouth, ME 87974\"}, {\"name\": \"Randall Palmer\", \"residency\": \"59687 Mendoza Camp Suite 482\\\\nSouth Jessicastad, MS 34929\"}, {\"name\": \"Anthony Humphrey\", \"residency\": \"6076 Nathan Shores Suite 446\\\\nLauraville, OR 20391\"}, {\"name\": \"Kevin Ewing\", \"residency\": \"4015 Rivas Fords Apt. 234\\\\nPort Jenniferfort, VT 56943\"}, {\"name\": \"Juan King\", \"residency\": \"918 Chen Cliffs Apt. 938\\\\nNew Richardville, IN 82786\"}, {\"name\": \"Kevin Hill\", \"residency\": \"05334 Peters Flat Suite 075\\\\nBishopmouth, MI 99046\"}, {\"name\": \"Derek Hall\", \"residency\": \"688 Jackson Valleys\\\\nRomanland, NM 61708\"}, {\"name\": \"Sean Cox\", \"residency\": \"788 Bauer Locks\\\\nBrendamouth, CT 82981\"}, {\"name\": \"Casey Sanchez\", \"residency\": \"430 Brandon Key Suite 943\\\\nHunterchester, TN 85736\"}]'"
      ]
     },
     "execution_count": 14,
     "metadata": {},
     "output_type": "execute_result"
    }
   ],
   "source": [
    "#Genera JSON aleatoreos cada vez que ejecuto\n",
    "fake.json()"
   ]
  },
  {
   "cell_type": "code",
   "execution_count": 15,
   "id": "c13a9e64",
   "metadata": {},
   "outputs": [
    {
     "name": "stdout",
     "output_type": "stream",
     "text": [
      "Mason Young\n",
      "Carol Parrish\n",
      "Taylor Cook\n",
      "George Nelson\n",
      "Keith Santiago\n",
      "Sara Pena\n",
      "Clarence Miles\n",
      "Mr. Timothy Farmer\n",
      "Tyler Leach\n",
      "Jenna Orr\n"
     ]
    }
   ],
   "source": [
    "#Función para serializar\n",
    "for _ in range(10):\n",
    "  print(fake.name())"
   ]
  },
  {
   "cell_type": "code",
   "execution_count": 16,
   "id": "32ab2197",
   "metadata": {
    "scrolled": true
   },
   "outputs": [
    {
     "data": {
      "text/html": [
       "<div>\n",
       "<style scoped>\n",
       "    .dataframe tbody tr th:only-of-type {\n",
       "        vertical-align: middle;\n",
       "    }\n",
       "\n",
       "    .dataframe tbody tr th {\n",
       "        vertical-align: top;\n",
       "    }\n",
       "\n",
       "    .dataframe thead th {\n",
       "        text-align: right;\n",
       "    }\n",
       "</style>\n",
       "<table border=\"1\" class=\"dataframe\">\n",
       "  <thead>\n",
       "    <tr style=\"text-align: right;\">\n",
       "      <th></th>\n",
       "      <th>Pais</th>\n",
       "      <th>Comisionado</th>\n",
       "      <th>Reduccion_CO2</th>\n",
       "      <th>Incrmento_P</th>\n",
       "      <th>Inversion_arboles</th>\n",
       "      <th>Fecha</th>\n",
       "      <th>Telefono</th>\n",
       "      <th>Fake_Comisionado</th>\n",
       "      <th>Fake_Fecha</th>\n",
       "      <th>Fake_Telefono</th>\n",
       "    </tr>\n",
       "  </thead>\n",
       "  <tbody>\n",
       "    <tr>\n",
       "      <th>0</th>\n",
       "      <td>Argentina</td>\n",
       "      <td>Carlos Veroes</td>\n",
       "      <td>Si</td>\n",
       "      <td>Si</td>\n",
       "      <td>Si</td>\n",
       "      <td>08/07/2022</td>\n",
       "      <td>23467698</td>\n",
       "      <td>Grace Hamilton</td>\n",
       "      <td>1994-03-04</td>\n",
       "      <td>84043485</td>\n",
       "    </tr>\n",
       "    <tr>\n",
       "      <th>1</th>\n",
       "      <td>Colombia</td>\n",
       "      <td>Sofia Andrade</td>\n",
       "      <td>No</td>\n",
       "      <td>No</td>\n",
       "      <td>Si</td>\n",
       "      <td>12/06/2022</td>\n",
       "      <td>76587899</td>\n",
       "      <td>Dr Christopher Singh</td>\n",
       "      <td>1981-02-25</td>\n",
       "      <td>40313769</td>\n",
       "    </tr>\n",
       "    <tr>\n",
       "      <th>2</th>\n",
       "      <td>Chile</td>\n",
       "      <td>Cristina Valdivia</td>\n",
       "      <td>Si</td>\n",
       "      <td>Si</td>\n",
       "      <td>Si</td>\n",
       "      <td>15/07/2022</td>\n",
       "      <td>76593749</td>\n",
       "      <td>Dr Gareth Ball</td>\n",
       "      <td>2007-11-06</td>\n",
       "      <td>74745646</td>\n",
       "    </tr>\n",
       "    <tr>\n",
       "      <th>3</th>\n",
       "      <td>Bolivia</td>\n",
       "      <td>Pedro Carlos</td>\n",
       "      <td>No</td>\n",
       "      <td>No</td>\n",
       "      <td>No</td>\n",
       "      <td>01/09/2022</td>\n",
       "      <td>65746474</td>\n",
       "      <td>Owen Begum</td>\n",
       "      <td>1973-07-23</td>\n",
       "      <td>65617023</td>\n",
       "    </tr>\n",
       "    <tr>\n",
       "      <th>4</th>\n",
       "      <td>Paraguay</td>\n",
       "      <td>Juan Paraguas</td>\n",
       "      <td>No</td>\n",
       "      <td>Si</td>\n",
       "      <td>Si</td>\n",
       "      <td>04/06/2022</td>\n",
       "      <td>83447474</td>\n",
       "      <td>Kirsty Edwards</td>\n",
       "      <td>2007-04-02</td>\n",
       "      <td>53228909</td>\n",
       "    </tr>\n",
       "    <tr>\n",
       "      <th>5</th>\n",
       "      <td>Venezuela</td>\n",
       "      <td>Andres Calamaro</td>\n",
       "      <td>Si</td>\n",
       "      <td>Si</td>\n",
       "      <td>No</td>\n",
       "      <td>03/05/2022</td>\n",
       "      <td>76847383</td>\n",
       "      <td>Dr Mitchell Marshall</td>\n",
       "      <td>1972-01-18</td>\n",
       "      <td>29435973</td>\n",
       "    </tr>\n",
       "    <tr>\n",
       "      <th>6</th>\n",
       "      <td>Uruguay</td>\n",
       "      <td>Fernando Tatial</td>\n",
       "      <td>No</td>\n",
       "      <td>No</td>\n",
       "      <td>Si</td>\n",
       "      <td>04/04/2022</td>\n",
       "      <td>13434453</td>\n",
       "      <td>Miss Lesley Bartlett</td>\n",
       "      <td>2000-03-13</td>\n",
       "      <td>42296819</td>\n",
       "    </tr>\n",
       "    <tr>\n",
       "      <th>7</th>\n",
       "      <td>Brasil</td>\n",
       "      <td>Gabriel Toeras</td>\n",
       "      <td>Si</td>\n",
       "      <td>Si</td>\n",
       "      <td>No</td>\n",
       "      <td>12/06/2022</td>\n",
       "      <td>37374344</td>\n",
       "      <td>Kim Lambert</td>\n",
       "      <td>1981-02-25</td>\n",
       "      <td>74576322</td>\n",
       "    </tr>\n",
       "    <tr>\n",
       "      <th>8</th>\n",
       "      <td>Ecuador</td>\n",
       "      <td>Juan Vera</td>\n",
       "      <td>No</td>\n",
       "      <td>No</td>\n",
       "      <td>No</td>\n",
       "      <td>14/05/2022</td>\n",
       "      <td>47477654</td>\n",
       "      <td>Rosemary Smith</td>\n",
       "      <td>2014-09-17</td>\n",
       "      <td>78381944</td>\n",
       "    </tr>\n",
       "    <tr>\n",
       "      <th>9</th>\n",
       "      <td>Peru</td>\n",
       "      <td>Andres Porto</td>\n",
       "      <td>No</td>\n",
       "      <td>No</td>\n",
       "      <td>No</td>\n",
       "      <td>13/05/2022</td>\n",
       "      <td>57737373</td>\n",
       "      <td>Mr Paul Saunders</td>\n",
       "      <td>1975-10-19</td>\n",
       "      <td>45571819</td>\n",
       "    </tr>\n",
       "    <tr>\n",
       "      <th>10</th>\n",
       "      <td>EEUU</td>\n",
       "      <td>Jennifer Laurence</td>\n",
       "      <td>Si</td>\n",
       "      <td>Si</td>\n",
       "      <td>Si</td>\n",
       "      <td>01/04/2022</td>\n",
       "      <td>84574737</td>\n",
       "      <td>Owen Burns</td>\n",
       "      <td>2000-03-09</td>\n",
       "      <td>48367482</td>\n",
       "    </tr>\n",
       "    <tr>\n",
       "      <th>11</th>\n",
       "      <td>Canada</td>\n",
       "      <td>John white</td>\n",
       "      <td>No</td>\n",
       "      <td>Si</td>\n",
       "      <td>Si</td>\n",
       "      <td>04/01/2022</td>\n",
       "      <td>83873734</td>\n",
       "      <td>Caroline Bailey-Weston</td>\n",
       "      <td>2007-08-12</td>\n",
       "      <td>76174258</td>\n",
       "    </tr>\n",
       "    <tr>\n",
       "      <th>12</th>\n",
       "      <td>Mexico</td>\n",
       "      <td>Andres Fernandez</td>\n",
       "      <td>Si</td>\n",
       "      <td>Si</td>\n",
       "      <td>No</td>\n",
       "      <td>08/05/2022</td>\n",
       "      <td>64634746</td>\n",
       "      <td>Julie Young</td>\n",
       "      <td>1982-05-16</td>\n",
       "      <td>37715759</td>\n",
       "    </tr>\n",
       "    <tr>\n",
       "      <th>13</th>\n",
       "      <td>Costa Rica</td>\n",
       "      <td>Pedro Urrutia</td>\n",
       "      <td>No</td>\n",
       "      <td>No</td>\n",
       "      <td>Si</td>\n",
       "      <td>09/06/2022</td>\n",
       "      <td>14544643</td>\n",
       "      <td>Bradley Evans</td>\n",
       "      <td>1972-01-27</td>\n",
       "      <td>24224599</td>\n",
       "    </tr>\n",
       "    <tr>\n",
       "      <th>14</th>\n",
       "      <td>Jamaica</td>\n",
       "      <td>Michael Sophit</td>\n",
       "      <td>No</td>\n",
       "      <td>No</td>\n",
       "      <td>No</td>\n",
       "      <td>26/07/2022</td>\n",
       "      <td>75638664</td>\n",
       "      <td>Malcolm Middleton-Jones</td>\n",
       "      <td>1981-09-20</td>\n",
       "      <td>45601567</td>\n",
       "    </tr>\n",
       "  </tbody>\n",
       "</table>\n",
       "</div>"
      ],
      "text/plain": [
       "         Pais         Comisionado Reduccion_CO2 Incrmento_P Inversion_arboles  \\\n",
       "0    Argentina      Carlos Veroes            Si          Si                Si   \n",
       "1     Colombia      Sofia Andrade            No          No                Si   \n",
       "2        Chile  Cristina Valdivia            Si          Si                Si   \n",
       "3      Bolivia       Pedro Carlos            No          No                No   \n",
       "4     Paraguay      Juan Paraguas            No          Si                Si   \n",
       "5    Venezuela    Andres Calamaro            Si          Si                No   \n",
       "6      Uruguay    Fernando Tatial            No          No                Si   \n",
       "7       Brasil     Gabriel Toeras            Si          Si                No   \n",
       "8      Ecuador          Juan Vera            No          No                No   \n",
       "9         Peru       Andres Porto            No          No                No   \n",
       "10        EEUU  Jennifer Laurence            Si          Si                Si   \n",
       "11      Canada         John white            No          Si                Si   \n",
       "12     Mexico    Andres Fernandez            Si          Si                No   \n",
       "13  Costa Rica      Pedro Urrutia            No          No                Si   \n",
       "14    Jamaica      Michael Sophit            No          No                No   \n",
       "\n",
       "         Fecha  Telefono         Fake_Comisionado  Fake_Fecha  Fake_Telefono  \n",
       "0   08/07/2022  23467698           Grace Hamilton  1994-03-04       84043485  \n",
       "1   12/06/2022  76587899     Dr Christopher Singh  1981-02-25       40313769  \n",
       "2   15/07/2022  76593749           Dr Gareth Ball  2007-11-06       74745646  \n",
       "3   01/09/2022  65746474               Owen Begum  1973-07-23       65617023  \n",
       "4   04/06/2022  83447474           Kirsty Edwards  2007-04-02       53228909  \n",
       "5   03/05/2022  76847383     Dr Mitchell Marshall  1972-01-18       29435973  \n",
       "6   04/04/2022  13434453     Miss Lesley Bartlett  2000-03-13       42296819  \n",
       "7   12/06/2022  37374344              Kim Lambert  1981-02-25       74576322  \n",
       "8   14/05/2022  47477654           Rosemary Smith  2014-09-17       78381944  \n",
       "9   13/05/2022  57737373         Mr Paul Saunders  1975-10-19       45571819  \n",
       "10  01/04/2022  84574737               Owen Burns  2000-03-09       48367482  \n",
       "11  04/01/2022  83873734   Caroline Bailey-Weston  2007-08-12       76174258  \n",
       "12  08/05/2022  64634746              Julie Young  1982-05-16       37715759  \n",
       "13  09/06/2022  14544643            Bradley Evans  1972-01-27       24224599  \n",
       "14  26/07/2022  75638664  Malcolm Middleton-Jones  1981-09-20       45601567  "
      ]
     },
     "execution_count": 16,
     "metadata": {},
     "output_type": "execute_result"
    }
   ],
   "source": [
    "#Anonimizo objeto DF, aplico método específico sobre columna.\n",
    "fake_df = (\n",
    "    an\n",
    "    .fake_names(\"Comisionado\", chaining=True)\n",
    "    .fake_dates(\"Fecha\", chaining=True)\n",
    "    .fake_whole_numbers(\"Telefono\", chaining=True)\n",
    "    .show_data_frame()\n",
    ")\n",
    "fake_df"
   ]
  },
  {
   "cell_type": "code",
   "execution_count": 17,
   "id": "a525c9b7",
   "metadata": {},
   "outputs": [
    {
     "data": {
      "text/plain": [
       "pandas.core.frame.DataFrame"
      ]
     },
     "execution_count": 17,
     "metadata": {},
     "output_type": "execute_result"
    }
   ],
   "source": [
    "#Tipo dato salida es un dataframe\n",
    "type(fake_df)"
   ]
  },
  {
   "cell_type": "code",
   "execution_count": 18,
   "id": "281008ba",
   "metadata": {},
   "outputs": [
    {
     "data": {
      "text/plain": [
       "Index(['Pais ', 'Comisionado', 'Reduccion_CO2', 'Incrmento_P',\n",
       "       'Inversion_arboles', 'Fecha', 'Telefono', 'Fake_Comisionado',\n",
       "       'Fake_Fecha', 'Fake_Telefono'],\n",
       "      dtype='object')"
      ]
     },
     "execution_count": 18,
     "metadata": {},
     "output_type": "execute_result"
    }
   ],
   "source": [
    "#Veo columnas de salida\n",
    "fake_df.columns"
   ]
  },
  {
   "attachments": {},
   "cell_type": "markdown",
   "id": "92887f97",
   "metadata": {},
   "source": [
    "# Paso 3: Eleccion de columnas para alimentar database"
   ]
  },
  {
   "cell_type": "code",
   "execution_count": 19,
   "id": "4d0a7520",
   "metadata": {
    "scrolled": true
   },
   "outputs": [
    {
     "data": {
      "text/html": [
       "<div>\n",
       "<style scoped>\n",
       "    .dataframe tbody tr th:only-of-type {\n",
       "        vertical-align: middle;\n",
       "    }\n",
       "\n",
       "    .dataframe tbody tr th {\n",
       "        vertical-align: top;\n",
       "    }\n",
       "\n",
       "    .dataframe thead th {\n",
       "        text-align: right;\n",
       "    }\n",
       "</style>\n",
       "<table border=\"1\" class=\"dataframe\">\n",
       "  <thead>\n",
       "    <tr style=\"text-align: right;\">\n",
       "      <th></th>\n",
       "      <th>Pais</th>\n",
       "      <th>Comisionado</th>\n",
       "      <th>Reduccion_CO2</th>\n",
       "      <th>Incrmento_P</th>\n",
       "      <th>Inversion_arboles</th>\n",
       "      <th>Fecha</th>\n",
       "      <th>Telefono</th>\n",
       "    </tr>\n",
       "  </thead>\n",
       "  <tbody>\n",
       "    <tr>\n",
       "      <th>0</th>\n",
       "      <td>Argentina</td>\n",
       "      <td>Grace Hamilton</td>\n",
       "      <td>Si</td>\n",
       "      <td>Si</td>\n",
       "      <td>Si</td>\n",
       "      <td>1994-03-04</td>\n",
       "      <td>84043485</td>\n",
       "    </tr>\n",
       "    <tr>\n",
       "      <th>1</th>\n",
       "      <td>Colombia</td>\n",
       "      <td>Dr Christopher Singh</td>\n",
       "      <td>No</td>\n",
       "      <td>No</td>\n",
       "      <td>Si</td>\n",
       "      <td>1981-02-25</td>\n",
       "      <td>40313769</td>\n",
       "    </tr>\n",
       "    <tr>\n",
       "      <th>2</th>\n",
       "      <td>Chile</td>\n",
       "      <td>Dr Gareth Ball</td>\n",
       "      <td>Si</td>\n",
       "      <td>Si</td>\n",
       "      <td>Si</td>\n",
       "      <td>2007-11-06</td>\n",
       "      <td>74745646</td>\n",
       "    </tr>\n",
       "    <tr>\n",
       "      <th>3</th>\n",
       "      <td>Bolivia</td>\n",
       "      <td>Owen Begum</td>\n",
       "      <td>No</td>\n",
       "      <td>No</td>\n",
       "      <td>No</td>\n",
       "      <td>1973-07-23</td>\n",
       "      <td>65617023</td>\n",
       "    </tr>\n",
       "    <tr>\n",
       "      <th>4</th>\n",
       "      <td>Paraguay</td>\n",
       "      <td>Kirsty Edwards</td>\n",
       "      <td>No</td>\n",
       "      <td>Si</td>\n",
       "      <td>Si</td>\n",
       "      <td>2007-04-02</td>\n",
       "      <td>53228909</td>\n",
       "    </tr>\n",
       "    <tr>\n",
       "      <th>5</th>\n",
       "      <td>Venezuela</td>\n",
       "      <td>Dr Mitchell Marshall</td>\n",
       "      <td>Si</td>\n",
       "      <td>Si</td>\n",
       "      <td>No</td>\n",
       "      <td>1972-01-18</td>\n",
       "      <td>29435973</td>\n",
       "    </tr>\n",
       "    <tr>\n",
       "      <th>6</th>\n",
       "      <td>Uruguay</td>\n",
       "      <td>Miss Lesley Bartlett</td>\n",
       "      <td>No</td>\n",
       "      <td>No</td>\n",
       "      <td>Si</td>\n",
       "      <td>2000-03-13</td>\n",
       "      <td>42296819</td>\n",
       "    </tr>\n",
       "    <tr>\n",
       "      <th>7</th>\n",
       "      <td>Brasil</td>\n",
       "      <td>Kim Lambert</td>\n",
       "      <td>Si</td>\n",
       "      <td>Si</td>\n",
       "      <td>No</td>\n",
       "      <td>1981-02-25</td>\n",
       "      <td>74576322</td>\n",
       "    </tr>\n",
       "    <tr>\n",
       "      <th>8</th>\n",
       "      <td>Ecuador</td>\n",
       "      <td>Rosemary Smith</td>\n",
       "      <td>No</td>\n",
       "      <td>No</td>\n",
       "      <td>No</td>\n",
       "      <td>2014-09-17</td>\n",
       "      <td>78381944</td>\n",
       "    </tr>\n",
       "    <tr>\n",
       "      <th>9</th>\n",
       "      <td>Peru</td>\n",
       "      <td>Mr Paul Saunders</td>\n",
       "      <td>No</td>\n",
       "      <td>No</td>\n",
       "      <td>No</td>\n",
       "      <td>1975-10-19</td>\n",
       "      <td>45571819</td>\n",
       "    </tr>\n",
       "    <tr>\n",
       "      <th>10</th>\n",
       "      <td>EEUU</td>\n",
       "      <td>Owen Burns</td>\n",
       "      <td>Si</td>\n",
       "      <td>Si</td>\n",
       "      <td>Si</td>\n",
       "      <td>2000-03-09</td>\n",
       "      <td>48367482</td>\n",
       "    </tr>\n",
       "    <tr>\n",
       "      <th>11</th>\n",
       "      <td>Canada</td>\n",
       "      <td>Caroline Bailey-Weston</td>\n",
       "      <td>No</td>\n",
       "      <td>Si</td>\n",
       "      <td>Si</td>\n",
       "      <td>2007-08-12</td>\n",
       "      <td>76174258</td>\n",
       "    </tr>\n",
       "    <tr>\n",
       "      <th>12</th>\n",
       "      <td>Mexico</td>\n",
       "      <td>Julie Young</td>\n",
       "      <td>Si</td>\n",
       "      <td>Si</td>\n",
       "      <td>No</td>\n",
       "      <td>1982-05-16</td>\n",
       "      <td>37715759</td>\n",
       "    </tr>\n",
       "    <tr>\n",
       "      <th>13</th>\n",
       "      <td>Costa Rica</td>\n",
       "      <td>Bradley Evans</td>\n",
       "      <td>No</td>\n",
       "      <td>No</td>\n",
       "      <td>Si</td>\n",
       "      <td>1972-01-27</td>\n",
       "      <td>24224599</td>\n",
       "    </tr>\n",
       "    <tr>\n",
       "      <th>14</th>\n",
       "      <td>Jamaica</td>\n",
       "      <td>Malcolm Middleton-Jones</td>\n",
       "      <td>No</td>\n",
       "      <td>No</td>\n",
       "      <td>No</td>\n",
       "      <td>1981-09-20</td>\n",
       "      <td>45601567</td>\n",
       "    </tr>\n",
       "  </tbody>\n",
       "</table>\n",
       "</div>"
      ],
      "text/plain": [
       "          Pais              Comisionado Reduccion_CO2 Incrmento_P  \\\n",
       "0    Argentina           Grace Hamilton            Si          Si   \n",
       "1     Colombia     Dr Christopher Singh            No          No   \n",
       "2        Chile           Dr Gareth Ball            Si          Si   \n",
       "3      Bolivia               Owen Begum            No          No   \n",
       "4     Paraguay           Kirsty Edwards            No          Si   \n",
       "5    Venezuela     Dr Mitchell Marshall            Si          Si   \n",
       "6      Uruguay     Miss Lesley Bartlett            No          No   \n",
       "7       Brasil              Kim Lambert            Si          Si   \n",
       "8      Ecuador           Rosemary Smith            No          No   \n",
       "9         Peru         Mr Paul Saunders            No          No   \n",
       "10        EEUU               Owen Burns            Si          Si   \n",
       "11      Canada   Caroline Bailey-Weston            No          Si   \n",
       "12     Mexico               Julie Young            Si          Si   \n",
       "13  Costa Rica            Bradley Evans            No          No   \n",
       "14    Jamaica   Malcolm Middleton-Jones            No          No   \n",
       "\n",
       "   Inversion_arboles       Fecha  Telefono  \n",
       "0                 Si  1994-03-04  84043485  \n",
       "1                 Si  1981-02-25  40313769  \n",
       "2                 Si  2007-11-06  74745646  \n",
       "3                 No  1973-07-23  65617023  \n",
       "4                 Si  2007-04-02  53228909  \n",
       "5                 No  1972-01-18  29435973  \n",
       "6                 Si  2000-03-13  42296819  \n",
       "7                 No  1981-02-25  74576322  \n",
       "8                 No  2014-09-17  78381944  \n",
       "9                 No  1975-10-19  45571819  \n",
       "10                Si  2000-03-09  48367482  \n",
       "11                Si  2007-08-12  76174258  \n",
       "12                No  1982-05-16  37715759  \n",
       "13                Si  1972-01-27  24224599  \n",
       "14                No  1981-09-20  45601567  "
      ]
     },
     "execution_count": 19,
     "metadata": {},
     "output_type": "execute_result"
    }
   ],
   "source": [
    "#Elección de columnas, cambio nombre para que no diga fake\n",
    "df_final=fake_df[['Pais ','Fake_Comisionado','Reduccion_CO2','Incrmento_P','Inversion_arboles',\n",
    "                  'Fake_Fecha','Fake_Telefono']]\n",
    "df_final.columns=['Pais', 'Comisionado', 'Reduccion_CO2', 'Incrmento_P',\n",
    "                   'Inversion_arboles', 'Fecha', 'Telefono',]\n",
    "df_final"
   ]
  },
  {
   "cell_type": "code",
   "execution_count": 20,
   "id": "c22c37dc",
   "metadata": {},
   "outputs": [
    {
     "data": {
      "text/plain": [
       "Index(['Pais', 'Comisionado', 'Reduccion_CO2', 'Incrmento_P',\n",
       "       'Inversion_arboles', 'Fecha', 'Telefono'],\n",
       "      dtype='object')"
      ]
     },
     "execution_count": 20,
     "metadata": {},
     "output_type": "execute_result"
    }
   ],
   "source": [
    "#Veo como quedan columnas finales transformadas\n",
    "df_final.columns"
   ]
  },
  {
   "attachments": {},
   "cell_type": "markdown",
   "id": "6f80716b",
   "metadata": {},
   "source": [
    "# Paso 4: Conexion a Redshift"
   ]
  },
  {
   "cell_type": "markdown",
   "metadata": {},
   "source": [
    "## ALTERNATIVA: DOTENV\n",
    "\n",
    "Alternativas para guardar PW / Guardo en archivo .env de configuración."
   ]
  },
  {
   "cell_type": "code",
   "execution_count": 21,
   "metadata": {},
   "outputs": [],
   "source": [
    "#Instalo\n",
    "!pip install -q python-dotenv"
   ]
  },
  {
   "cell_type": "code",
   "execution_count": 22,
   "metadata": {},
   "outputs": [],
   "source": [
    "from dotenv import load_dotenv\n",
    "import os\n",
    "load_dotenv() # Cargar data de archivo .env\n",
    "host = os.getenv(\"DB_HOST\")\n",
    "user = os.getenv(\"DB_USER\")\n",
    "port = os.getenv(\"DB_PORT\")\n",
    "data_base = os.getenv(\"DB\")\n",
    "pwd = os.getenv(\"DB_PDW\")"
   ]
  },
  {
   "cell_type": "code",
   "execution_count": 23,
   "metadata": {},
   "outputs": [
    {
     "data": {
      "text/plain": [
       "'data-engineer-cluster.cyhh5bfevlmn.us-east-1.redshift.amazonaws.com'"
      ]
     },
     "execution_count": 23,
     "metadata": {},
     "output_type": "execute_result"
    }
   ],
   "source": [
    "#Puedo verificar que guardó en cada uno\n",
    "host"
   ]
  },
  {
   "cell_type": "code",
   "execution_count": 24,
   "metadata": {},
   "outputs": [],
   "source": [
    "!pip install -q psycopg2"
   ]
  },
  {
   "cell_type": "code",
   "execution_count": 25,
   "metadata": {},
   "outputs": [
    {
     "name": "stdout",
     "output_type": "stream",
     "text": [
      "Connected to Redshift successfully!\n"
     ]
    }
   ],
   "source": [
    "import psycopg2\n",
    "try:\n",
    "    conn = psycopg2.connect(\n",
    "        host=host,\n",
    "        dbname=data_base,\n",
    "        user=user,\n",
    "        password=pwd,\n",
    "        port=port\n",
    "    )\n",
    "    print(\"Connected to Redshift successfully!\")\n",
    "    \n",
    "except Exception as e:\n",
    "    print(\"Unable to connect to Redshift.\")\n",
    "    print(e)"
   ]
  },
  {
   "cell_type": "code",
   "execution_count": 32,
   "id": "f0b78ec0",
   "metadata": {},
   "outputs": [
    {
     "data": {
      "text/plain": [
       "Pais                 object\n",
       "Comisionado          object\n",
       "Reduccion_CO2        object\n",
       "Incrmento_P          object\n",
       "Inversion_arboles    object\n",
       "Fecha                object\n",
       "Telefono              int64\n",
       "dtype: object"
      ]
     },
     "execution_count": 32,
     "metadata": {},
     "output_type": "execute_result"
    }
   ],
   "source": [
    "df_final.dtypes"
   ]
  },
  {
   "attachments": {},
   "cell_type": "markdown",
   "id": "ce86bd5a",
   "metadata": {},
   "source": [
    "# Paso 5: Enviar tabla a la base de datos"
   ]
  },
  {
   "cell_type": "code",
   "execution_count": 33,
   "id": "43af3811",
   "metadata": {},
   "outputs": [],
   "source": [
    "#Herramienta inserción fila por fila\n",
    "from psycopg2.extras import execute_values\n",
    "\n",
    "def cargar_en_redshift(conn, table_name, dataframe):\n",
    "    dtypes= dataframe.dtypes\n",
    "    cols= list(dtypes.index )\n",
    "    tipos= list(dtypes.values)\n",
    "    type_map = {'int64': 'INT','float64': 'FLOAT','object': 'VARCHAR(50)'}\n",
    "    sql_dtypes = [type_map[str(dtype)] for dtype in tipos]\n",
    "    # Definir formato SQL VARIABLE TIPO_DATO\n",
    "    column_defs = [f\"{name} {data_type}\" for name, data_type in zip(cols, sql_dtypes)]\n",
    "    # Combine column definitions into the CREATE TABLE statement\n",
    "    table_schema = f\"\"\"\n",
    "        CREATE TABLE IF NOT EXISTS {table_name} (\n",
    "            {', '.join(column_defs)}\n",
    "        );\n",
    "        \"\"\"\n",
    "    # Crear la tabla\n",
    "    cur = conn.cursor()\n",
    "    cur.execute(table_schema)\n",
    "    # Generar los valores a insertar\n",
    "    values = [tuple(x) for x in dataframe.to_numpy()]\n",
    "    # Definir el INSERT\n",
    "    insert_sql = f\"INSERT INTO {table_name} ({', '.join(cols)}) VALUES %s\"\n",
    "    # Execute the transaction to insert the data\n",
    "    cur.execute(\"BEGIN\")\n",
    "    execute_values(cur, insert_sql, values)\n",
    "    cur.execute(\"COMMIT\")\n",
    "    print('Proceso terminado')"
   ]
  },
  {
   "cell_type": "code",
   "execution_count": 29,
   "id": "ede43397",
   "metadata": {},
   "outputs": [
    {
     "name": "stdout",
     "output_type": "stream",
     "text": [
      "Proceso terminado\n"
     ]
    }
   ],
   "source": [
    "cargar_en_redshift(conn=conn, table_name='POLITICAS_2050', dataframe=df_final)"
   ]
  },
  {
   "cell_type": "code",
   "execution_count": 30,
   "id": "6efff773",
   "metadata": {},
   "outputs": [
    {
     "data": {
      "text/html": [
       "<div>\n",
       "<style scoped>\n",
       "    .dataframe tbody tr th:only-of-type {\n",
       "        vertical-align: middle;\n",
       "    }\n",
       "\n",
       "    .dataframe tbody tr th {\n",
       "        vertical-align: top;\n",
       "    }\n",
       "\n",
       "    .dataframe thead th {\n",
       "        text-align: right;\n",
       "    }\n",
       "</style>\n",
       "<table border=\"1\" class=\"dataframe\">\n",
       "  <thead>\n",
       "    <tr style=\"text-align: right;\">\n",
       "      <th></th>\n",
       "      <th>version https://git-lfs.github.com/spec/v1</th>\n",
       "    </tr>\n",
       "  </thead>\n",
       "  <tbody>\n",
       "    <tr>\n",
       "      <th>0</th>\n",
       "      <td>oid sha256:8c89537d9f91f2a259cb5e7c5b942ed8560...</td>\n",
       "    </tr>\n",
       "    <tr>\n",
       "      <th>1</th>\n",
       "      <td>size 65146638</td>\n",
       "    </tr>\n",
       "  </tbody>\n",
       "</table>\n",
       "</div>"
      ],
      "text/plain": [
       "          version https://git-lfs.github.com/spec/v1\n",
       "0  oid sha256:8c89537d9f91f2a259cb5e7c5b942ed8560...\n",
       "1                                      size 65146638"
      ]
     },
     "execution_count": 30,
     "metadata": {},
     "output_type": "execute_result"
    }
   ],
   "source": [
    "t=pd.read_csv('airbnb_nyc.csv',sep=',')\n",
    "t.head()"
   ]
  },
  {
   "cell_type": "code",
   "execution_count": 31,
   "id": "f044f6ff",
   "metadata": {},
   "outputs": [
    {
     "data": {
      "text/plain": [
       "Index(['version https://git-lfs.github.com/spec/v1'], dtype='object')"
      ]
     },
     "execution_count": 31,
     "metadata": {},
     "output_type": "execute_result"
    }
   ],
   "source": [
    "t.columns"
   ]
  }
 ],
 "metadata": {
  "kernelspec": {
   "display_name": "Python 3 (ipykernel)",
   "language": "python",
   "name": "python3"
  },
  "language_info": {
   "codemirror_mode": {
    "name": "ipython",
    "version": 3
   },
   "file_extension": ".py",
   "mimetype": "text/x-python",
   "name": "python",
   "nbconvert_exporter": "python",
   "pygments_lexer": "ipython3",
   "version": "3.10.1"
  }
 },
 "nbformat": 4,
 "nbformat_minor": 5
}
