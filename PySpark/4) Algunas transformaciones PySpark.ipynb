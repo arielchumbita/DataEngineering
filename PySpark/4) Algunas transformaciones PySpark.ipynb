{
 "cells": [
  {
   "cell_type": "code",
   "execution_count": 42,
   "metadata": {},
   "outputs": [],
   "source": [
    "import os \n",
    "os.environ['SPARK_HOME']=r'C:/spark/'\n",
    "os.environ['HADOOP_HOME'] = r'C:/hadoop/'\n",
    "os.environ['PYSPARK_DRIVER_PYTHON']='jupyter'\n",
    "os.environ['PYSPARK_DRIVER_PYTHON_OPTS']='lab'\n",
    "os.environ['PYSPARK_PYTHON']='python'"
   ]
  },
  {
   "cell_type": "code",
   "execution_count": 43,
   "metadata": {},
   "outputs": [],
   "source": [
    "from pyspark.sql import SparkSession\n",
    "# Crear una instancia de  SparkSession\n",
    "spark = SparkSession.builder.getOrCreate()"
   ]
  },
  {
   "cell_type": "code",
   "execution_count": 44,
   "metadata": {},
   "outputs": [
    {
     "data": {
      "text/html": [
       "\n",
       "            <div>\n",
       "                <p><b>SparkSession - in-memory</b></p>\n",
       "                \n",
       "        <div>\n",
       "            <p><b>SparkContext</b></p>\n",
       "\n",
       "            <p><a href=\"http://host.docker.internal:4040\">Spark UI</a></p>\n",
       "\n",
       "            <dl>\n",
       "              <dt>Version</dt>\n",
       "                <dd><code>v3.4.1</code></dd>\n",
       "              <dt>Master</dt>\n",
       "                <dd><code>local[*]</code></dd>\n",
       "              <dt>AppName</dt>\n",
       "                <dd><code>pyspark-shell</code></dd>\n",
       "            </dl>\n",
       "        </div>\n",
       "        \n",
       "            </div>\n",
       "        "
      ],
      "text/plain": [
       "<pyspark.sql.session.SparkSession at 0x22c1942ecd0>"
      ]
     },
     "execution_count": 44,
     "metadata": {},
     "output_type": "execute_result"
    }
   ],
   "source": [
    "spark"
   ]
  },
  {
   "cell_type": "code",
   "execution_count": 45,
   "metadata": {},
   "outputs": [
    {
     "data": {
      "text/plain": [
       "'c:\\\\Users\\\\Windows\\\\Desktop\\\\Curso Data Engineering David BU\\\\PySpark'"
      ]
     },
     "execution_count": 45,
     "metadata": {},
     "output_type": "execute_result"
    }
   ],
   "source": [
    "%pwd"
   ]
  },
  {
   "cell_type": "code",
   "execution_count": 46,
   "metadata": {},
   "outputs": [
    {
     "data": {
      "text/plain": [
       "DataFrame[id_1: int, id_2: int, cmp_fname_c1: double, cmp_fname_c2: double, cmp_lname_c1: double, cmp_lname_c2: double, cmp_sex: int, cmp_bd: int, cmp_bm: int, cmp_by: int, cmp_plz: int, is_match: boolean]"
      ]
     },
     "execution_count": 46,
     "metadata": {},
     "output_type": "execute_result"
    }
   ],
   "source": [
    "parse= spark.read.option(\"header\", \"true\").option(\"nullValue\",\"?\").\\\n",
    "    option(\"inferSchema\",\"true\").csv(\"./prueba/block_1/block_1.csv\")\n",
    "parse"
   ]
  },
  {
   "cell_type": "code",
   "execution_count": 47,
   "metadata": {},
   "outputs": [
    {
     "data": {
      "text/plain": [
       "pyspark.sql.dataframe.DataFrame"
      ]
     },
     "execution_count": 47,
     "metadata": {},
     "output_type": "execute_result"
    }
   ],
   "source": [
    "type(parse)"
   ]
  },
  {
   "cell_type": "code",
   "execution_count": 48,
   "metadata": {},
   "outputs": [
    {
     "name": "stdout",
     "output_type": "stream",
     "text": [
      "+-----+-----+-----------------+------------+------------+------------+-------+------+------+------+-------+--------+\n",
      "| id_1| id_2|     cmp_fname_c1|cmp_fname_c2|cmp_lname_c1|cmp_lname_c2|cmp_sex|cmp_bd|cmp_bm|cmp_by|cmp_plz|is_match|\n",
      "+-----+-----+-----------------+------------+------------+------------+-------+------+------+------+-------+--------+\n",
      "|37291|53113|0.833333333333333|        null|         1.0|        null|      1|     1|     1|     1|      0|    true|\n",
      "|39086|47614|              1.0|        null|         1.0|        null|      1|     1|     1|     1|      1|    true|\n",
      "|70031|70237|              1.0|        null|         1.0|        null|      1|     1|     1|     1|      1|    true|\n",
      "+-----+-----+-----------------+------------+------------+------------+-------+------+------+------+-------+--------+\n",
      "only showing top 3 rows\n",
      "\n"
     ]
    }
   ],
   "source": [
    "parse.show(3)"
   ]
  },
  {
   "cell_type": "code",
   "execution_count": 49,
   "metadata": {},
   "outputs": [
    {
     "name": "stdout",
     "output_type": "stream",
     "text": [
      "root\n",
      " |-- id_1: integer (nullable = true)\n",
      " |-- id_2: integer (nullable = true)\n",
      " |-- cmp_fname_c1: double (nullable = true)\n",
      " |-- cmp_fname_c2: double (nullable = true)\n",
      " |-- cmp_lname_c1: double (nullable = true)\n",
      " |-- cmp_lname_c2: double (nullable = true)\n",
      " |-- cmp_sex: integer (nullable = true)\n",
      " |-- cmp_bd: integer (nullable = true)\n",
      " |-- cmp_bm: integer (nullable = true)\n",
      " |-- cmp_by: integer (nullable = true)\n",
      " |-- cmp_plz: integer (nullable = true)\n",
      " |-- is_match: boolean (nullable = true)\n",
      "\n"
     ]
    }
   ],
   "source": [
    "parse.printSchema()"
   ]
  },
  {
   "cell_type": "markdown",
   "metadata": {},
   "source": [
    "# Escritura y lectura"
   ]
  },
  {
   "cell_type": "code",
   "execution_count": 50,
   "metadata": {},
   "outputs": [
    {
     "data": {
      "text/plain": [
       "DataFrame[apellido: string, genero: string, nombre: string]"
      ]
     },
     "execution_count": 50,
     "metadata": {},
     "output_type": "execute_result"
    }
   ],
   "source": [
    "d1 = spark.read.option(\"multiline\", \"true\").option(\"encoding\", \"utf-8\").json(\"./data_david.json\")\n",
    "d1"
   ]
  },
  {
   "cell_type": "code",
   "execution_count": 51,
   "metadata": {},
   "outputs": [
    {
     "name": "stdout",
     "output_type": "stream",
     "text": [
      "+--------+------+------+\n",
      "|apellido|genero|nombre|\n",
      "+--------+------+------+\n",
      "|     DBU|     M| David|\n",
      "+--------+------+------+\n",
      "\n"
     ]
    }
   ],
   "source": [
    "d1.show()"
   ]
  },
  {
   "cell_type": "code",
   "execution_count": 9,
   "metadata": {},
   "outputs": [
    {
     "name": "stdout",
     "output_type": "stream",
     "text": [
      "+--------+------+------+\n",
      "|apellido|genero|nombre|\n",
      "+--------+------+------+\n",
      "|     DBU|     M| David|\n",
      "+--------+------+------+\n",
      "\n"
     ]
    }
   ],
   "source": [
    "d2 = spark.read.option(\"multiline\", \"true\").option(\"encoding\", \"utf-8\").json(\"./data_david.json\")\n",
    "d2.show()"
   ]
  },
  {
   "cell_type": "code",
   "execution_count": 52,
   "metadata": {},
   "outputs": [
    {
     "name": "stdout",
     "output_type": "stream",
     "text": [
      "+--------------------+\n",
      "|            personas|\n",
      "+--------------------+\n",
      "|[{DBU, M, 1, Davi...|\n",
      "+--------------------+\n",
      "\n"
     ]
    }
   ],
   "source": [
    "#d3 = spark.read.option(\"multiline\", \"true\").option(\"encoding\", \"utf-8\").json(\"./data_david2.json\")\n",
    "#d3 = spark.read.json(spark.sparkContext.parallelize([\"./data_david2.json\"]))\n",
    "d3 = spark.read.option(\"multiline\", \"true\").option(\"encoding\", \"utf-8\").json(\"./data_david2.json\")\n",
    "d3.show()"
   ]
  },
  {
   "cell_type": "code",
   "execution_count": 53,
   "metadata": {},
   "outputs": [
    {
     "name": "stdout",
     "output_type": "stream",
     "text": [
      "+--------------------+\n",
      "|             persona|\n",
      "+--------------------+\n",
      "|{DBU, M, 1, David...|\n",
      "|{Smith, F, 2, Ann...|\n",
      "+--------------------+\n",
      "\n"
     ]
    }
   ],
   "source": [
    "from pyspark.sql.functions import explode, col\n",
    "d3_flattened = d3.select(explode(col(\"personas\")).alias(\"persona\"))\n",
    "d3_flattened.show()"
   ]
  },
  {
   "cell_type": "markdown",
   "metadata": {},
   "source": [
    "explode transforma un array en una columna mapeada"
   ]
  },
  {
   "cell_type": "markdown",
   "metadata": {},
   "source": [
    "# Operaciones clase"
   ]
  },
  {
   "cell_type": "code",
   "execution_count": 55,
   "metadata": {},
   "outputs": [
    {
     "name": "stdout",
     "output_type": "stream",
     "text": [
      "+-----+-----+-----------------+------------+------------+------------+-------+------+------+------+-------+--------+\n",
      "| id_1| id_2|     cmp_fname_c1|cmp_fname_c2|cmp_lname_c1|cmp_lname_c2|cmp_sex|cmp_bd|cmp_bm|cmp_by|cmp_plz|is_match|\n",
      "+-----+-----+-----------------+------------+------------+------------+-------+------+------+------+-------+--------+\n",
      "|37291|53113|0.833333333333333|        null|         1.0|        null|      1|     1|     1|     1|      0|    true|\n",
      "|39086|47614|              1.0|        null|         1.0|        null|      1|     1|     1|     1|      1|    true|\n",
      "+-----+-----+-----------------+------------+------------+------------+-------+------+------+------+-------+--------+\n",
      "only showing top 2 rows\n",
      "\n"
     ]
    }
   ],
   "source": [
    "parse.show(2)"
   ]
  },
  {
   "cell_type": "code",
   "execution_count": 56,
   "metadata": {},
   "outputs": [
    {
     "data": {
      "text/plain": [
       "Row(id_1=37291, id_2=53113, cmp_fname_c1=0.833333333333333, cmp_fname_c2=None, cmp_lname_c1=1.0, cmp_lname_c2=None, cmp_sex=1, cmp_bd=1, cmp_bm=1, cmp_by=1, cmp_plz=0, is_match=True)"
      ]
     },
     "execution_count": 56,
     "metadata": {},
     "output_type": "execute_result"
    }
   ],
   "source": [
    "parse.first()"
   ]
  },
  {
   "cell_type": "code",
   "execution_count": 57,
   "metadata": {},
   "outputs": [
    {
     "name": "stdout",
     "output_type": "stream",
     "text": [
      "root\n",
      " |-- id_1: integer (nullable = true)\n",
      " |-- id_2: integer (nullable = true)\n",
      " |-- cmp_fname_c1: double (nullable = true)\n",
      " |-- cmp_fname_c2: double (nullable = true)\n",
      " |-- cmp_lname_c1: double (nullable = true)\n",
      " |-- cmp_lname_c2: double (nullable = true)\n",
      " |-- cmp_sex: integer (nullable = true)\n",
      " |-- cmp_bd: integer (nullable = true)\n",
      " |-- cmp_bm: integer (nullable = true)\n",
      " |-- cmp_by: integer (nullable = true)\n",
      " |-- cmp_plz: integer (nullable = true)\n",
      " |-- is_match: boolean (nullable = true)\n",
      "\n"
     ]
    }
   ],
   "source": [
    "parse.printSchema()"
   ]
  },
  {
   "cell_type": "code",
   "execution_count": 58,
   "metadata": {},
   "outputs": [
    {
     "data": {
      "text/plain": [
       "574913"
      ]
     },
     "execution_count": 58,
     "metadata": {},
     "output_type": "execute_result"
    }
   ],
   "source": [
    "parse.count()"
   ]
  },
  {
   "cell_type": "code",
   "execution_count": 59,
   "metadata": {},
   "outputs": [
    {
     "name": "stdout",
     "output_type": "stream",
     "text": [
      "+-------+------------------+-----------------+------------------+------------------+------------------+------------------+-------------------+-------------------+------------------+-------------------+--------------------+\n",
      "|summary|              id_1|             id_2|      cmp_fname_c1|      cmp_fname_c2|      cmp_lname_c1|      cmp_lname_c2|            cmp_sex|             cmp_bd|            cmp_bm|             cmp_by|             cmp_plz|\n",
      "+-------+------------------+-----------------+------------------+------------------+------------------+------------------+-------------------+-------------------+------------------+-------------------+--------------------+\n",
      "|  count|            574913|           574913|            574811|             10325|            574913|               239|             574913|             574851|            574851|             574851|              573618|\n",
      "|   mean|33271.962171667714| 66564.6636865056|0.7127592938253411|0.8977586763518969|0.3155724578100624|0.3269155414552904| 0.9550923357099248|0.22475563232907309|0.4886361857246487|0.22266639529199742|0.005494946113964...|\n",
      "| stddev|23622.669425933756|23642.00230967228|0.3889286452463531|0.2742577520430532|0.3342494687554245|0.3783092020540671|0.20710152240504442| 0.4174216587235557|0.4998712818281637| 0.4160365041645591| 0.07392402321301972|\n",
      "|    min|                 1|                6|               0.0|               0.0|               0.0|               0.0|                  0|                  0|                 0|                  0|                   0|\n",
      "|    max|             99894|           100000|               1.0|               1.0|               1.0|               1.0|                  1|                  1|                 1|                  1|                   1|\n",
      "+-------+------------------+-----------------+------------------+------------------+------------------+------------------+-------------------+-------------------+------------------+-------------------+--------------------+\n",
      "\n"
     ]
    }
   ],
   "source": [
    "parse.describe().show()"
   ]
  },
  {
   "cell_type": "code",
   "execution_count": 60,
   "metadata": {},
   "outputs": [
    {
     "name": "stdout",
     "output_type": "stream",
     "text": [
      "+-----+-----+-----------------+\n",
      "| id_1| id_2|     cmp_fname_c1|\n",
      "+-----+-----+-----------------+\n",
      "|37291|53113|0.833333333333333|\n",
      "|39086|47614|              1.0|\n",
      "|70031|70237|              1.0|\n",
      "|84795|97439|              1.0|\n",
      "|36950|42116|              1.0|\n",
      "|42413|48491|              1.0|\n",
      "|25965|64753|              1.0|\n",
      "|49451|90407|              1.0|\n",
      "|39932|40902|              1.0|\n",
      "|46626|47940|              1.0|\n",
      "|48948|98379|              1.0|\n",
      "| 4767| 4826|              1.0|\n",
      "|45463|69659|              1.0|\n",
      "|11367|13169|              1.0|\n",
      "|10782|89636|              1.0|\n",
      "|26206|39147|              1.0|\n",
      "|16662|27083|              1.0|\n",
      "|18823|30204|              1.0|\n",
      "|38545|85418|              1.0|\n",
      "|28963|39172|              1.0|\n",
      "+-----+-----+-----------------+\n",
      "only showing top 20 rows\n",
      "\n"
     ]
    }
   ],
   "source": [
    "parse.select(\"id_1\", \"id_2\", \"cmp_fname_c1\").show()"
   ]
  },
  {
   "cell_type": "code",
   "execution_count": 61,
   "metadata": {},
   "outputs": [
    {
     "name": "stdout",
     "output_type": "stream",
     "text": [
      "+-----+-----+-----------------+------------+------------+------------+-------+------+------+------+-------+--------+\n",
      "| id_1| id_2|     cmp_fname_c1|cmp_fname_c2|cmp_lname_c1|cmp_lname_c2|cmp_sex|cmp_bd|cmp_bm|cmp_by|cmp_plz|is_match|\n",
      "+-----+-----+-----------------+------------+------------+------------+-------+------+------+------+-------+--------+\n",
      "|37291|53113|0.833333333333333|        null|         1.0|        null|      1|     1|     1|     1|      0|    true|\n",
      "|39086|47614|              1.0|        null|         1.0|        null|      1|     1|     1|     1|      1|    true|\n",
      "|70031|70237|              1.0|        null|         1.0|        null|      1|     1|     1|     1|      1|    true|\n",
      "|84795|97439|              1.0|        null|         1.0|        null|      1|     1|     1|     1|      1|    true|\n",
      "|36950|42116|              1.0|        null|         1.0|         1.0|      1|     1|     1|     1|      1|    true|\n",
      "|42413|48491|              1.0|        null|         1.0|        null|      1|     1|     1|     1|      1|    true|\n",
      "|25965|64753|              1.0|        null|         1.0|        null|      1|     1|     1|     1|      1|    true|\n",
      "|49451|90407|              1.0|        null|         1.0|        null|      1|     1|     1|     1|      0|    true|\n",
      "|39932|40902|              1.0|        null|         1.0|        null|      1|     1|     1|     1|      1|    true|\n",
      "|46626|47940|              1.0|        null|         1.0|        null|      1|     1|     1|     1|      1|    true|\n",
      "|48948|98379|              1.0|        null|         1.0|        null|      1|     1|     1|     1|      1|    true|\n",
      "| 4767| 4826|              1.0|        null|         1.0|        null|      1|     1|     1|     1|      1|    true|\n",
      "|45463|69659|              1.0|        null|         1.0|        null|      1|     1|     1|     1|      1|    true|\n",
      "|11367|13169|              1.0|        null|         1.0|        null|      1|     1|     1|     1|      1|    true|\n",
      "|10782|89636|              1.0|        null|         1.0|        null|      1|     0|     1|     1|      1|    true|\n",
      "|26206|39147|              1.0|        null|         1.0|        null|      1|     1|     1|     1|      1|    true|\n",
      "|16662|27083|              1.0|         1.0|         1.0|        null|      1|     1|     1|     1|      1|    true|\n",
      "|18823|30204|              1.0|         1.0|         1.0|        null|      1|     1|     1|     1|      1|    true|\n",
      "|38545|85418|              1.0|        null|         1.0|        null|      1|     1|     1|     1|      1|    true|\n",
      "|28963|39172|              1.0|        null|         1.0|        null|      1|     1|     1|     1|      1|    true|\n",
      "+-----+-----+-----------------+------------+------------+------------+-------+------+------+------+-------+--------+\n",
      "only showing top 20 rows\n",
      "\n"
     ]
    }
   ],
   "source": [
    "parse.filter(parse[\"cmp_lname_c1\"] == 1.0).show()"
   ]
  },
  {
   "cell_type": "code",
   "execution_count": 62,
   "metadata": {},
   "outputs": [
    {
     "name": "stdout",
     "output_type": "stream",
     "text": [
      "+-------+------+\n",
      "|cmp_sex| count|\n",
      "+-------+------+\n",
      "|      1|549095|\n",
      "|      0| 25818|\n",
      "+-------+------+\n",
      "\n"
     ]
    }
   ],
   "source": [
    "parse.groupBy(\"cmp_sex\").count().show()"
   ]
  },
  {
   "cell_type": "code",
   "execution_count": 63,
   "metadata": {},
   "outputs": [
    {
     "name": "stdout",
     "output_type": "stream",
     "text": [
      "+-------+-----------+------------------+\n",
      "|cmp_sex|max(cmp_bm)|       avg(cmp_bd)|\n",
      "+-------+-----------+------------------+\n",
      "|      1|          1|0.2027018412372298|\n",
      "|      0|          1|0.6937408009915563|\n",
      "+-------+-----------+------------------+\n",
      "\n"
     ]
    }
   ],
   "source": [
    "parse.groupBy(\"cmp_sex\").agg({\"cmp_bd\": \"avg\", \"cmp_bm\": \"max\"}).show()"
   ]
  },
  {
   "cell_type": "code",
   "execution_count": 64,
   "metadata": {},
   "outputs": [
    {
     "name": "stdout",
     "output_type": "stream",
     "text": [
      "+-----+-----+------------+------------+-----------------+------------+-------+------+------+------+-------+--------+\n",
      "| id_1| id_2|cmp_fname_c1|cmp_fname_c2|     cmp_lname_c1|cmp_lname_c2|cmp_sex|cmp_bd|cmp_bm|cmp_by|cmp_plz|is_match|\n",
      "+-----+-----+------------+------------+-----------------+------------+-------+------+------+------+-------+--------+\n",
      "|41285|70616|         1.0|        null|0.428571428571429|        null|      1|     0|     1|     0|      0|   false|\n",
      "|23499|40452|         1.0|        null|              1.0|        null|      1|     1|     1|     1|      1|    true|\n",
      "|62005|83027|         1.0|        null|0.142857142857143|        null|      1|     0|     1|     0|      0|   false|\n",
      "|53806|57851|         1.0|        null|              1.0|        null|      1|     1|     1|     1|      1|    true|\n",
      "|17874|76936|         1.0|        null|              0.0|        null|      1|     0|     1|     0|      0|   false|\n",
      "|46469|94155|         1.0|        null|              1.0|        null|      1|     1|     1|     1|      1|    true|\n",
      "|43244|59845|         1.0|        null|0.142857142857143|        null|      1|     0|     1|     0|      0|   false|\n",
      "|39086|47614|         1.0|        null|              1.0|        null|      1|     1|     1|     1|      1|    true|\n",
      "|46340|68263|         1.0|        null|0.111111111111111|        null|      1|     0|     1|     0|      0|   false|\n",
      "|25816|29809|         1.0|        null|              1.0|        null|      1|     1|     1|     1|      1|    true|\n",
      "|14192|55239|         1.0|        null|            0.125|        null|      1|     0|     1|     0|      0|   false|\n",
      "|84795|97439|         1.0|        null|              1.0|        null|      1|     1|     1|     1|      1|    true|\n",
      "|15402|61734|         1.0|        null|              0.0|        null|      1|     0|     1|     0|      0|   false|\n",
      "|28777|39482|         1.0|        null|              1.0|        null|      1|     1|     1|     1|      1|    true|\n",
      "|30364|68447|         1.0|        null|0.142857142857143|        null|      1|     0|     1|     0|      0|   false|\n",
      "|42413|48491|         1.0|        null|              1.0|        null|      1|     1|     1|     1|      1|    true|\n",
      "|22961|88610|         1.0|        null|0.285714285714286|        null|      1|     0|     1|     0|      0|   false|\n",
      "|18914|18916|         1.0|        null|              1.0|        null|      1|     1|     1|     1|      1|    true|\n",
      "|36073|64856|         1.0|        null|0.428571428571429|        null|      1|     0|     1|     0|      0|   false|\n",
      "|49451|90407|         1.0|        null|              1.0|        null|      1|     1|     1|     1|      0|    true|\n",
      "+-----+-----+------------+------------+-----------------+------------+-------+------+------+------+-------+--------+\n",
      "only showing top 20 rows\n",
      "\n"
     ]
    }
   ],
   "source": [
    "parse.orderBy(\"cmp_fname_c1\", ascending=False).show()"
   ]
  },
  {
   "cell_type": "code",
   "execution_count": 65,
   "metadata": {},
   "outputs": [
    {
     "name": "stdout",
     "output_type": "stream",
     "text": [
      "+-------+\n",
      "|cmp_sex|\n",
      "+-------+\n",
      "|      1|\n",
      "|      0|\n",
      "+-------+\n",
      "\n"
     ]
    }
   ],
   "source": [
    "parse.select(\"cmp_sex\").distinct().show()"
   ]
  },
  {
   "cell_type": "code",
   "execution_count": 66,
   "metadata": {},
   "outputs": [
    {
     "name": "stdout",
     "output_type": "stream",
     "text": [
      "+-----+-----+-----------------+------------+------------+------------+-------+------+------+------+-------+--------+-----------------+\n",
      "| id_1| id_2|     cmp_fname_c1|cmp_fname_c2|cmp_lname_c1|cmp_lname_c2|cmp_sex|cmp_bd|cmp_bm|cmp_by|cmp_plz|is_match|        total_cmp|\n",
      "+-----+-----+-----------------+------------+------------+------------+-------+------+------+------+-------+--------+-----------------+\n",
      "|37291|53113|0.833333333333333|        null|         1.0|        null|      1|     1|     1|     1|      0|    true|1.833333333333333|\n",
      "|39086|47614|              1.0|        null|         1.0|        null|      1|     1|     1|     1|      1|    true|              2.0|\n",
      "|70031|70237|              1.0|        null|         1.0|        null|      1|     1|     1|     1|      1|    true|              2.0|\n",
      "|84795|97439|              1.0|        null|         1.0|        null|      1|     1|     1|     1|      1|    true|              2.0|\n",
      "|36950|42116|              1.0|        null|         1.0|         1.0|      1|     1|     1|     1|      1|    true|              2.0|\n",
      "|42413|48491|              1.0|        null|         1.0|        null|      1|     1|     1|     1|      1|    true|              2.0|\n",
      "|25965|64753|              1.0|        null|         1.0|        null|      1|     1|     1|     1|      1|    true|              2.0|\n",
      "|49451|90407|              1.0|        null|         1.0|        null|      1|     1|     1|     1|      0|    true|              2.0|\n",
      "|39932|40902|              1.0|        null|         1.0|        null|      1|     1|     1|     1|      1|    true|              2.0|\n",
      "|46626|47940|              1.0|        null|         1.0|        null|      1|     1|     1|     1|      1|    true|              2.0|\n",
      "|48948|98379|              1.0|        null|         1.0|        null|      1|     1|     1|     1|      1|    true|              2.0|\n",
      "| 4767| 4826|              1.0|        null|         1.0|        null|      1|     1|     1|     1|      1|    true|              2.0|\n",
      "|45463|69659|              1.0|        null|         1.0|        null|      1|     1|     1|     1|      1|    true|              2.0|\n",
      "|11367|13169|              1.0|        null|         1.0|        null|      1|     1|     1|     1|      1|    true|              2.0|\n",
      "|10782|89636|              1.0|        null|         1.0|        null|      1|     0|     1|     1|      1|    true|              2.0|\n",
      "|26206|39147|              1.0|        null|         1.0|        null|      1|     1|     1|     1|      1|    true|              2.0|\n",
      "|16662|27083|              1.0|         1.0|         1.0|        null|      1|     1|     1|     1|      1|    true|              2.0|\n",
      "|18823|30204|              1.0|         1.0|         1.0|        null|      1|     1|     1|     1|      1|    true|              2.0|\n",
      "|38545|85418|              1.0|        null|         1.0|        null|      1|     1|     1|     1|      1|    true|              2.0|\n",
      "|28963|39172|              1.0|        null|         1.0|        null|      1|     1|     1|     1|      1|    true|              2.0|\n",
      "+-----+-----+-----------------+------------+------------+------------+-------+------+------+------+-------+--------+-----------------+\n",
      "only showing top 20 rows\n",
      "\n"
     ]
    }
   ],
   "source": [
    "from pyspark.sql.functions import col\n",
    "parse.withColumn(\"total_cmp\", col(\"cmp_fname_c1\") + col(\"cmp_lname_c1\")).show()"
   ]
  },
  {
   "cell_type": "code",
   "execution_count": 67,
   "metadata": {},
   "outputs": [
    {
     "name": "stdout",
     "output_type": "stream",
     "text": [
      "+-----+-----+-----------------+------------+-------+------+------+------+-------+--------+\n",
      "| id_1| id_2|     cmp_fname_c1|cmp_lname_c1|cmp_sex|cmp_bd|cmp_bm|cmp_by|cmp_plz|is_match|\n",
      "+-----+-----+-----------------+------------+-------+------+------+------+-------+--------+\n",
      "|37291|53113|0.833333333333333|         1.0|      1|     1|     1|     1|      0|    true|\n",
      "|39086|47614|              1.0|         1.0|      1|     1|     1|     1|      1|    true|\n",
      "|70031|70237|              1.0|         1.0|      1|     1|     1|     1|      1|    true|\n",
      "|84795|97439|              1.0|         1.0|      1|     1|     1|     1|      1|    true|\n",
      "|36950|42116|              1.0|         1.0|      1|     1|     1|     1|      1|    true|\n",
      "|42413|48491|              1.0|         1.0|      1|     1|     1|     1|      1|    true|\n",
      "|25965|64753|              1.0|         1.0|      1|     1|     1|     1|      1|    true|\n",
      "|49451|90407|              1.0|         1.0|      1|     1|     1|     1|      0|    true|\n",
      "|39932|40902|              1.0|         1.0|      1|     1|     1|     1|      1|    true|\n",
      "|46626|47940|              1.0|         1.0|      1|     1|     1|     1|      1|    true|\n",
      "|48948|98379|              1.0|         1.0|      1|     1|     1|     1|      1|    true|\n",
      "| 4767| 4826|              1.0|         1.0|      1|     1|     1|     1|      1|    true|\n",
      "|45463|69659|              1.0|         1.0|      1|     1|     1|     1|      1|    true|\n",
      "|11367|13169|              1.0|         1.0|      1|     1|     1|     1|      1|    true|\n",
      "|10782|89636|              1.0|         1.0|      1|     0|     1|     1|      1|    true|\n",
      "|26206|39147|              1.0|         1.0|      1|     1|     1|     1|      1|    true|\n",
      "|16662|27083|              1.0|         1.0|      1|     1|     1|     1|      1|    true|\n",
      "|18823|30204|              1.0|         1.0|      1|     1|     1|     1|      1|    true|\n",
      "|38545|85418|              1.0|         1.0|      1|     1|     1|     1|      1|    true|\n",
      "|28963|39172|              1.0|         1.0|      1|     1|     1|     1|      1|    true|\n",
      "+-----+-----+-----------------+------------+-------+------+------+------+-------+--------+\n",
      "only showing top 20 rows\n",
      "\n"
     ]
    }
   ],
   "source": [
    "parse.drop(\"cmp_fname_c2\", \"cmp_lname_c2\").show()"
   ]
  },
  {
   "cell_type": "code",
   "execution_count": 68,
   "metadata": {},
   "outputs": [
    {
     "name": "stdout",
     "output_type": "stream",
     "text": [
      "+-------+----+------+------+\n",
      "|cmp_sex|null|     0|     1|\n",
      "+-------+----+------+------+\n",
      "|      1|  62|437743|111290|\n",
      "|      0|null|  7907| 17911|\n",
      "+-------+----+------+------+\n",
      "\n"
     ]
    }
   ],
   "source": [
    "parse.groupBy(\"cmp_sex\").pivot(\"cmp_bd\").agg({\"is_match\": \"count\"}).show()"
   ]
  },
  {
   "cell_type": "code",
   "execution_count": 69,
   "metadata": {},
   "outputs": [
    {
     "name": "stdout",
     "output_type": "stream",
     "text": [
      "+-----+-----+------------+------------+------------+------------+-------+------+------+------+-------+--------+\n",
      "| id_1| id_2|cmp_fname_c1|cmp_fname_c2|cmp_lname_c1|cmp_lname_c2|cmp_sex|cmp_bd|cmp_bm|cmp_by|cmp_plz|is_match|\n",
      "+-----+-----+------------+------------+------------+------------+-------+------+------+------+-------+--------+\n",
      "|28135|36055|         1.0|         1.0|         1.0|         1.0|      1|     1|     1|     1|      1|    true|\n",
      "|81291|90329|         1.0|         1.0|         1.0|         1.0|      1|     1|     1|     1|      1|    true|\n",
      "+-----+-----+------------+------------+------------+------------+-------+------+------+------+-------+--------+\n",
      "\n"
     ]
    }
   ],
   "source": [
    "parse.na.drop().show()  # "
   ]
  },
  {
   "cell_type": "code",
   "execution_count": 70,
   "metadata": {},
   "outputs": [
    {
     "name": "stdout",
     "output_type": "stream",
     "text": [
      "+-----+-----+-----------------+------------+------------+------------+-------+------+------+------+-------+--------+\n",
      "| id_1| id_2|     cmp_fname_c1|cmp_fname_c2|cmp_lname_c1|cmp_lname_c2|cmp_sex|cmp_bd|cmp_bm|cmp_by|cmp_plz|is_match|\n",
      "+-----+-----+-----------------+------------+------------+------------+-------+------+------+------+-------+--------+\n",
      "|37291|53113|0.833333333333333|         0.0|         1.0|         0.0|      1|     1|     1|     1|      0|    true|\n",
      "|39086|47614|              1.0|         0.0|         1.0|         0.0|      1|     1|     1|     1|      1|    true|\n",
      "|70031|70237|              1.0|         0.0|         1.0|         0.0|      1|     1|     1|     1|      1|    true|\n",
      "|84795|97439|              1.0|         0.0|         1.0|         0.0|      1|     1|     1|     1|      1|    true|\n",
      "|36950|42116|              1.0|         0.0|         1.0|         1.0|      1|     1|     1|     1|      1|    true|\n",
      "|42413|48491|              1.0|         0.0|         1.0|         0.0|      1|     1|     1|     1|      1|    true|\n",
      "|25965|64753|              1.0|         0.0|         1.0|         0.0|      1|     1|     1|     1|      1|    true|\n",
      "|49451|90407|              1.0|         0.0|         1.0|         0.0|      1|     1|     1|     1|      0|    true|\n",
      "|39932|40902|              1.0|         0.0|         1.0|         0.0|      1|     1|     1|     1|      1|    true|\n",
      "|46626|47940|              1.0|         0.0|         1.0|         0.0|      1|     1|     1|     1|      1|    true|\n",
      "|48948|98379|              1.0|         0.0|         1.0|         0.0|      1|     1|     1|     1|      1|    true|\n",
      "| 4767| 4826|              1.0|         0.0|         1.0|         0.0|      1|     1|     1|     1|      1|    true|\n",
      "|45463|69659|              1.0|         0.0|         1.0|         0.0|      1|     1|     1|     1|      1|    true|\n",
      "|11367|13169|              1.0|         0.0|         1.0|         0.0|      1|     1|     1|     1|      1|    true|\n",
      "|10782|89636|              1.0|         0.0|         1.0|         0.0|      1|     0|     1|     1|      1|    true|\n",
      "|26206|39147|              1.0|         0.0|         1.0|         0.0|      1|     1|     1|     1|      1|    true|\n",
      "|16662|27083|              1.0|         1.0|         1.0|         0.0|      1|     1|     1|     1|      1|    true|\n",
      "|18823|30204|              1.0|         1.0|         1.0|         0.0|      1|     1|     1|     1|      1|    true|\n",
      "|38545|85418|              1.0|         0.0|         1.0|         0.0|      1|     1|     1|     1|      1|    true|\n",
      "|28963|39172|              1.0|         0.0|         1.0|         0.0|      1|     1|     1|     1|      1|    true|\n",
      "+-----+-----+-----------------+------------+------------+------------+-------+------+------+------+-------+--------+\n",
      "only showing top 20 rows\n",
      "\n"
     ]
    }
   ],
   "source": [
    "parse.na.fill(0).show()  "
   ]
  },
  {
   "cell_type": "code",
   "execution_count": 71,
   "metadata": {},
   "outputs": [
    {
     "data": {
      "text/plain": [
       "{'id_1': 0,\n",
       " 'id_2': 0,\n",
       " 'cmp_fname_c1': 102,\n",
       " 'cmp_fname_c2': 564588,\n",
       " 'cmp_lname_c1': 0,\n",
       " 'cmp_lname_c2': 574674,\n",
       " 'cmp_sex': 0,\n",
       " 'cmp_bd': 62,\n",
       " 'cmp_bm': 62,\n",
       " 'cmp_by': 62,\n",
       " 'cmp_plz': 1295,\n",
       " 'is_match': 0}"
      ]
     },
     "execution_count": 71,
     "metadata": {},
     "output_type": "execute_result"
    }
   ],
   "source": [
    "# Contar nans por columna\n",
    "na_counts = [parse.where(parse[col].isNull()).count() for col in parse.columns]\n",
    "# Diccionario base\n",
    "na_counts_dict = dict(zip(parse.columns, na_counts))\n",
    "na_counts_dict"
   ]
  },
  {
   "cell_type": "code",
   "execution_count": 72,
   "metadata": {},
   "outputs": [
    {
     "data": {
      "text/plain": [
       "DataFrame[id_1: int, id_2: int, cmp_fname_c1: double, cmp_fname_c2: double, cmp_lname_c1: double, cmp_lname_c2: double, cmp_sex: int, cmp_bd: int, cmp_bm: int, cmp_by: int, cmp_plz: int, is_match: boolean]"
      ]
     },
     "execution_count": 72,
     "metadata": {},
     "output_type": "execute_result"
    }
   ],
   "source": [
    "parse.cache()"
   ]
  },
  {
   "cell_type": "code",
   "execution_count": 41,
   "metadata": {},
   "outputs": [],
   "source": [
    "spark.stop() # Importante cerrar sesion"
   ]
  }
 ],
 "metadata": {
  "kernelspec": {
   "display_name": "Python 3",
   "language": "python",
   "name": "python3"
  },
  "language_info": {
   "codemirror_mode": {
    "name": "ipython",
    "version": 3
   },
   "file_extension": ".py",
   "mimetype": "text/x-python",
   "name": "python",
   "nbconvert_exporter": "python",
   "pygments_lexer": "ipython3",
   "version": "3.9.1"
  },
  "orig_nbformat": 4
 },
 "nbformat": 4,
 "nbformat_minor": 2
}
