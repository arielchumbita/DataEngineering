{
 "cells": [
  {
   "cell_type": "code",
   "execution_count": 1,
   "metadata": {},
   "outputs": [],
   "source": [
    "# Pytohn 3.9\n",
    "import pymongo\n",
    "client = pymongo.MongoClient(\"mongodb://localhost:27017/\")\n",
    "# client = pymongo.MongoClient(\"localhost\", 27017)"
   ]
  },
  {
   "cell_type": "code",
   "execution_count": 2,
   "metadata": {},
   "outputs": [
    {
     "name": "stdout",
     "output_type": "stream",
     "text": [
      "Database: admin\n",
      "Database: config\n",
      "Database: local\n",
      "Database: mystore\n",
      "Database: webstore\n"
     ]
    }
   ],
   "source": [
    "database_names = client.list_database_names()\n",
    "for db_name in database_names:\n",
    "    print(\"Database:\", db_name)"
   ]
  },
  {
   "cell_type": "code",
   "execution_count": 6,
   "metadata": {},
   "outputs": [
    {
     "data": {
      "text/plain": [
       "['products', 'sellers', 'users']"
      ]
     },
     "execution_count": 6,
     "metadata": {},
     "output_type": "execute_result"
    }
   ],
   "source": [
    "\n",
    "mydb = client[\"webstore\"]\n",
    "# Obtener las collecions\n",
    "collection_names = mydb.list_collection_names()\n",
    "collection_names"
   ]
  },
  {
   "cell_type": "code",
   "execution_count": 9,
   "metadata": {},
   "outputs": [
    {
     "name": "stdout",
     "output_type": "stream",
     "text": [
      "{'_id': ObjectId('651209f927cb4166ed4014b1'), 'nombre': 'laptop', 'precio': 40.2, 'active': False, 'created_at': datetime.datetime(1999, 12, 12, 3, 0), 'data': [1, 'a', []], 'facturador': {'name': 'dell', 'version': 'xps', 'location': {'city': 'usa', 'direccion': 'St 1999'}}}\n"
     ]
    }
   ],
   "source": [
    "mycollection= mydb['products']\n",
    "# Find the data\n",
    "cursor = mycollection.find()\n",
    "\n",
    "# Iterar\n",
    "for document in cursor:\n",
    "    print(document)"
   ]
  },
  {
   "cell_type": "code",
   "execution_count": 12,
   "metadata": {},
   "outputs": [
    {
     "data": {
      "text/plain": [
       "[{'_id': ObjectId('651209f927cb4166ed4014b1'),\n",
       "  'nombre': 'laptop',\n",
       "  'precio': 40.2,\n",
       "  'active': False,\n",
       "  'created_at': datetime.datetime(1999, 12, 12, 3, 0),\n",
       "  'data': [1, 'a', []],\n",
       "  'facturador': {'name': 'dell',\n",
       "   'version': 'xps',\n",
       "   'location': {'city': 'usa', 'direccion': 'St 1999'}}}]"
      ]
     },
     "execution_count": 12,
     "metadata": {},
     "output_type": "execute_result"
    }
   ],
   "source": [
    "# Filtros\n",
    "filter_criteria = {\n",
    "    \"nombre\": \"laptop\",                         # Match by 'nombre'\n",
    "    \"precio\": {\"$gte\": 40.0},                  # Match by 'precio' greater than or equal to 40.0\n",
    "    \"active\": False,                            # Match by 'active' being False\n",
    "    \"data.0\": 1,                                # Match by the first element of 'data' being 1\n",
    "    \"facturador.name\": \"dell\",                  # Match by 'facturador.name'\n",
    "    \"facturador.location.city\": \"usa\"           # Match by 'facturador.location.city'\n",
    "}\n",
    "\n",
    "# Filtrar informacion\n",
    "matching_documents = mycollection.find(filter_criteria)\n",
    "[x for x in matching_documents]"
   ]
  },
  {
   "cell_type": "code",
   "execution_count": 13,
   "metadata": {},
   "outputs": [
    {
     "data": {
      "text/plain": [
       "<pymongo.results.InsertOneResult at 0x1c9ce9068b0>"
      ]
     },
     "execution_count": 13,
     "metadata": {},
     "output_type": "execute_result"
    }
   ],
   "source": [
    "# Insert one\n",
    "import datetime\n",
    "document_to_insert = {\n",
    "    \"nombre\": \"laptop\",\n",
    "    \"precio\": 40.2,\n",
    "    \"active\": False,\n",
    "    \"created_at\": datetime.datetime(1999, 12, 12, 3, 0),\n",
    "    \"data\": [1, 'a', []],\n",
    "    \"facturador\": {\n",
    "        \"name\": \"dell\",\n",
    "        \"version\": \"xps\",\n",
    "        \"location\": {\n",
    "            \"city\": \"usa\",\n",
    "            \"direccion\": \"St 1999\"\n",
    "        }\n",
    "    }\n",
    "}\n",
    "\n",
    "mycollection.insert_one(document_to_insert)"
   ]
  },
  {
   "cell_type": "code",
   "execution_count": 14,
   "metadata": {},
   "outputs": [
    {
     "data": {
      "text/plain": [
       "[{'_id': ObjectId('651209f927cb4166ed4014b1'),\n",
       "  'nombre': 'laptop',\n",
       "  'precio': 40.2,\n",
       "  'active': False,\n",
       "  'created_at': datetime.datetime(1999, 12, 12, 3, 0),\n",
       "  'data': [1, 'a', []],\n",
       "  'facturador': {'name': 'dell',\n",
       "   'version': 'xps',\n",
       "   'location': {'city': 'usa', 'direccion': 'St 1999'}}},\n",
       " {'_id': ObjectId('65120c38413e9c15b8dec205'),\n",
       "  'nombre': 'laptop',\n",
       "  'precio': 40.2,\n",
       "  'active': False,\n",
       "  'created_at': datetime.datetime(1999, 12, 12, 3, 0),\n",
       "  'data': [1, 'a', []],\n",
       "  'facturador': {'name': 'dell',\n",
       "   'version': 'xps',\n",
       "   'location': {'city': 'usa', 'direccion': 'St 1999'}}}]"
      ]
     },
     "execution_count": 14,
     "metadata": {},
     "output_type": "execute_result"
    }
   ],
   "source": [
    "cursor = mycollection.find()\n",
    "[x for x in cursor]"
   ]
  },
  {
   "cell_type": "code",
   "execution_count": 15,
   "metadata": {},
   "outputs": [
    {
     "data": {
      "text/plain": [
       "<pymongo.results.InsertManyResult at 0x1c9ceb8ad90>"
      ]
     },
     "execution_count": 15,
     "metadata": {},
     "output_type": "execute_result"
    }
   ],
   "source": [
    "# Insertmany\n",
    "documents_to_insert = [\n",
    "    {\"nombre\": \"desktop\", \"precio\": 25.0},\n",
    "    {\"nombre\": \"tablet\", \"precio\": 15.5},\n",
    "    {\"nombre\": \"smartphone\", \"precio\": 30.0}\n",
    "]\n",
    "\n",
    "mycollection.insert_many(documents_to_insert)"
   ]
  },
  {
   "cell_type": "code",
   "execution_count": 16,
   "metadata": {},
   "outputs": [
    {
     "data": {
      "text/plain": [
       "[{'_id': ObjectId('651209f927cb4166ed4014b1'),\n",
       "  'nombre': 'laptop',\n",
       "  'precio': 40.2,\n",
       "  'active': False,\n",
       "  'created_at': datetime.datetime(1999, 12, 12, 3, 0),\n",
       "  'data': [1, 'a', []],\n",
       "  'facturador': {'name': 'dell',\n",
       "   'version': 'xps',\n",
       "   'location': {'city': 'usa', 'direccion': 'St 1999'}}},\n",
       " {'_id': ObjectId('65120c38413e9c15b8dec205'),\n",
       "  'nombre': 'laptop',\n",
       "  'precio': 40.2,\n",
       "  'active': False,\n",
       "  'created_at': datetime.datetime(1999, 12, 12, 3, 0),\n",
       "  'data': [1, 'a', []],\n",
       "  'facturador': {'name': 'dell',\n",
       "   'version': 'xps',\n",
       "   'location': {'city': 'usa', 'direccion': 'St 1999'}}},\n",
       " {'_id': ObjectId('65120c77413e9c15b8dec206'),\n",
       "  'nombre': 'desktop',\n",
       "  'precio': 25.0},\n",
       " {'_id': ObjectId('65120c77413e9c15b8dec207'),\n",
       "  'nombre': 'tablet',\n",
       "  'precio': 15.5},\n",
       " {'_id': ObjectId('65120c77413e9c15b8dec208'),\n",
       "  'nombre': 'smartphone',\n",
       "  'precio': 30.0}]"
      ]
     },
     "execution_count": 16,
     "metadata": {},
     "output_type": "execute_result"
    }
   ],
   "source": [
    "cursor = mycollection.find()\n",
    "[x for x in cursor]"
   ]
  },
  {
   "cell_type": "code",
   "execution_count": 17,
   "metadata": {},
   "outputs": [
    {
     "data": {
      "text/plain": [
       "[{'_id': ObjectId('651209f927cb4166ed4014b1'),\n",
       "  'nombre': 'laptop',\n",
       "  'precio': 40.2,\n",
       "  'active': True,\n",
       "  'created_at': datetime.datetime(1999, 12, 12, 3, 0),\n",
       "  'data': [1, 'a', []],\n",
       "  'facturador': {'name': 'dell',\n",
       "   'version': 'xps',\n",
       "   'location': {'city': 'usa', 'direccion': 'St 1999'}}},\n",
       " {'_id': ObjectId('65120c38413e9c15b8dec205'),\n",
       "  'nombre': 'laptop',\n",
       "  'precio': 40.2,\n",
       "  'active': False,\n",
       "  'created_at': datetime.datetime(1999, 12, 12, 3, 0),\n",
       "  'data': [1, 'a', []],\n",
       "  'facturador': {'name': 'dell',\n",
       "   'version': 'xps',\n",
       "   'location': {'city': 'usa', 'direccion': 'St 1999'}}},\n",
       " {'_id': ObjectId('65120c77413e9c15b8dec206'),\n",
       "  'nombre': 'desktop',\n",
       "  'precio': 25.0},\n",
       " {'_id': ObjectId('65120c77413e9c15b8dec207'),\n",
       "  'nombre': 'tablet',\n",
       "  'precio': 15.5},\n",
       " {'_id': ObjectId('65120c77413e9c15b8dec208'),\n",
       "  'nombre': 'smartphone',\n",
       "  'precio': 30.0}]"
      ]
     },
     "execution_count": 17,
     "metadata": {},
     "output_type": "execute_result"
    }
   ],
   "source": [
    "# Updateone\n",
    "filter_criteria = {\"nombre\": \"laptop\"}\n",
    "\n",
    "# Operacion\n",
    "update_operation = {\"$set\": {\"active\": True}}\n",
    "\n",
    "# Update\n",
    "mycollection.update_one(filter_criteria, update_operation)\n",
    "\n",
    "cursor = mycollection.find()\n",
    "[x for x in cursor]"
   ]
  },
  {
   "cell_type": "code",
   "execution_count": 18,
   "metadata": {},
   "outputs": [
    {
     "data": {
      "text/plain": [
       "[{'_id': ObjectId('651209f927cb4166ed4014b1'),\n",
       "  'nombre': 'laptop',\n",
       "  'precio': 40.2,\n",
       "  'active': True,\n",
       "  'created_at': datetime.datetime(1999, 12, 12, 3, 0),\n",
       "  'data': [1, 'a', []],\n",
       "  'facturador': {'name': 'dell',\n",
       "   'version': 'xps',\n",
       "   'location': {'city': 'usa', 'direccion': 'St 1999'}}},\n",
       " {'_id': ObjectId('65120c38413e9c15b8dec205'),\n",
       "  'nombre': 'laptop',\n",
       "  'precio': 40.2,\n",
       "  'active': True,\n",
       "  'created_at': datetime.datetime(1999, 12, 12, 3, 0),\n",
       "  'data': [1, 'a', []],\n",
       "  'facturador': {'name': 'dell',\n",
       "   'version': 'xps',\n",
       "   'location': {'city': 'usa', 'direccion': 'St 1999'}}},\n",
       " {'_id': ObjectId('65120c77413e9c15b8dec206'),\n",
       "  'nombre': 'desktop',\n",
       "  'precio': 25.0},\n",
       " {'_id': ObjectId('65120c77413e9c15b8dec207'),\n",
       "  'nombre': 'tablet',\n",
       "  'precio': 15.5},\n",
       " {'_id': ObjectId('65120c77413e9c15b8dec208'),\n",
       "  'nombre': 'smartphone',\n",
       "  'precio': 30.0}]"
      ]
     },
     "execution_count": 18,
     "metadata": {},
     "output_type": "execute_result"
    }
   ],
   "source": [
    "# Updatemany\n",
    "filter_criteria = {\"active\": False}\n",
    "# Operacion\n",
    "update_operation = {\"$set\": {\"active\": True}}\n",
    "# Update all\n",
    "mycollection.update_many(filter_criteria, update_operation)\n",
    "cursor = mycollection.find()\n",
    "[x for x in cursor]"
   ]
  }
 ],
 "metadata": {
  "kernelspec": {
   "display_name": "Python 3",
   "language": "python",
   "name": "python3"
  },
  "language_info": {
   "codemirror_mode": {
    "name": "ipython",
    "version": 3
   },
   "file_extension": ".py",
   "mimetype": "text/x-python",
   "name": "python",
   "nbconvert_exporter": "python",
   "pygments_lexer": "ipython3",
   "version": "3.9.1"
  },
  "orig_nbformat": 4
 },
 "nbformat": 4,
 "nbformat_minor": 2
}
