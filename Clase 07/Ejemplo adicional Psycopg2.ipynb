{
 "cells": [
  {
   "cell_type": "code",
   "execution_count": 11,
   "metadata": {},
   "outputs": [
    {
     "name": "stdout",
     "output_type": "stream",
     "text": [
      "Connected to Redshift successfully!\n"
     ]
    }
   ],
   "source": [
    "import psycopg2\n",
    "\n",
    "url=\"data-engineer-cluster.cyhh5bfevlmn.us-east-1.redshift.amazonaws\"\n",
    "data_base=\"data-engineer-database\"\n",
    "user=\"ariel_chumbita_coderhouse\"\n",
    "with open(\"G:/Usuarios/Ariel Chumbita/Desktop\\ARIEL/CURSOS Y FORMACION/DATA ENGINEERING - CODER HOUSE/CursoDataEngineering/Clase 07/pwd_coder.txt\",'r') as f:\n",
    "    pwd= f.read()\n",
    "\n",
    "try:\n",
    "    conn = psycopg2.connect(\n",
    "        host='data-engineer-cluster.cyhh5bfevlmn.us-east-1.redshift.amazonaws.com',\n",
    "        dbname=data_base,\n",
    "        user=user,\n",
    "        password=pwd,\n",
    "        port='5439'\n",
    "    )\n",
    "    print(\"Connected to Redshift successfully!\")\n",
    "    \n",
    "except Exception as e:\n",
    "    print(\"Unable to connect to Redshift.\")\n",
    "    print(e)"
   ]
  },
  {
   "cell_type": "code",
   "execution_count": 12,
   "metadata": {},
   "outputs": [],
   "source": [
    "import pandas as pd\n",
    "ruta_archivos='./Tablas/'\n",
    "product = pd.read_csv(ruta_archivos+'product.csv')\n",
    "productreview = pd.read_csv(ruta_archivos+'productreview.csv')\n",
    "productmodelproductdescriptionculture = pd.read_csv(ruta_archivos+'productmodelproductdescriptionculture.csv')\n",
    "productdescription = pd.read_csv(ruta_archivos+'productdescription.csv')\n",
    "salesorderdetail = pd.read_csv(ruta_archivos+'salesorderdetail.csv')\n",
    "productcategory = pd.read_csv(ruta_archivos+'productcategory.csv')\n",
    "productsubcategory = pd.read_csv(ruta_archivos+'productsubcategory.csv')\n",
    "salesperson = pd.read_csv(ruta_archivos+'salesperson.csv')\n",
    "salesorderheader = pd.read_csv(ruta_archivos+'salesorderheader.csv')\n",
    "salesterritory = pd.read_csv(ruta_archivos+'salesterritory.csv')\n",
    "countryregioncurrency = pd.read_csv(ruta_archivos+'countryregioncurrency.csv')\n",
    "currencyrate = pd.read_csv(ruta_archivos+'currencyrate.csv')"
   ]
  },
  {
   "cell_type": "code",
   "execution_count": 13,
   "metadata": {},
   "outputs": [
    {
     "data": {
      "text/plain": [
       "version https://git-lfs.github.com/spec/v1    object\n",
       "dtype: object"
      ]
     },
     "execution_count": 13,
     "metadata": {},
     "output_type": "execute_result"
    }
   ],
   "source": [
    "product.dtypes"
   ]
  },
  {
   "attachments": {},
   "cell_type": "markdown",
   "metadata": {},
   "source": [
    "El `type_map` lo puedes hacer tan sofisticado como quieras como esto:\n",
    "\n",
    "```python\n",
    "type_map = {\n",
    "    'int64': 'INT',\n",
    "    'float64': 'FLOAT',\n",
    "    'bool': 'BOOLEAN',\n",
    "    'datetime64[ns]': 'TIMESTAMP',\n",
    "    'timedelta64[ns]': 'INTERVAL',\n",
    "    'complex128': 'VARCHAR(50)',\n",
    "    'object': 'VARCHAR(50)',\n",
    "    'category': 'VARCHAR(50)',\n",
    "}\n",
    "```"
   ]
  },
  {
   "cell_type": "code",
   "execution_count": 17,
   "metadata": {},
   "outputs": [],
   "source": [
    "#CREO TABLA CON PYTHON\n",
    "from psycopg2.extras import execute_values\n",
    "\n",
    "def cargar_en_redshift(conn, table_name, dataframe):\n",
    "    dtypes= dataframe.dtypes\n",
    "    cols= list(dtypes.index )\n",
    "    tipos= list(dtypes.values)\n",
    "    type_map = {'int64': 'INT','float64': 'FLOAT','object': 'VARCHAR(50)'}\n",
    "    sql_dtypes = [type_map[str(dtype)] for dtype in tipos]\n",
    "    # Definir formato SQL VARIABLE TIPO_DATO\n",
    "    column_defs = [f\"{name} {data_type}\" for name, data_type in zip(cols, sql_dtypes)]\n",
    "    # Combine column definitions into the CREATE TABLE statement\n",
    "    table_schema = f\"\"\"\n",
    "        CREATE TABLE IF NOT EXISTS {table_name} (\n",
    "            {', '.join(column_defs)}\n",
    "        );\n",
    "        \"\"\"\n",
    "    # Crear la tabla\n",
    "    cur = conn.cursor()\n",
    "    cur.execute(table_schema)\n",
    "    # Generar los valores a insertar\n",
    "    values = [tuple(x) for x in dataframe.to_numpy()]\n",
    "    # Definir el INSERT\n",
    "    insert_sql = f\"INSERT INTO {table_name} ({', '.join(cols)}) VALUES %s\"\n",
    "    # Execute the transaction to insert the data\n",
    "    cur.execute(\"BEGIN\")\n",
    "    execute_values(cur, insert_sql, values)\n",
    "    cur.execute(\"COMMIT\")\n",
    "    print('Proceso terminado')"
   ]
  },
  {
   "cell_type": "code",
   "execution_count": 10,
   "metadata": {},
   "outputs": [],
   "source": [
    "#conn.close()"
   ]
  },
  {
   "attachments": {},
   "cell_type": "markdown",
   "metadata": {},
   "source": [
    "# Probando que funcione"
   ]
  },
  {
   "cell_type": "code",
   "execution_count": 18,
   "metadata": {},
   "outputs": [
    {
     "ename": "SyntaxError",
     "evalue": "syntax error at or near \":\"\nLINE 3:             version https://git-lfs.github.com/spec/v1 VARCH...\n                                 ^\n",
     "output_type": "error",
     "traceback": [
      "\u001b[1;31m---------------------------------------------------------------------------\u001b[0m",
      "\u001b[1;31mSyntaxError\u001b[0m                               Traceback (most recent call last)",
      "\u001b[1;32mg:\\Usuarios\\Ariel Chumbita\\Desktop\\ARIEL\\CURSOS Y FORMACION\\DATA ENGINEERING - CODER HOUSE\\CursoDataEngineering\\Clase 07\\Ejemplo adicional Psycopg2.ipynb Celda 8\u001b[0m line \u001b[0;36m1\n\u001b[1;32m----> <a href='vscode-notebook-cell:/g%3A/Usuarios/Ariel%20Chumbita/Desktop/ARIEL/CURSOS%20Y%20FORMACION/DATA%20ENGINEERING%20-%20CODER%20HOUSE/CursoDataEngineering/Clase%2007/Ejemplo%20adicional%20Psycopg2.ipynb#W6sZmlsZQ%3D%3D?line=0'>1</a>\u001b[0m cargar_en_redshift(conn\u001b[39m=\u001b[39;49mconn, table_name\u001b[39m=\u001b[39;49m\u001b[39m'\u001b[39;49m\u001b[39mproduct\u001b[39;49m\u001b[39m'\u001b[39;49m, dataframe\u001b[39m=\u001b[39;49mproduct)\n",
      "\u001b[1;32mg:\\Usuarios\\Ariel Chumbita\\Desktop\\ARIEL\\CURSOS Y FORMACION\\DATA ENGINEERING - CODER HOUSE\\CursoDataEngineering\\Clase 07\\Ejemplo adicional Psycopg2.ipynb Celda 8\u001b[0m line \u001b[0;36m2\n\u001b[0;32m     <a href='vscode-notebook-cell:/g%3A/Usuarios/Ariel%20Chumbita/Desktop/ARIEL/CURSOS%20Y%20FORMACION/DATA%20ENGINEERING%20-%20CODER%20HOUSE/CursoDataEngineering/Clase%2007/Ejemplo%20adicional%20Psycopg2.ipynb#W6sZmlsZQ%3D%3D?line=17'>18</a>\u001b[0m \u001b[39m# Crear la tabla\u001b[39;00m\n\u001b[0;32m     <a href='vscode-notebook-cell:/g%3A/Usuarios/Ariel%20Chumbita/Desktop/ARIEL/CURSOS%20Y%20FORMACION/DATA%20ENGINEERING%20-%20CODER%20HOUSE/CursoDataEngineering/Clase%2007/Ejemplo%20adicional%20Psycopg2.ipynb#W6sZmlsZQ%3D%3D?line=18'>19</a>\u001b[0m cur \u001b[39m=\u001b[39m conn\u001b[39m.\u001b[39mcursor()\n\u001b[1;32m---> <a href='vscode-notebook-cell:/g%3A/Usuarios/Ariel%20Chumbita/Desktop/ARIEL/CURSOS%20Y%20FORMACION/DATA%20ENGINEERING%20-%20CODER%20HOUSE/CursoDataEngineering/Clase%2007/Ejemplo%20adicional%20Psycopg2.ipynb#W6sZmlsZQ%3D%3D?line=19'>20</a>\u001b[0m cur\u001b[39m.\u001b[39;49mexecute(table_schema)\n\u001b[0;32m     <a href='vscode-notebook-cell:/g%3A/Usuarios/Ariel%20Chumbita/Desktop/ARIEL/CURSOS%20Y%20FORMACION/DATA%20ENGINEERING%20-%20CODER%20HOUSE/CursoDataEngineering/Clase%2007/Ejemplo%20adicional%20Psycopg2.ipynb#W6sZmlsZQ%3D%3D?line=20'>21</a>\u001b[0m \u001b[39m# Generar los valores a insertar\u001b[39;00m\n\u001b[0;32m     <a href='vscode-notebook-cell:/g%3A/Usuarios/Ariel%20Chumbita/Desktop/ARIEL/CURSOS%20Y%20FORMACION/DATA%20ENGINEERING%20-%20CODER%20HOUSE/CursoDataEngineering/Clase%2007/Ejemplo%20adicional%20Psycopg2.ipynb#W6sZmlsZQ%3D%3D?line=21'>22</a>\u001b[0m values \u001b[39m=\u001b[39m [\u001b[39mtuple\u001b[39m(x) \u001b[39mfor\u001b[39;00m x \u001b[39min\u001b[39;00m dataframe\u001b[39m.\u001b[39mto_numpy()]\n",
      "\u001b[1;31mSyntaxError\u001b[0m: syntax error at or near \":\"\nLINE 3:             version https://git-lfs.github.com/spec/v1 VARCH...\n                                 ^\n"
     ]
    }
   ],
   "source": [
    "cargar_en_redshift(conn=conn, table_name='product', dataframe=product)"
   ]
  },
  {
   "cell_type": "code",
   "execution_count": 7,
   "metadata": {},
   "outputs": [
    {
     "name": "stdout",
     "output_type": "stream",
     "text": [
      "Proceso terminado\n"
     ]
    }
   ],
   "source": [
    "cargar_en_redshift(conn=conn, table_name='currencyrate', dataframe=currencyrate)"
   ]
  },
  {
   "cell_type": "code",
   "execution_count": 8,
   "metadata": {},
   "outputs": [],
   "source": [
    "conn.close()"
   ]
  }
 ],
 "metadata": {
  "kernelspec": {
   "display_name": "Python 3",
   "language": "python",
   "name": "python3"
  },
  "language_info": {
   "codemirror_mode": {
    "name": "ipython",
    "version": 3
   },
   "file_extension": ".py",
   "mimetype": "text/x-python",
   "name": "python",
   "nbconvert_exporter": "python",
   "pygments_lexer": "ipython3",
   "version": "3.10.1"
  },
  "orig_nbformat": 4
 },
 "nbformat": 4,
 "nbformat_minor": 2
}
