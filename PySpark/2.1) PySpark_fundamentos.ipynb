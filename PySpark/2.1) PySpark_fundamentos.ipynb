{
 "cells": [
  {
   "cell_type": "code",
   "execution_count": 8,
   "metadata": {},
   "outputs": [],
   "source": [
    "import os \n",
    "os.environ['SPARK_HOME']=r'C:/spark/'\n",
    "os.environ['PYSPARK_DRIVER_PYTHON']='jupyter'\n",
    "os.environ['PYSPARK_DRIVER_PYTHON_OPTS']='lab'\n",
    "os.environ['PYSPARK_PYTHON']='python'\n",
    "from pyspark.sql import SparkSession\n",
    "# Crear una instancia de  SparkSession\n",
    "spark = SparkSession.builder.getOrCreate()\n",
    "# Crear un RDD[String], que represente el input\n",
    "#cada record pertenece a un RDD (Resilient Distributed Dataset) element\n",
    "records = spark.sparkContext.textFile(\"prueba.txt\")"
   ]
  },
  {
   "cell_type": "code",
   "execution_count": 9,
   "metadata": {},
   "outputs": [
    {
     "data": {
      "text/plain": [
       "prueba.txt MapPartitionsRDD[5] at textFile at NativeMethodAccessorImpl.java:0"
      ]
     },
     "execution_count": 9,
     "metadata": {},
     "output_type": "execute_result"
    }
   ],
   "source": [
    "records"
   ]
  },
  {
   "cell_type": "code",
   "execution_count": 10,
   "metadata": {},
   "outputs": [],
   "source": [
    "# Convertir cada elemento del RDD a lowercase\n",
    "# x denota un elemento unico del RDD\n",
    "# records: source RDD[String]\n",
    "records_lowercase = records.map(lambda x: x.lower())"
   ]
  },
  {
   "cell_type": "code",
   "execution_count": 11,
   "metadata": {},
   "outputs": [
    {
     "data": {
      "text/plain": [
       "['hola como estas, el dia de hoy ',\n",
       " 'muy bien y tu que tal',\n",
       " 'genial gracias, por saludarme',\n",
       " 'no hay de que, que tenga un gran dia']"
      ]
     },
     "execution_count": 11,
     "metadata": {},
     "output_type": "execute_result"
    }
   ],
   "source": [
    "records_lowercase.collect()"
   ]
  },
  {
   "cell_type": "code",
   "execution_count": 12,
   "metadata": {},
   "outputs": [],
   "source": [
    "# Separar cada record en una lista de palabras \n",
    "# records_lowercase: source RDD[String]\n",
    "# words: target RDD[String]\n",
    "words = records_lowercase.flatMap(lambda x: x.split(\",\"))"
   ]
  },
  {
   "cell_type": "code",
   "execution_count": 13,
   "metadata": {},
   "outputs": [
    {
     "data": {
      "text/plain": [
       "PythonRDD[7] at RDD at PythonRDD.scala:53"
      ]
     },
     "execution_count": 13,
     "metadata": {},
     "output_type": "execute_result"
    }
   ],
   "source": [
    "words"
   ]
  },
  {
   "cell_type": "code",
   "execution_count": 14,
   "metadata": {},
   "outputs": [
    {
     "data": {
      "text/plain": [
       "['hola como estas',\n",
       " ' el dia de hoy ',\n",
       " 'muy bien y tu que tal',\n",
       " 'genial gracias',\n",
       " ' por saludarme',\n",
       " 'no hay de que',\n",
       " ' que tenga un gran dia']"
      ]
     },
     "execution_count": 14,
     "metadata": {},
     "output_type": "execute_result"
    }
   ],
   "source": [
    "words.collect()"
   ]
  },
  {
   "cell_type": "code",
   "execution_count": 15,
   "metadata": {},
   "outputs": [
    {
     "data": {
      "text/plain": [
       "PythonRDD[8] at RDD at PythonRDD.scala:53"
      ]
     },
     "execution_count": 15,
     "metadata": {},
     "output_type": "execute_result"
    }
   ],
   "source": [
    "# Mantener las palabras con longitud mayor a 2\n",
    "# x denota las palabras\n",
    "# words: source RDD[String]\n",
    "# filtered: target RDD[String]\n",
    "filtered = words.filter(lambda x: len(x) > 2)\n",
    "filtered"
   ]
  },
  {
   "cell_type": "code",
   "execution_count": 16,
   "metadata": {},
   "outputs": [
    {
     "data": {
      "text/plain": [
       "['hola como estas',\n",
       " ' el dia de hoy ',\n",
       " 'muy bien y tu que tal',\n",
       " 'genial gracias',\n",
       " ' por saludarme',\n",
       " 'no hay de que',\n",
       " ' que tenga un gran dia']"
      ]
     },
     "execution_count": 16,
     "metadata": {},
     "output_type": "execute_result"
    }
   ],
   "source": [
    "# Mostrar resultadis\n",
    "filtered.collect() # filtro de mas de 2 caracteres/espacios"
   ]
  },
  {
   "cell_type": "code",
   "execution_count": 17,
   "metadata": {},
   "outputs": [
    {
     "data": {
      "text/plain": [
       "['hola',\n",
       " ' como',\n",
       " ' estas',\n",
       " ' el',\n",
       " ' dia',\n",
       " ' de',\n",
       " ' hoy ',\n",
       " 'muy bien y tu que tal',\n",
       " 'genial gracias',\n",
       " ' por saludarme',\n",
       " 'no hay de que',\n",
       " ' que tenga un gran dia']"
      ]
     },
     "execution_count": 17,
     "metadata": {},
     "output_type": "execute_result"
    }
   ],
   "source": [
    "words.collect() # separados por ,"
   ]
  },
  {
   "cell_type": "code",
   "execution_count": 18,
   "metadata": {},
   "outputs": [
    {
     "data": {
      "text/plain": [
       "['hola, como, estas, el, dia, de, hoy ',\n",
       " 'muy bien y tu que tal',\n",
       " 'genial gracias, por saludarme',\n",
       " 'no hay de que, que tenga un gran dia']"
      ]
     },
     "execution_count": 18,
     "metadata": {},
     "output_type": "execute_result"
    }
   ],
   "source": [
    "records_lowercase.collect() # minusculas"
   ]
  }
 ],
 "metadata": {
  "kernelspec": {
   "display_name": "Python 3",
   "language": "python",
   "name": "python3"
  },
  "language_info": {
   "codemirror_mode": {
    "name": "ipython",
    "version": 3
   },
   "file_extension": ".py",
   "mimetype": "text/x-python",
   "name": "python",
   "nbconvert_exporter": "python",
   "pygments_lexer": "ipython3",
   "version": "3.9.1"
  },
  "orig_nbformat": 4
 },
 "nbformat": 4,
 "nbformat_minor": 2
}
