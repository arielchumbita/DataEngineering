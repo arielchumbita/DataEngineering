{
 "cells": [
  {
   "cell_type": "code",
   "execution_count": 1,
   "metadata": {},
   "outputs": [
    {
     "name": "stdout",
     "output_type": "stream",
     "text": [
      "Incorrecto introduce un numero impar\n",
      "Incorrecto introduce un numero impar\n",
      "Ciclo finalizado\n"
     ]
    }
   ],
   "source": [
    "while True:\n",
    "    if int(input('Introduce un numero impar:'))% 2==0:\n",
    "        print('Incorrecto introduce un numero impar') \n",
    "    else:\n",
    "        print('Ciclo finalizado')\n",
    "        break\n",
    "#Prueba cambio"
   ]
  }
 ],
 "metadata": {
  "kernelspec": {
   "display_name": "Python 3",
   "language": "python",
   "name": "python3"
  },
  "language_info": {
   "codemirror_mode": {
    "name": "ipython",
    "version": 3
   },
   "file_extension": ".py",
   "mimetype": "text/x-python",
   "name": "python",
   "nbconvert_exporter": "python",
   "pygments_lexer": "ipython3",
   "version": "3.9.1"
  },
  "orig_nbformat": 4
 },
 "nbformat": 4,
 "nbformat_minor": 2
}
