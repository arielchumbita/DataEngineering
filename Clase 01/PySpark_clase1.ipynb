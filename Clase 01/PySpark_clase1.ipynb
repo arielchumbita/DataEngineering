{
 "cells": [
  {
   "cell_type": "code",
   "execution_count": 38,
   "metadata": {},
   "outputs": [],
   "source": [
    "import os \n",
    "os.environ['SPARK_HOME']=r'C:/spark/'\n",
    "os.environ['HADOOP_HOME'] = r'C:/hadoop/'\n",
    "os.environ['PYSPARK_DRIVER_PYTHON']='jupyter'\n",
    "os.environ['PYSPARK_DRIVER_PYTHON_OPTS']='lab'\n",
    "os.environ['PYSPARK_PYTHON']='python'"
   ]
  },
  {
   "cell_type": "code",
   "execution_count": 39,
   "metadata": {},
   "outputs": [
    {
     "name": "stdout",
     "output_type": "stream",
     "text": [
      "+----------+----------------+--------------------+--------------------+--------------------+------------+---+\n",
      "|customerid|            name|          occupation|               email|             company| phonenumber|Age|\n",
      "+----------+----------------+--------------------+--------------------+--------------------+------------+---+\n",
      "|         0|    David Melton|          Unemployed|    DMelton@zoho.com|Morris, Winters a...|409-093-0748| 16|\n",
      "|         1|Michael Gonzalez|             Student|Gonzalez_Michael@...|  Hernandez and Sons|231-845-0673| 19|\n",
      "|         2|   Amanda Wilson|             Student|Amanda.Wilson75@v...|Mooney, West and ...|844-276-4552| 18|\n",
      "|         3|   Robert Thomas|Engineer, structural| RThomas@xfinity.com|      Johnson-Gordon|410-404-8000| 25|\n",
      "|         4|      Eddie Hall|             Surgeon|EddieHall@outlook...|          Dawson LLC|872-287-2196| 30|\n",
      "+----------+----------------+--------------------+--------------------+--------------------+------------+---+\n",
      "only showing top 5 rows\n",
      "\n"
     ]
    }
   ],
   "source": [
    "from pyspark.sql import SparkSession\n",
    "# Crear Sesion spark\n",
    "spark = SparkSession.builder.appName(\"App1\").getOrCreate()\n",
    "# Leer la data\n",
    "customers = spark.read.csv(\"customers.csv\", header=True, inferSchema=True)\n",
    "agents = spark.read.csv(\"agents.csv\", header=True, inferSchema=True)\n",
    "calls = spark.read.csv(\"calls.csv\", header=True, inferSchema=True)\n",
    "# Mostremos la data\n",
    "customers.show(5)"
   ]
  },
  {
   "cell_type": "code",
   "execution_count": 40,
   "metadata": {},
   "outputs": [
    {
     "data": {
      "text/html": [
       "\n",
       "            <div>\n",
       "                <p><b>SparkSession - in-memory</b></p>\n",
       "                \n",
       "        <div>\n",
       "            <p><b>SparkContext</b></p>\n",
       "\n",
       "            <p><a href=\"http://host.docker.internal:4040\">Spark UI</a></p>\n",
       "\n",
       "            <dl>\n",
       "              <dt>Version</dt>\n",
       "                <dd><code>v3.4.1</code></dd>\n",
       "              <dt>Master</dt>\n",
       "                <dd><code>local[*]</code></dd>\n",
       "              <dt>AppName</dt>\n",
       "                <dd><code>App1</code></dd>\n",
       "            </dl>\n",
       "        </div>\n",
       "        \n",
       "            </div>\n",
       "        "
      ],
      "text/plain": [
       "<pyspark.sql.session.SparkSession at 0x2158b0a61c0>"
      ]
     },
     "execution_count": 40,
     "metadata": {},
     "output_type": "execute_result"
    }
   ],
   "source": [
    "spark"
   ]
  },
  {
   "cell_type": "code",
   "execution_count": 41,
   "metadata": {},
   "outputs": [
    {
     "name": "stdout",
     "output_type": "stream",
     "text": [
      "+-------+------------------+\n",
      "|agentid|              name|\n",
      "+-------+------------------+\n",
      "|      0|  Michele Williams|\n",
      "|      2|Christopher Moreno|\n",
      "+-------+------------------+\n",
      "\n"
     ]
    }
   ],
   "source": [
    "# Ejercicio 1\n",
    "agents.filter((agents.name.like('M%')) | (agents.name.like('%o'))).show(10)"
   ]
  },
  {
   "cell_type": "code",
   "execution_count": 42,
   "metadata": {},
   "outputs": [
    {
     "name": "stdout",
     "output_type": "stream",
     "text": [
      "+--------------------+\n",
      "|          occupation|\n",
      "+--------------------+\n",
      "|Engineer, aeronau...|\n",
      "|Engineer, agricul...|\n",
      "|Engineer, automotive|\n",
      "|Engineer, biomedical|\n",
      "|Engineer, broadca...|\n",
      "|Engineer, buildin...|\n",
      "|Engineer, civil (...|\n",
      "|Engineer, civil (...|\n",
      "|Engineer, communi...|\n",
      "|Engineer, control...|\n",
      "+--------------------+\n",
      "only showing top 10 rows\n",
      "\n"
     ]
    }
   ],
   "source": [
    "# Ejercicio 2 (Ojo es Case sensitive)\n",
    "customers \\\n",
    "    .filter(customers.occupation.like('%Engineer%')) \\\n",
    "    .select(\"occupation\") \\\n",
    "    .distinct() \\\n",
    "    .orderBy(\"occupation\").show(10)"
   ]
  },
  {
   "cell_type": "code",
   "execution_count": 43,
   "metadata": {},
   "outputs": [
    {
     "data": {
      "text/plain": [
       "[Row(occupation='Engineer, production'),\n",
       " Row(occupation='Engineer, site'),\n",
       " Row(occupation='Engineer, structural'),\n",
       " Row(occupation='Engineer, technical sales'),\n",
       " Row(occupation='Engineer, water')]"
      ]
     },
     "execution_count": 43,
     "metadata": {},
     "output_type": "execute_result"
    }
   ],
   "source": [
    "customers \\\n",
    "    .filter(customers.occupation.like('%Engineer%')) \\\n",
    "    .select(\"occupation\") \\\n",
    "    .distinct() \\\n",
    "    .orderBy(\"occupation\").tail(5)"
   ]
  },
  {
   "cell_type": "code",
   "execution_count": 44,
   "metadata": {},
   "outputs": [
    {
     "name": "stdout",
     "output_type": "stream",
     "text": [
      "+----------+---------------+------+\n",
      "|customerID|           name|Over30|\n",
      "+----------+---------------+------+\n",
      "|       900|Aaron Gutierrez|   Yes|\n",
      "|       461|  Aaron Hendrix|    No|\n",
      "|       145| Aaron Mcintyre|    No|\n",
      "|       622|     Aaron Rose|    No|\n",
      "|        65|   Adam Jimenez|    No|\n",
      "|       958|   Adam Leonard|    No|\n",
      "|       226|      Adam Ward|    No|\n",
      "|       202| Adrian Aguilar|    No|\n",
      "|       786|  Alan Chambers|    No|\n",
      "|       985|  Alan Mitchell|   Yes|\n",
      "|       881|Alexandra Allen|    No|\n",
      "|       916| Alexandra Rowe|    No|\n",
      "|       684|    Alexis Hart|    No|\n",
      "|       432|  Alexis Riddle|    No|\n",
      "|       568|      Alice Lee|    No|\n",
      "|       539|   Alicia Brown|   Yes|\n",
      "|       830| Alicia Leonard|    No|\n",
      "|       474|  Alicia Martin|   Yes|\n",
      "|       918| Alison Vaughan|   Yes|\n",
      "|       991|Allen Robertson|    No|\n",
      "+----------+---------------+------+\n",
      "only showing top 20 rows\n",
      "\n"
     ]
    }
   ],
   "source": [
    "# Ejercicio 3\n",
    "from pyspark.sql.functions import when, col\n",
    "customers.select(\n",
    "    \"customerID\",\n",
    "    \"name\",\n",
    "    when(col(\"Age\") >= 30, \"Yes\")\n",
    "    .when(col(\"Age\") < 30, \"No\")\n",
    "    .otherwise(\"Missing Data\")\n",
    "    .alias(\"Over30\")\n",
    ").orderBy(col(\"Name\").asc()).show()"
   ]
  },
  {
   "cell_type": "code",
   "execution_count": 45,
   "metadata": {},
   "outputs": [
    {
     "name": "stdout",
     "output_type": "stream",
     "text": [
      "+------+----------+-------------+-----------+------+\n",
      "|callID|customerID|         name|productSold|Over30|\n",
      "+------+----------+-------------+-----------+------+\n",
      "|  3688|       699|Willie Greene|          0|   Yes|\n",
      "|  6270|       699|Willie Greene|          0|   Yes|\n",
      "|  4150|       699|Willie Greene|          0|   Yes|\n",
      "|  1817|       699|Willie Greene|          0|   Yes|\n",
      "|  4900|       699|Willie Greene|          1|   Yes|\n",
      "+------+----------+-------------+-----------+------+\n",
      "only showing top 5 rows\n",
      "\n"
     ]
    }
   ],
   "source": [
    "# Ejercicio 4\n",
    "joined_df = customers.alias(\"Cu\") \\\n",
    "    .join(calls.alias(\"Ca\"), col(\"Ca.customerID\") == col(\"Cu.customerID\"), \"inner\")\n",
    "\n",
    "#print(joined_df.show())\n",
    "# Seleccionar columnas de interes y aplicar CASE \n",
    "result_df = joined_df.select(\n",
    "    \"Ca.callID\",\n",
    "    col(\"Cu.customerID\"),\n",
    "    col(\"Cu.name\"),\n",
    "    col(\"Cu.occupation\"),\n",
    "    col(\"Ca.productSold\"),\n",
    "    when(col(\"Cu.age\") >= 30, \"Yes\")\n",
    "    .when(col(\"Cu.age\") < 30, \"No\")\n",
    "    .otherwise(\"Missing Data\")\n",
    "    .alias(\"Over30\")\n",
    ")\n",
    "\n",
    "result_df.\\\n",
    "    filter(result_df[\"Cu.occupation\"].like(\"%Engineer%\")).\\\n",
    "    orderBy(col(\"Cu.Name\").desc()).drop(\"occupation\").\\\n",
    "    show(5)"
   ]
  },
  {
   "cell_type": "code",
   "execution_count": 46,
   "metadata": {},
   "outputs": [
    {
     "name": "stdout",
     "output_type": "stream",
     "text": [
      "+----------+------+\n",
      "|TotalSales|NCalls|\n",
      "+----------+------+\n",
      "|       502|  2483|\n",
      "+----------+------+\n",
      "\n"
     ]
    }
   ],
   "source": [
    "# Ejercicio 5\n",
    "from pyspark.sql.functions import sum, count\n",
    "from pyspark.sql.functions import col\n",
    "\n",
    "customers.alias(\"Cu\") \\\n",
    "    .join(calls.alias(\"Ca\"), col(\"Ca.customerID\") == col(\"Cu.customerID\"), \"inner\").\\\n",
    "    filter(joined_df[\"Cu.occupation\"].like(\"%Engineer%\")).\\\n",
    "    select(\n",
    "    sum(col(\"Ca.productSold\")).alias(\"TotalSales\"),\n",
    "    count(\"*\").alias(\"NCalls\")).show(5)"
   ]
  },
  {
   "cell_type": "code",
   "execution_count": 47,
   "metadata": {},
   "outputs": [
    {
     "name": "stdout",
     "output_type": "stream",
     "text": [
      "+----------+------+\n",
      "|TotalSales|NCalls|\n",
      "+----------+------+\n",
      "|      2084|  9925|\n",
      "+----------+------+\n",
      "\n"
     ]
    }
   ],
   "source": [
    "customers.alias(\"Cu\") \\\n",
    "    .join(calls.alias(\"Ca\"), col(\"Ca.customerID\") == col(\"Cu.customerID\"), \"inner\").\\\n",
    "    select(\n",
    "    sum(col(\"Ca.productSold\")).alias(\"TotalSales\"),\n",
    "    count(\"*\").alias(\"NCalls\")).show(5)"
   ]
  },
  {
   "cell_type": "code",
   "execution_count": 48,
   "metadata": {},
   "outputs": [
    {
     "name": "stdout",
     "output_type": "stream",
     "text": [
      "+------------------+------+--------+-------+------------------+----------+\n",
      "|              name|nCalls|Shortest|Longest|       AvgDuration|TotalSales|\n",
      "+------------------+------+--------+-------+------------------+----------+\n",
      "|           Agent X|   640|      22|    334|           180.975|       194|\n",
      "|      Angel Briggs|   591|      12|    362|181.08121827411168|       157|\n",
      "|Christopher Moreno|   649|      47|    363|  177.979969183359|       189|\n",
      "|        Dana Hardy|   554|      49|    356|177.20397111913357|       182|\n",
      "|      Gloria Singh|   662|      36|    349|182.17522658610272|       209|\n",
      "|    Jocelyn Parker|   621|      40|    336|180.32689210950082|       184|\n",
      "|      Lisa Cordova|   639|      46|    344|179.21439749608763|       201|\n",
      "|  Michele Williams|   685|      22|    306|177.88029197080292|       198|\n",
      "|        Paul Nunez|   648|      -5|    323|  181.070987654321|       194|\n",
      "|       Randy Moore|   600|      16|    326|           178.595|       177|\n",
      "|       Todd Morrow|   631|      -3|    339|180.71156893819335|       204|\n",
      "+------------------+------+--------+-------+------------------+----------+\n",
      "\n"
     ]
    }
   ],
   "source": [
    "# Ejercicio 6\n",
    "from pyspark.sql.functions import col, count, min, max, avg, sum\n",
    "\n",
    "calls.alias(\"C\") \\\n",
    "    .join(agents.alias(\"A\"), col(\"C.agentID\") == col(\"A.agentID\"), \"inner\").\\\n",
    "    filter(col(\"C.pickeDup\") == 1).\\\n",
    "    groupby(\"A.name\").agg(\n",
    "    count(\"*\").alias(\"nCalls\"),\n",
    "    min(col(\"C.duration\")).alias(\"Shortest\"),\n",
    "    max(col(\"C.duration\")).alias(\"Longest\"),\n",
    "    avg(col(\"C.duration\")).alias(\"AvgDuration\"),\n",
    "    sum(col(\"C.productSold\")).alias(\"TotalSales\")\n",
    "    ).orderBy(col(\"A.name\").asc()).show()"
   ]
  },
  {
   "cell_type": "code",
   "execution_count": 49,
   "metadata": {},
   "outputs": [
    {
     "name": "stdout",
     "output_type": "stream",
     "text": [
      "+------------------+------------------+------------------+\n",
      "|              Name|    avgWhenNotSold|       avgWhenSold|\n",
      "+------------------+------------------+------------------+\n",
      "|           Agent X|109.81705639614856|             185.5|\n",
      "|      Angel Briggs|108.66160220994475|180.56050955414014|\n",
      "|Christopher Moreno| 112.4882108183079|182.03703703703704|\n",
      "|        Dana Hardy| 97.73082706766917|182.30769230769232|\n",
      "|      Gloria Singh|115.41143654114366|181.10047846889952|\n",
      "|    Jocelyn Parker|118.99848484848485| 181.7608695652174|\n",
      "|      Lisa Cordova|110.09470752089136|176.46766169154228|\n",
      "|  Michele Williams|111.77763496143959|176.18686868686868|\n",
      "|        Paul Nunez|113.24380165289256| 181.0257731958763|\n",
      "|       Randy Moore|107.28611898016997|177.47457627118644|\n",
      "+------------------+------------------+------------------+\n",
      "only showing top 10 rows\n",
      "\n"
     ]
    }
   ],
   "source": [
    "# Ejercicio 7\n",
    "calls.alias(\"c\") \\\n",
    "    .join(agents.alias(\"a\"), col(\"c.agentID\") == col(\"a.agentID\"), \"inner\").\\\n",
    "    groupby(\"a.Name\").agg(\n",
    "    (sum(when(col(\"c.productSold\") == 0, col(\"c.duration\")))/sum(when(col(\"c.productSold\") == 0, 1))).alias(\"avgWhenNotSold\"),\n",
    "    (sum(when(col(\"c.productSold\") == 1, col(\"c.duration\")))/sum(when(col(\"c.productSold\") == 1, 1))).alias(\"avgWhenSold\")\n",
    ").orderBy(col(\"a.name\")).show(10)"
   ]
  }
 ],
 "metadata": {
  "kernelspec": {
   "display_name": "Python 3",
   "language": "python",
   "name": "python3"
  },
  "language_info": {
   "codemirror_mode": {
    "name": "ipython",
    "version": 3
   },
   "file_extension": ".py",
   "mimetype": "text/x-python",
   "name": "python",
   "nbconvert_exporter": "python",
   "pygments_lexer": "ipython3",
   "version": "3.9.1"
  },
  "orig_nbformat": 4
 },
 "nbformat": 4,
 "nbformat_minor": 2
}
